{
 "nbformat": 4,
 "nbformat_minor": 0,
 "metadata": {
  "kernelspec": {
   "display_name": "Python 3",
   "language": "python",
   "name": "python3"
  },
  "language_info": {
   "codemirror_mode": {
    "name": "ipython",
    "version": 3
   },
   "file_extension": ".py",
   "mimetype": "text/x-python",
   "name": "python",
   "nbconvert_exporter": "python",
   "pygments_lexer": "ipython3",
   "version": "3.6.5"
  },
  "colab": {
   "name": "01 Gradient_Descent.ipynb",
   "provenance": [
    {
     "file_id": "1AzKyhVESaP9r90WD_Rz-kkLP4dVcFSqU",
     "timestamp": 1635863155166
    }
   ],
   "collapsed_sections": []
  }
 },
 "cells": [
  {
   "cell_type": "code",
   "metadata": {
    "id": "eq3WmXsBC5l1",
    "executionInfo": {
     "status": "ok",
     "timestamp": 1635868733605,
     "user_tz": -60,
     "elapsed": 371,
     "user": {
      "displayName": "Enrico Buchs",
      "photoUrl": "https://lh3.googleusercontent.com/a-/AOh14GhP98XjKRrYRqBVXlN-S0eXEQ93uZR_iYmbwfR16w=s64",
      "userId": "08940745416390111861"
     }
    }
   },
   "source": [
    "import numpy as np\n",
    "import random"
   ],
   "execution_count": 1,
   "outputs": []
  },
  {
   "cell_type": "code",
   "metadata": {
    "id": "THF8UAiAC5ml",
    "executionInfo": {
     "status": "ok",
     "timestamp": 1635868734167,
     "user_tz": -60,
     "elapsed": 24,
     "user": {
      "displayName": "Enrico Buchs",
      "photoUrl": "https://lh3.googleusercontent.com/a-/AOh14GhP98XjKRrYRqBVXlN-S0eXEQ93uZR_iYmbwfR16w=s64",
      "userId": "08940745416390111861"
     }
    }
   },
   "source": [
    "#X = [1,2,3,4,5,6,7,8,9] # ein neuron ein Dendrid\n",
    "#X = [1,3,4,33,55,3,4,5,8]\n",
    "X = np.linspace(1,10,20)\n",
    "#X_2 = [4,5,2,33,43,3,7,10,23]\n",
    "X_2 = np.linspace(1,10,20)\n",
    "X_3 = np.linspace(1,10,20)"
   ],
   "execution_count": 2,
   "outputs": []
  },
  {
   "cell_type": "code",
   "metadata": {
    "id": "02u2cCkhC5mt",
    "colab": {
     "base_uri": "https://localhost:8080/"
    },
    "executionInfo": {
     "status": "ok",
     "timestamp": 1635868734167,
     "user_tz": -60,
     "elapsed": 23,
     "user": {
      "displayName": "Enrico Buchs",
      "photoUrl": "https://lh3.googleusercontent.com/a-/AOh14GhP98XjKRrYRqBVXlN-S0eXEQ93uZR_iYmbwfR16w=s64",
      "userId": "08940745416390111861"
     }
    },
    "outputId": "b5fcb565-d5bc-4c3c-c177-b24ebd5a1864"
   },
   "source": [
    "#Y = [2*x + 6 for x in X] # ein Axon, immer nur eins, Function - \n",
    "# ab wann feuert er (hier sofort), wie werden die Inputs moduliert (hier mit 2*x + 6)\n",
    "#aktivierungs-funktion(Y), Schalter ein/aus\n",
    "Y = [2*x_1 + 7*x_2 + 3*x_3 + 6 for x_1, x_2, x_3 in zip(X, X_2, X_3)] # ein Axon, immer nur eins, Function - \n",
    "print(Y)\n",
    "\n"
   ],
   "execution_count": 3,
   "outputs": [
    {
     "name": "stdout",
     "output_type": "stream",
     "text": [
      "[18.0, 23.684210526315788, 29.368421052631575, 35.05263157894737, 40.73684210526315, 46.421052631578945, 52.10526315789474, 57.78947368421052, 63.4736842105263, 69.1578947368421, 74.84210526315789, 80.52631578947368, 86.21052631578948, 91.89473684210526, 97.57894736842104, 103.26315789473684, 108.9473684210526, 114.63157894736841, 120.31578947368419, 126.0]\n"
     ]
    }
   ]
  },
  {
   "cell_type": "markdown",
   "metadata": {
    "id": "qcyTvIVdRCen"
   },
   "source": [
    "$MSE = 1/N\\sum_{i=0} ^N (Y_i - (mX_i + b))^2$\n",
    "\n",
    "\n",
    "\n"
   ]
  },
  {
   "cell_type": "code",
   "metadata": {
    "id": "NwRMFgkNGdOF",
    "executionInfo": {
     "status": "ok",
     "timestamp": 1635868734168,
     "user_tz": -60,
     "elapsed": 21,
     "user": {
      "displayName": "Enrico Buchs",
      "photoUrl": "https://lh3.googleusercontent.com/a-/AOh14GhP98XjKRrYRqBVXlN-S0eXEQ93uZR_iYmbwfR16w=s64",
      "userId": "08940745416390111861"
     }
    }
   },
   "source": [
    "def update_weights(m, m_2,m_3, b, X, X_2, X_3, Y, learning_rate):\n",
    "    m_deriv = 0 \n",
    "    m_2_deriv = 0\n",
    "    m_3_deriv = 0\n",
    "    b_deriv = 0\n",
    "    N = len(X)\n",
    "    # Ableitung MSE\n",
    "    for i in range(N): # pytorch - backward # gradient tape\n",
    "        # Calculate partial derivatives\n",
    "        # -x (innere Ableitung) * 2(y - (mx + b)) (äussere Ableitung)\n",
    "        m_deriv += -2*X[i] * (Y[i] - (m*X[i] + m_2*X_2[i] + m_3*X_3[i] + b)) / 3\n",
    "        m_2_deriv += -2*X_2[i] * (Y[i] - (m*X[i] + m_2*X_2[i] + m_3*X_3[i] + b))  / 3\n",
    "        m_3_deriv += -2*X_3[i] * (Y[i] - (m*X[i] + m_2*X_2[i] + m_3*X_3[i] + b)) / 3\n",
    "\n",
    "        # -2(y - (mx + b))\n",
    "        b_deriv += -2*(Y[i] - (m*X[i] + m_2*X_2[i] + m_3*X_3[i] + b)) / 3\n",
    "        \n",
    "\n",
    "    # We subtract because the derivatives point in direction of steepest ascent\n",
    "    m -= (m_deriv / float(N)) * learning_rate # später - in pytorch step\n",
    "    m_2 -= (m_2_deriv / float(N)) * learning_rate # später - in pytorch step\n",
    "    m_3 -= (m_3_deriv / float(N)) * learning_rate # später - in pytorch step\n",
    "    b -= (b_deriv / float(N)) * learning_rate\n",
    "    history_m.append(m)\n",
    "    history_m.append(m_2)\n",
    "    history_m.append(m_3)\n",
    "    history_b.append(b)\n",
    "    \n",
    "    return m,m_2,m_3,b\n"
   ],
   "execution_count": 4,
   "outputs": []
  },
  {
   "cell_type": "code",
   "metadata": {
    "id": "v1OksWbTC5m1",
    "executionInfo": {
     "status": "ok",
     "timestamp": 1635868734168,
     "user_tz": -60,
     "elapsed": 21,
     "user": {
      "displayName": "Enrico Buchs",
      "photoUrl": "https://lh3.googleusercontent.com/a-/AOh14GhP98XjKRrYRqBVXlN-S0eXEQ93uZR_iYmbwfR16w=s64",
      "userId": "08940745416390111861"
     }
    }
   },
   "source": [
    "def train(epochs):\n",
    "    m=0\n",
    "    m_2=0\n",
    "    m_3=0\n",
    "    b=0\n",
    "    learning_rate=0.01\n",
    "    for i in range(epochs):\n",
    "        # abbruchskriterium - \"early stopping\"\n",
    "        m,m_2,m_3,b = update_weights(m, m_2, m_3, b, X, X_2, X_3, Y, learning_rate)\n",
    "    return m,m_2,m_3,b"
   ],
   "execution_count": 5,
   "outputs": []
  },
  {
   "cell_type": "code",
   "metadata": {
    "id": "K1dfObBvEBZ-",
    "executionInfo": {
     "status": "ok",
     "timestamp": 1635868734169,
     "user_tz": -60,
     "elapsed": 21,
     "user": {
      "displayName": "Enrico Buchs",
      "photoUrl": "https://lh3.googleusercontent.com/a-/AOh14GhP98XjKRrYRqBVXlN-S0eXEQ93uZR_iYmbwfR16w=s64",
      "userId": "08940745416390111861"
     }
    }
   },
   "source": [
    "epochs = 200\n",
    "history_m = []\n",
    "history_b = []"
   ],
   "execution_count": 6,
   "outputs": []
  },
  {
   "cell_type": "code",
   "metadata": {
    "id": "4WB7L5zkDmCp",
    "colab": {
     "base_uri": "https://localhost:8080/"
    },
    "executionInfo": {
     "status": "ok",
     "timestamp": 1635868734169,
     "user_tz": -60,
     "elapsed": 21,
     "user": {
      "displayName": "Enrico Buchs",
      "photoUrl": "https://lh3.googleusercontent.com/a-/AOh14GhP98XjKRrYRqBVXlN-S0eXEQ93uZR_iYmbwfR16w=s64",
      "userId": "08940745416390111861"
     }
    },
    "outputId": "4b4ac401-6264-4a6d-9332-8a14ac62597a"
   },
   "source": [
    "train(epochs)"
   ],
   "execution_count": 7,
   "outputs": [
    {
     "data": {
      "text/plain": "(4.201499858826661, 4.201499858826661, 4.201499858826661, 1.8624701326254265)"
     },
     "execution_count": 7,
     "metadata": {},
     "output_type": "execute_result"
    }
   ]
  },
  {
   "cell_type": "code",
   "metadata": {
    "id": "sgxMhSdGC5m5",
    "colab": {
     "base_uri": "https://localhost:8080/"
    },
    "executionInfo": {
     "status": "ok",
     "timestamp": 1635868734170,
     "user_tz": -60,
     "elapsed": 20,
     "user": {
      "displayName": "Enrico Buchs",
      "photoUrl": "https://lh3.googleusercontent.com/a-/AOh14GhP98XjKRrYRqBVXlN-S0eXEQ93uZR_iYmbwfR16w=s64",
      "userId": "08940745416390111861"
     }
    },
    "outputId": "b92b81b8-1284-49d8-9543-9436738e074f"
   },
   "source": [
    "len(history_m)"
   ],
   "execution_count": 8,
   "outputs": [
    {
     "data": {
      "text/plain": "600"
     },
     "execution_count": 8,
     "metadata": {},
     "output_type": "execute_result"
    }
   ]
  },
  {
   "cell_type": "code",
   "metadata": {
    "colab": {
     "base_uri": "https://localhost:8080/"
    },
    "id": "iO6qs0QBHxsQ",
    "executionInfo": {
     "status": "ok",
     "timestamp": 1635868734170,
     "user_tz": -60,
     "elapsed": 17,
     "user": {
      "displayName": "Enrico Buchs",
      "photoUrl": "https://lh3.googleusercontent.com/a-/AOh14GhP98XjKRrYRqBVXlN-S0eXEQ93uZR_iYmbwfR16w=s64",
      "userId": "08940745416390111861"
     }
    },
    "outputId": "fd4128d5-257a-4552-e395-567405db6e15"
   },
   "source": [
    "len(history_b)"
   ],
   "execution_count": 9,
   "outputs": [
    {
     "data": {
      "text/plain": "200"
     },
     "execution_count": 9,
     "metadata": {},
     "output_type": "execute_result"
    }
   ]
  },
  {
   "cell_type": "code",
   "metadata": {
    "id": "X2aYNirqC5m_",
    "executionInfo": {
     "status": "ok",
     "timestamp": 1635868734170,
     "user_tz": -60,
     "elapsed": 12,
     "user": {
      "displayName": "Enrico Buchs",
      "photoUrl": "https://lh3.googleusercontent.com/a-/AOh14GhP98XjKRrYRqBVXlN-S0eXEQ93uZR_iYmbwfR16w=s64",
      "userId": "08940745416390111861"
     }
    }
   },
   "source": [
    "#history_m[500]"
   ],
   "execution_count": 10,
   "outputs": []
  },
  {
   "cell_type": "code",
   "metadata": {
    "id": "3iveKxlzC5nE",
    "executionInfo": {
     "status": "ok",
     "timestamp": 1635868734171,
     "user_tz": -60,
     "elapsed": 13,
     "user": {
      "displayName": "Enrico Buchs",
      "photoUrl": "https://lh3.googleusercontent.com/a-/AOh14GhP98XjKRrYRqBVXlN-S0eXEQ93uZR_iYmbwfR16w=s64",
      "userId": "08940745416390111861"
     }
    }
   },
   "source": [
    "#history_b[1999]\n",
    "#history_b[299]"
   ],
   "execution_count": 11,
   "outputs": []
  },
  {
   "cell_type": "code",
   "metadata": {
    "id": "nFweka_OC5nL",
    "executionInfo": {
     "status": "ok",
     "timestamp": 1635868734171,
     "user_tz": -60,
     "elapsed": 12,
     "user": {
      "displayName": "Enrico Buchs",
      "photoUrl": "https://lh3.googleusercontent.com/a-/AOh14GhP98XjKRrYRqBVXlN-S0eXEQ93uZR_iYmbwfR16w=s64",
      "userId": "08940745416390111861"
     }
    }
   },
   "source": [
    "import matplotlib.pyplot as plt\n",
    "plt.rcdefaults()\n",
    "from pylab import rcParams\n",
    "%matplotlib inline"
   ],
   "execution_count": 12,
   "outputs": []
  },
  {
   "cell_type": "code",
   "metadata": {
    "id": "8wEgA9THC5nR",
    "colab": {
     "base_uri": "https://localhost:8080/",
     "height": 505
    },
    "executionInfo": {
     "status": "ok",
     "timestamp": 1635868734605,
     "user_tz": -60,
     "elapsed": 445,
     "user": {
      "displayName": "Enrico Buchs",
      "photoUrl": "https://lh3.googleusercontent.com/a-/AOh14GhP98XjKRrYRqBVXlN-S0eXEQ93uZR_iYmbwfR16w=s64",
      "userId": "08940745416390111861"
     }
    },
    "outputId": "c60beaeb-400c-4874-abe7-3c51e8175575"
   },
   "source": [
    "\n",
    "plt.figure(figsize=(12,8))\n",
    "plt.plot(history_m[0:epochs])\n",
    "plt.plot(history_b[0:epochs])\n",
    "\n",
    "plt.axhline(y=2, xmin=0, xmax=epochs, c='r', linewidth=4,linestyle='--')\n",
    "plt.axhline(y=6, xmin=0, xmax=epochs, c='b', linewidth=4, linestyle=':')\n",
    "plt.ylabel('m',fontsize= 18)\n",
    "plt.xlabel('b',fontsize= 18)\n",
    "plt.legend(['m', 'b'], loc='upper right', fontsize= 18);"
   ],
   "execution_count": 13,
   "outputs": [
    {
     "data": {
      "text/plain": "<Figure size 864x576 with 1 Axes>",
      "image/png": "[encoded data removed]"
     },
     "metadata": {
      "needs_background": "light"
     },
     "output_type": "display_data"
    }
   ]
  },
  {
   "cell_type": "code",
   "metadata": {
    "id": "khRjikcVC5nW",
    "executionInfo": {
     "status": "ok",
     "timestamp": 1635868734608,
     "user_tz": -60,
     "elapsed": 9,
     "user": {
      "displayName": "Enrico Buchs",
      "photoUrl": "https://lh3.googleusercontent.com/a-/AOh14GhP98XjKRrYRqBVXlN-S0eXEQ93uZR_iYmbwfR16w=s64",
      "userId": "08940745416390111861"
     }
    }
   },
   "source": [
    ""
   ],
   "execution_count": 13,
   "outputs": []
  },
  {
   "cell_type": "markdown",
   "metadata": {
    "id": "lkGInNnhDiVb"
   },
   "source": [
    "Aufgabe:\n",
    "1. Ggeneriert mehr Daten(x)\n",
    "2. Probiert Variationen von Loss\n",
    "  - Exponent 4\n",
    "  - Kein Mittelwert der Summe\n",
    "  - Effekt zusammen"
   ]
  }
 ]
}