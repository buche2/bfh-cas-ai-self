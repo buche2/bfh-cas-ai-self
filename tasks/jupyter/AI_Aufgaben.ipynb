{
 "nbformat": 4,
 "nbformat_minor": 0,
 "metadata": {
  "colab": {
   "name": "AI_Aufgaben.ipynb",
   "provenance": [],
   "collapsed_sections": [],
   "authorship_tag": "ABX9TyM79d/JRjPbX2FIzzeB0txy"
  },
  "kernelspec": {
   "name": "python3",
   "language": "python",
   "display_name": "Python 3 (ipykernel)"
  },
  "language_info": {
   "name": "python"
  }
 },
 "cells": [
  {
   "cell_type": "markdown",
   "metadata": {
    "id": "PX7x7r71pGyI"
   },
   "source": [
    "# Tag 1\n",
    "\n",
    "## Aufgabe Hausaufgabe 1\n",
    "\n",
    "Perceptron: https://colab.research.google.com/drive/10vkq0wYDpZJkxRWzlxwcRFY1q0tOooCO  \n"
   ]
  },
  {
   "cell_type": "code",
   "metadata": {
    "id": "oFDNw-63pEg1"
   },
   "source": [
    "import numpy as np\n",
    "\n",
    "class Perceptron(object):\n",
    "\n",
    "    def __init__(self, dim_inputs, epochs=100, learning_rate=0.01):\n",
    "        self.epochs = epochs\n",
    "        self.learning_rate = learning_rate\n",
    "        self.weights = np.zeros(dim_inputs + 1)  # plus 1 for bias\n",
    "\n",
    "    def predict_batch(self, inputs):\n",
    "        res_vector = np.dot(inputs, self.weights[1:]) + self.weights[0]\n",
    "        activations = [1 if elem > 0 else 0 for elem in res_vector]\n",
    "        return np.array(activations)\n",
    "\n",
    "    def predict(self, inputs):\n",
    "        res = np.dot(inputs, self.weights[1:]) + self.weights[0]\n",
    "        # self.weights[0] is the bias\n",
    "        if res > 0:\n",
    "            activation = 1\n",
    "        else:\n",
    "            activation = 0\n",
    "        return activation\n",
    "\n",
    "    def train(self, training_inputs, labels):\n",
    "        for _ in range(self.epochs):\n",
    "            for inputs, label in zip(training_inputs, labels):\n",
    "                prediction = self.predict(inputs)\n",
    "                self.weights[1:] += self.learning_rate * (label - prediction) * inputs  # update weights\n",
    "                self.weights[0] += self.learning_rate * (label - prediction)  # update bias"
   ],
   "execution_count": 1,
   "outputs": []
  },
  {
   "cell_type": "code",
   "metadata": {
    "colab": {
     "base_uri": "https://localhost:8080/"
    },
    "id": "MSTKi_IzRn98",
    "executionInfo": {
     "status": "ok",
     "timestamp": 1636118802668,
     "user_tz": -60,
     "elapsed": 664,
     "user": {
      "displayName": "Enrico Buchs",
      "photoUrl": "https://lh3.googleusercontent.com/a-/AOh14GhP98XjKRrYRqBVXlN-S0eXEQ93uZR_iYmbwfR16w=s64",
      "userId": "08940745416390111861"
     }
    },
    "outputId": "0e8fcae2-5d13-4385-cf64-3836193096ef"
   },
   "source": [
    "import numpy as np\n",
    "import torch\n",
    "from sklearn.metrics import accuracy_score\n",
    "\n",
    "\n",
    "import random\n",
    "def y(x, m, b):\n",
    "  return m*x*x + b\n",
    "  #return m * x + b\n",
    "\n",
    "nb = 100\n",
    "ma = 2000\n",
    "#100\n",
    "X = np.linspace(0, 10, nb)\n",
    "#40\n",
    "y_above = [y(x, 10, 5) + abs(random.gauss(20,ma)) for x in X]\n",
    "y_below = [y(x, 10, 5) - abs(random.gauss(20,ma)) for x in X]\n",
    "import matplotlib.pyplot as plt\n",
    "plt.scatter(X, y_below, c='b')\n",
    "plt.scatter(X, y_above, c='g')\n",
    "plt.plot(X, y(X, 10, 5),linestyle='solid', c='r', linewidth=3, label='decision boundary')\n",
    "plt.legend()\n",
    "plt.show()\n",
    "\n",
    "#100\n",
    "x_1 = np.linspace(0, 10, nb)\n",
    "\n",
    "x_2 = np.array([y(elem, 10, 5) + abs(random.gauss(20,ma)) for elem in x_1])\n",
    "class_ones = np.column_stack((x_1, x_2))\n",
    "\n",
    "x_2 = np.array([y(elem, 10, 5) - abs(random.gauss(20,ma)) for elem in x_1])\n",
    "class_zeros = np.column_stack((x_1, x_2))\n",
    "\n",
    "training_inputs = np.vstack((class_ones, class_zeros))\n",
    "\n",
    "print(training_inputs.shape)\n",
    "\n",
    "labels = np.hstack((np.ones(nb), np.zeros(nb))).T\n",
    "labels.shape\n",
    "\n",
    "#from perceptron import Perceptron\n",
    "\n",
    "perceptron = Perceptron(2, epochs=100, learning_rate=0.01)\n",
    "perceptron.train(training_inputs, labels)\n",
    "\n",
    "print(perceptron.predict_batch(class_ones))\n",
    "\n",
    "print(perceptron.predict_batch(class_zeros))\n",
    "\n",
    "print(perceptron.weights[1:])\n",
    "\n",
    "print(perceptron.weights)\n",
    "\n",
    "print(perceptron.weights[0])"
   ],
   "execution_count": 2,
   "outputs": [
    {
     "data": {
      "text/plain": "<Figure size 432x288 with 1 Axes>",
      "image/png": "[encoded data removed]"
     },
     "metadata": {
      "needs_background": "light"
     },
     "output_type": "display_data"
    },
    {
     "name": "stdout",
     "output_type": "stream",
     "text": [
      "(200, 2)\n",
      "[1 1 1 1 1 1 1 1 1 1 1 1 1 1 1 1 1 1 1 1 1 1 1 1 1 1 1 1 1 1 1 1 1 1 1 1 1\n",
      " 1 1 1 1 1 1 1 1 1 1 1 1 1 1 1 1 1 1 1 1 1 1 1 1 1 1 1 1 1 1 1 1 1 1 1 1 1\n",
      " 1 1 1 1 1 1 1 1 1 1 1 1 1 1 1 1 1 1 1 1 1 1 1 1 1 1]\n",
      "[0 0 0 0 0 0 0 0 0 0 0 0 0 0 0 0 0 0 0 0 0 0 0 0 0 0 0 0 0 0 0 0 1 0 0 0 0\n",
      " 0 0 0 0 0 0 0 0 0 0 0 0 0 0 0 0 0 0 0 0 0 0 1 0 0 0 1 0 0 0 0 0 1 0 1 0 0\n",
      " 1 0 0 0 0 1 0 0 1 0 0 0 0 0 0 0 0 0 0 0 0 1 0 0 0 0]\n",
      "[-66.1         10.74581118]\n",
      "[ -9.03       -66.1         10.74581118]\n",
      "-9.029999999999852\n"
     ]
    }
   ]
  },
  {
   "cell_type": "markdown",
   "metadata": {
    "id": "jW-UPRpcxVFl"
   },
   "source": [
    "# Tag 2\n",
    "\n",
    "## Hausaufgabe Quiz\n",
    "\n",
    "Daten In (10,3)  \n",
    "\n",
    "Layers: 2 => 5 => 3 => 1  \n",
    "\n",
    "### Resultat\n",
    "Layer 1: Shape In (3,2); Out (10,2); Parameter 3\\*2+2 = 8  \n",
    "Layer 2: Shape In (2,5); Out (10,5); Parameter 2\\*5+5 = 15  \n",
    "Layer 3: Shape In (5,3); Out (10,3); Parameter 5\\*3+3 = 18  \n",
    "Layer 4: Shape In (3,1); Out (10,1); Parameter 3\\*1+1 = 4  \n",
    "\n",
    "## Aufgabe Ableitungen\n",
    "\n",
    "Ableitungen, x^2 = 2 \\*x^1  \n",
    "Formeln durchschauen: https://www.formelsammlung.ch/pdf/FOSA_Muster_M_D.pdf  \n",
    "Ableitungen Video schauen: https://www.youtube.com/watch?v=wdwv80OGCns  \n",
    "https://www.youtube.com/watch?v=NSMd49P4n7I"
   ]
  },
  {
   "cell_type": "markdown",
   "metadata": {
    "id": "SbXG3WnFnUge"
   },
   "source": [
    "# Tag 3\n",
    "\n",
    "Authencoder und Decoder (nur nützliche Daten) - Anwendungsbereich: Datenbereinigen, Anomalien erkennen (eher Showcase), Datengenerierung als Nützlichstes "
   ]
  }
 ]
}