{
 "nbformat": 4,
 "nbformat_minor": 0,
 "metadata": {
  "colab": {
   "name": "Learning-Aktien.ipynb",
   "provenance": [],
   "collapsed_sections": [],
   "authorship_tag": "ABX9TyP29CFfF/SshnHdeA6EAtGQ"
  },
  "kernelspec": {
   "name": "python3",
   "language": "python",
   "display_name": "Python 3 (ipykernel)"
  },
  "language_info": {
   "name": "python"
  }
 },
 "cells": [
  {
   "cell_type": "code",
   "metadata": {
    "colab": {
     "base_uri": "https://localhost:8080/"
    },
    "id": "in-niTxC37pV",
    "executionInfo": {
     "status": "ok",
     "timestamp": 1636470137527,
     "user_tz": -60,
     "elapsed": 3110,
     "user": {
      "displayName": "Enrico Buchs",
      "photoUrl": "https://lh3.googleusercontent.com/a-/AOh14GhP98XjKRrYRqBVXlN-S0eXEQ93uZR_iYmbwfR16w=s64",
      "userId": "08940745416390111861"
     }
    },
    "outputId": "d6fd288e-c913-45ed-b761-c1f6e35395f1"
   },
   "source": [
    "!pip install yfinance"
   ],
   "execution_count": 3,
   "outputs": [
    {
     "name": "stdout",
     "output_type": "stream",
     "text": [
      "Requirement already satisfied: yfinance in c:\\users\\enrico\\pycharmprojects\\bfh-ai-1\\venv\\lib\\site-packages (0.1.67)\n",
      "Requirement already satisfied: lxml>=4.5.1 in c:\\users\\enrico\\pycharmprojects\\bfh-ai-1\\venv\\lib\\site-packages (from yfinance) (4.6.4)\n",
      "Requirement already satisfied: multitasking>=0.0.7 in c:\\users\\enrico\\pycharmprojects\\bfh-ai-1\\venv\\lib\\site-packages (from yfinance) (0.0.10)\n",
      "Requirement already satisfied: pandas>=0.24 in c:\\users\\enrico\\pycharmprojects\\bfh-ai-1\\venv\\lib\\site-packages (from yfinance) (1.3.4)\n",
      "Requirement already satisfied: numpy>=1.15 in c:\\python39\\lib\\site-packages (from yfinance) (1.19.5)\n",
      "Requirement already satisfied: requests>=2.20 in c:\\python39\\lib\\site-packages (from yfinance) (2.26.0)\n",
      "Requirement already satisfied: pytz>=2017.3 in c:\\users\\enrico\\pycharmprojects\\bfh-ai-1\\venv\\lib\\site-packages (from pandas>=0.24->yfinance) (2021.3)\n",
      "Requirement already satisfied: python-dateutil>=2.7.3 in c:\\python39\\lib\\site-packages (from pandas>=0.24->yfinance) (2.8.2)\n",
      "Requirement already satisfied: six>=1.5 in c:\\python39\\lib\\site-packages (from python-dateutil>=2.7.3->pandas>=0.24->yfinance) (1.15.0)\n",
      "Requirement already satisfied: urllib3<1.27,>=1.21.1 in c:\\python39\\lib\\site-packages (from requests>=2.20->yfinance) (1.26.7)\n",
      "Requirement already satisfied: charset-normalizer~=2.0.0 in c:\\python39\\lib\\site-packages (from requests>=2.20->yfinance) (2.0.7)\n",
      "Requirement already satisfied: idna<4,>=2.5 in c:\\python39\\lib\\site-packages (from requests>=2.20->yfinance) (3.3)\n",
      "Requirement already satisfied: certifi>=2017.4.17 in c:\\python39\\lib\\site-packages (from requests>=2.20->yfinance) (2021.10.8)\n"
     ]
    },
    {
     "name": "stderr",
     "output_type": "stream",
     "text": [
      "WARNING: You are using pip version 21.1.2; however, version 21.3.1 is available.\n",
      "You should consider upgrading via the 'C:\\Users\\Enrico\\PycharmProjects\\bfh-ai-1\\venv\\Scripts\\python.exe -m pip install --upgrade pip' command.\n"
     ]
    }
   ]
  },
  {
   "cell_type": "code",
   "metadata": {
    "id": "9_TfSM9j1w4-",
    "executionInfo": {
     "status": "ok",
     "timestamp": 1636470137531,
     "user_tz": -60,
     "elapsed": 26,
     "user": {
      "displayName": "Enrico Buchs",
      "photoUrl": "https://lh3.googleusercontent.com/a-/AOh14GhP98XjKRrYRqBVXlN-S0eXEQ93uZR_iYmbwfR16w=s64",
      "userId": "08940745416390111861"
     }
    }
   },
   "source": [
    "import pandas as pd\n",
    "import numpy as np\n",
    "import os.path\n",
    "from functools import reduce\n",
    "\n",
    "\n",
    "import bs4 as bs\n",
    "import requests\n",
    "import yfinance as yf\n",
    "import datetime\n",
    "import time\n",
    "import os\n",
    "import pandas_datareader as web\n",
    "import warnings\n",
    "warnings.filterwarnings('ignore')\n",
    "\n",
    "import matplotlib.pyplot as plt\n"
   ],
   "execution_count": 4,
   "outputs": []
  },
  {
   "cell_type": "code",
   "metadata": {
    "id": "zDv5u7b03PYp",
    "executionInfo": {
     "status": "ok",
     "timestamp": 1636470137532,
     "user_tz": -60,
     "elapsed": 24,
     "user": {
      "displayName": "Enrico Buchs",
      "photoUrl": "https://lh3.googleusercontent.com/a-/AOh14GhP98XjKRrYRqBVXlN-S0eXEQ93uZR_iYmbwfR16w=s64",
      "userId": "08940745416390111861"
     }
    }
   },
   "source": [
    "class MyDataset():\n",
    "\n",
    "    def __init__(self):\n",
    "        self.url = 'http://en.wikipedia.org/wiki/List_of_S%26P_500_companies'\n",
    "        self.stocks_fname = \"sp500_closefull.csv\"\n",
    "        self.start = datetime.datetime(2010, 1, 1)\n",
    "        self.stop = datetime.datetime.now()\n",
    "        self.Ntest = 1000\n",
    "        self.now = time.time()\n",
    "\n",
    "    def get_train_test(self) -> pd.DataFrame:\n",
    "\n",
    "        start = self.start  \n",
    "        end = self.stop \n",
    "\n",
    "\n",
    "        if not os.path.isfile(self.stocks_fname):\n",
    "          resp = requests.get(self.url)\n",
    "          soup = bs.BeautifulSoup(resp.text, 'lxml')\n",
    "          table = soup.find('table', {'class': 'wikitable sortable'})\n",
    "          tickers = []\n",
    "\n",
    "          for row in table.findAll('tr')[1:]:\n",
    "              ticker = row.findAll('td')[0].text\n",
    "              tickers.append(ticker)\n",
    "\n",
    "          tickers = [s.replace('\\n', '') for s in tickers]\n",
    "          data = yf.download(tickers, start=start, end=end)\n",
    "          data['Adj Close'].to_csv(self.stocks_fname)\n",
    "\n",
    "        df0 = pd.read_csv(self.stocks_fname, index_col=0, parse_dates=True)\n",
    "\n",
    "        df_spy = yf.download(\"SPY\", start=start, end=end)\n",
    "\n",
    "        #df_spy = web.DataReader(\"SPY\", \"yahoo\", start=start, end=end)\n",
    "        df_spy = df_spy.loc[:, ['Adj Close']]\n",
    "        df_spy.columns = ['SPY']\n",
    "        df0 = pd.concat([df0, df_spy], axis=1)\n",
    "\n",
    "\n",
    "        #df0.dropna(axis=1, how='all', inplace=True)\n",
    "        df0.dropna(axis=0, how='all', inplace=True)\n",
    "        print(\"Dropping columns due to nans > 50%:\", df0.loc[:, list((100 * (df0.isnull().sum() / len(df0.index)) > 50))].columns)\n",
    "        df0 = df0.drop(df0.loc[:, list((100 * (df0.isnull().sum() / len(df0.index)) > 50))].columns, 1)\n",
    "        df0 = df0.ffill().bfill()\n",
    "\n",
    "        print(\"Any columns still contain nans:\", df0.isnull().values.any())\n",
    "\n",
    "        df_returns = pd.DataFrame()\n",
    "        for name in df0.columns:\n",
    "          df_returns[name] = np.log(df0[name]).diff()\n",
    "\n",
    "        #df_returns['SPY_PRICE'] = df0['SPY']\n",
    "        #df_returns[self.config.stocks_adj_close_names] = df0[self.config.stocks]\n",
    "        # split into train and test\n",
    "        df_returns.dropna(axis=0, how='any', inplace=True)\n",
    "\n",
    "\n",
    "        train_data = df_returns.iloc[:-self.Ntest]\n",
    "        test_data = df_returns.iloc[-self.Ntest:]\n",
    "\n",
    "\n",
    "        return train_data, test_data"
   ],
   "execution_count": 5,
   "outputs": []
  },
  {
   "cell_type": "code",
   "metadata": {
    "colab": {
     "base_uri": "https://localhost:8080/"
    },
    "id": "uuNgY4oO3V_J",
    "executionInfo": {
     "status": "ok",
     "timestamp": 1636470139512,
     "user_tz": -60,
     "elapsed": 2003,
     "user": {
      "displayName": "Enrico Buchs",
      "photoUrl": "https://lh3.googleusercontent.com/a-/AOh14GhP98XjKRrYRqBVXlN-S0eXEQ93uZR_iYmbwfR16w=s64",
      "userId": "08940745416390111861"
     }
    },
    "outputId": "24a420fa-0327-42cd-ae7f-08163e2c3ce3"
   },
   "source": [
    "dataset = MyDataset()\n",
    "train, test = dataset.get_train_test()"
   ],
   "execution_count": 6,
   "outputs": [
    {
     "name": "stdout",
     "output_type": "stream",
     "text": [
      "[*********************100%***********************]  505 of 505 completed\n",
      "\n",
      "2 Failed downloads:\n",
      "- BRK.B: No data found, symbol may be delisted\n",
      "- BF.B: None\n",
      "[*********************100%***********************]  1 of 1 completed\n",
      "Dropping columns due to nans > 50%: Index(['BF.B', 'BRK.B', 'CARR', 'CDAY', 'CTVA', 'DOW', 'FOX', 'FOXA', 'FTV',\n",
      "       'HWM', 'IR', 'LW', 'MRNA', 'OGN', 'OTIS', 'UA'],\n",
      "      dtype='object')\n",
      "Any columns still contain nans: False\n"
     ]
    }
   ]
  },
  {
   "cell_type": "code",
   "metadata": {
    "colab": {
     "base_uri": "https://localhost:8080/",
     "height": 369
    },
    "id": "vnextH-g3c1U",
    "executionInfo": {
     "status": "ok",
     "timestamp": 1636470139565,
     "user_tz": -60,
     "elapsed": 283,
     "user": {
      "displayName": "Enrico Buchs",
      "photoUrl": "https://lh3.googleusercontent.com/a-/AOh14GhP98XjKRrYRqBVXlN-S0eXEQ93uZR_iYmbwfR16w=s64",
      "userId": "08940745416390111861"
     }
    },
    "outputId": "d66600b0-54b2-4c0b-a61a-215ede816cb7"
   },
   "source": [
    "train.head(5)"
   ],
   "execution_count": 7,
   "outputs": [
    {
     "data": {
      "text/plain": "                   A       AAL       AAP      AAPL  ABBV       ABC      ABMD  \\\nDate                                                                           \n2010-01-04  0.007375 -0.014569 -0.002474  0.015445   0.0  0.021253  0.001145   \n2010-01-05 -0.010922  0.107246 -0.005961  0.001727   0.0 -0.007160 -0.024321   \n2010-01-06 -0.003559 -0.042314  0.008682 -0.016034   0.0 -0.009501 -0.015358   \n2010-01-07 -0.001297  0.029043 -0.000247 -0.001850   0.0 -0.016166  0.000000   \n2010-01-08 -0.000325 -0.019269  0.003945  0.006626   0.0  0.010807 -0.020446   \n\n                 ABT       ACN      ADBE  ...      XLNX       XOM      XRAY  \\\nDate                                      ...                                 \n2010-01-04  0.008668  0.013641  0.008393  ...  0.012689  0.013980  0.004539   \n2010-01-05 -0.008112  0.006162  0.016313  ... -0.012689  0.003897 -0.011959   \n2010-01-06  0.005539  0.010574 -0.002124  ... -0.006807  0.008606  0.006566   \n2010-01-07  0.008250 -0.000935 -0.019595  ... -0.010095 -0.003147  0.013005   \n2010-01-08  0.005099 -0.003986 -0.005436  ...  0.014505 -0.004020  0.000000   \n\n            XYL       YUM       ZBH      ZBRA      ZION  ZTS       SPY  \nDate                                                                    \n2010-01-04  0.0  0.003426  0.015277  0.011224  0.038231  0.0  0.016817  \n2010-01-05  0.0 -0.003426  0.031165 -0.001745  0.034652  0.0  0.002644  \n2010-01-06  0.0 -0.007174 -0.000323 -0.007717  0.083381  0.0  0.000704  \n2010-01-07  0.0 -0.000288  0.022681 -0.025318  0.106160  0.0  0.004212  \n2010-01-08  0.0  0.000288 -0.021228 -0.003256 -0.016319  0.0  0.003322  \n\n[5 rows x 490 columns]",
      "text/html": "<div>\n<style scoped>\n    .dataframe tbody tr th:only-of-type {\n        vertical-align: middle;\n    }\n\n    .dataframe tbody tr th {\n        vertical-align: top;\n    }\n\n    .dataframe thead th {\n        text-align: right;\n    }\n</style>\n<table border=\"1\" class=\"dataframe\">\n  <thead>\n    <tr style=\"text-align: right;\">\n      <th></th>\n      <th>A</th>\n      <th>AAL</th>\n      <th>AAP</th>\n      <th>AAPL</th>\n      <th>ABBV</th>\n      <th>ABC</th>\n      <th>ABMD</th>\n      <th>ABT</th>\n      <th>ACN</th>\n      <th>ADBE</th>\n      <th>...</th>\n      <th>XLNX</th>\n      <th>XOM</th>\n      <th>XRAY</th>\n      <th>XYL</th>\n      <th>YUM</th>\n      <th>ZBH</th>\n      <th>ZBRA</th>\n      <th>ZION</th>\n      <th>ZTS</th>\n      <th>SPY</th>\n    </tr>\n    <tr>\n      <th>Date</th>\n      <th></th>\n      <th></th>\n      <th></th>\n      <th></th>\n      <th></th>\n      <th></th>\n      <th></th>\n      <th></th>\n      <th></th>\n      <th></th>\n      <th></th>\n      <th></th>\n      <th></th>\n      <th></th>\n      <th></th>\n      <th></th>\n      <th></th>\n      <th></th>\n      <th></th>\n      <th></th>\n      <th></th>\n    </tr>\n  </thead>\n  <tbody>\n    <tr>\n      <th>2010-01-04</th>\n      <td>0.007375</td>\n      <td>-0.014569</td>\n      <td>-0.002474</td>\n      <td>0.015445</td>\n      <td>0.0</td>\n      <td>0.021253</td>\n      <td>0.001145</td>\n      <td>0.008668</td>\n      <td>0.013641</td>\n      <td>0.008393</td>\n      <td>...</td>\n      <td>0.012689</td>\n      <td>0.013980</td>\n      <td>0.004539</td>\n      <td>0.0</td>\n      <td>0.003426</td>\n      <td>0.015277</td>\n      <td>0.011224</td>\n      <td>0.038231</td>\n      <td>0.0</td>\n      <td>0.016817</td>\n    </tr>\n    <tr>\n      <th>2010-01-05</th>\n      <td>-0.010922</td>\n      <td>0.107246</td>\n      <td>-0.005961</td>\n      <td>0.001727</td>\n      <td>0.0</td>\n      <td>-0.007160</td>\n      <td>-0.024321</td>\n      <td>-0.008112</td>\n      <td>0.006162</td>\n      <td>0.016313</td>\n      <td>...</td>\n      <td>-0.012689</td>\n      <td>0.003897</td>\n      <td>-0.011959</td>\n      <td>0.0</td>\n      <td>-0.003426</td>\n      <td>0.031165</td>\n      <td>-0.001745</td>\n      <td>0.034652</td>\n      <td>0.0</td>\n      <td>0.002644</td>\n    </tr>\n    <tr>\n      <th>2010-01-06</th>\n      <td>-0.003559</td>\n      <td>-0.042314</td>\n      <td>0.008682</td>\n      <td>-0.016034</td>\n      <td>0.0</td>\n      <td>-0.009501</td>\n      <td>-0.015358</td>\n      <td>0.005539</td>\n      <td>0.010574</td>\n      <td>-0.002124</td>\n      <td>...</td>\n      <td>-0.006807</td>\n      <td>0.008606</td>\n      <td>0.006566</td>\n      <td>0.0</td>\n      <td>-0.007174</td>\n      <td>-0.000323</td>\n      <td>-0.007717</td>\n      <td>0.083381</td>\n      <td>0.0</td>\n      <td>0.000704</td>\n    </tr>\n    <tr>\n      <th>2010-01-07</th>\n      <td>-0.001297</td>\n      <td>0.029043</td>\n      <td>-0.000247</td>\n      <td>-0.001850</td>\n      <td>0.0</td>\n      <td>-0.016166</td>\n      <td>0.000000</td>\n      <td>0.008250</td>\n      <td>-0.000935</td>\n      <td>-0.019595</td>\n      <td>...</td>\n      <td>-0.010095</td>\n      <td>-0.003147</td>\n      <td>0.013005</td>\n      <td>0.0</td>\n      <td>-0.000288</td>\n      <td>0.022681</td>\n      <td>-0.025318</td>\n      <td>0.106160</td>\n      <td>0.0</td>\n      <td>0.004212</td>\n    </tr>\n    <tr>\n      <th>2010-01-08</th>\n      <td>-0.000325</td>\n      <td>-0.019269</td>\n      <td>0.003945</td>\n      <td>0.006626</td>\n      <td>0.0</td>\n      <td>0.010807</td>\n      <td>-0.020446</td>\n      <td>0.005099</td>\n      <td>-0.003986</td>\n      <td>-0.005436</td>\n      <td>...</td>\n      <td>0.014505</td>\n      <td>-0.004020</td>\n      <td>0.000000</td>\n      <td>0.0</td>\n      <td>0.000288</td>\n      <td>-0.021228</td>\n      <td>-0.003256</td>\n      <td>-0.016319</td>\n      <td>0.0</td>\n      <td>0.003322</td>\n    </tr>\n  </tbody>\n</table>\n<p>5 rows × 490 columns</p>\n</div>"
     },
     "execution_count": 7,
     "metadata": {},
     "output_type": "execute_result"
    }
   ]
  },
  {
   "cell_type": "code",
   "metadata": {
    "colab": {
     "base_uri": "https://localhost:8080/",
     "height": 282
    },
    "id": "K5qah4ik3fui",
    "executionInfo": {
     "status": "ok",
     "timestamp": 1636470140564,
     "user_tz": -60,
     "elapsed": 1228,
     "user": {
      "displayName": "Enrico Buchs",
      "photoUrl": "https://lh3.googleusercontent.com/a-/AOh14GhP98XjKRrYRqBVXlN-S0eXEQ93uZR_iYmbwfR16w=s64",
      "userId": "08940745416390111861"
     }
    },
    "outputId": "2058e978-1dfb-4124-b6d6-7f8d14b362ea"
   },
   "source": [
    "plt.plot(train.SPY)"
   ],
   "execution_count": 8,
   "outputs": [
    {
     "data": {
      "text/plain": "[<matplotlib.lines.Line2D at 0x2c819ba4b50>]"
     },
     "execution_count": 8,
     "metadata": {},
     "output_type": "execute_result"
    },
    {
     "data": {
      "text/plain": "<Figure size 432x288 with 1 Axes>",
      "image/png": "[encoded data removed]"
     },
     "metadata": {
      "needs_background": "light"
     },
     "output_type": "display_data"
    }
   ]
  },
  {
   "cell_type": "code",
   "metadata": {
    "id": "3IwQXblD3h9M",
    "executionInfo": {
     "status": "ok",
     "timestamp": 1636470140576,
     "user_tz": -60,
     "elapsed": 333,
     "user": {
      "displayName": "Enrico Buchs",
      "photoUrl": "https://lh3.googleusercontent.com/a-/AOh14GhP98XjKRrYRqBVXlN-S0eXEQ93uZR_iYmbwfR16w=s64",
      "userId": "08940745416390111861"
     }
    }
   },
   "source": [
    "train_labels = train.SPY.values\n",
    "test_labes = train.SPY.values"
   ],
   "execution_count": 9,
   "outputs": []
  },
  {
   "cell_type": "code",
   "metadata": {
    "colab": {
     "base_uri": "https://localhost:8080/"
    },
    "id": "7wqt9Lx23ldT",
    "executionInfo": {
     "status": "ok",
     "timestamp": 1636470140583,
     "user_tz": -60,
     "elapsed": 338,
     "user": {
      "displayName": "Enrico Buchs",
      "photoUrl": "https://lh3.googleusercontent.com/a-/AOh14GhP98XjKRrYRqBVXlN-S0eXEQ93uZR_iYmbwfR16w=s64",
      "userId": "08940745416390111861"
     }
    },
    "outputId": "727b756e-473b-4a3f-bf88-93a15fb0e27d"
   },
   "source": [
    "train_labels.shape"
   ],
   "execution_count": 10,
   "outputs": [
    {
     "data": {
      "text/plain": "(2003,)"
     },
     "execution_count": 10,
     "metadata": {},
     "output_type": "execute_result"
    }
   ]
  },
  {
   "cell_type": "code",
   "metadata": {
    "id": "x7xn8YeS3mEh",
    "executionInfo": {
     "status": "ok",
     "timestamp": 1636470140612,
     "user_tz": -60,
     "elapsed": 305,
     "user": {
      "displayName": "Enrico Buchs",
      "photoUrl": "https://lh3.googleusercontent.com/a-/AOh14GhP98XjKRrYRqBVXlN-S0eXEQ93uZR_iYmbwfR16w=s64",
      "userId": "08940745416390111861"
     }
    }
   },
   "source": [
    "train_features = train.iloc[:, :-1].values\n",
    "test_features = train.iloc[:, :-1].values"
   ],
   "execution_count": 11,
   "outputs": []
  },
  {
   "cell_type": "code",
   "metadata": {
    "colab": {
     "base_uri": "https://localhost:8080/"
    },
    "id": "_pnp-DR33pzK",
    "executionInfo": {
     "status": "ok",
     "timestamp": 1636470140622,
     "user_tz": -60,
     "elapsed": 312,
     "user": {
      "displayName": "Enrico Buchs",
      "photoUrl": "https://lh3.googleusercontent.com/a-/AOh14GhP98XjKRrYRqBVXlN-S0eXEQ93uZR_iYmbwfR16w=s64",
      "userId": "08940745416390111861"
     }
    },
    "outputId": "f13fb0c8-2b2b-4b36-ddb7-482e3607e177"
   },
   "source": [
    "train_features.shape"
   ],
   "execution_count": 12,
   "outputs": [
    {
     "data": {
      "text/plain": "(2003, 489)"
     },
     "execution_count": 12,
     "metadata": {},
     "output_type": "execute_result"
    }
   ]
  },
  {
   "cell_type": "code",
   "metadata": {
    "colab": {
     "base_uri": "https://localhost:8080/"
    },
    "id": "h1Px83xC3qe5",
    "executionInfo": {
     "status": "ok",
     "timestamp": 1636470140627,
     "user_tz": -60,
     "elapsed": 299,
     "user": {
      "displayName": "Enrico Buchs",
      "photoUrl": "https://lh3.googleusercontent.com/a-/AOh14GhP98XjKRrYRqBVXlN-S0eXEQ93uZR_iYmbwfR16w=s64",
      "userId": "08940745416390111861"
     }
    },
    "outputId": "b95180b4-7732-4ccd-e247-3dfc3ceac4fc"
   },
   "source": [
    "import torch\n",
    "from torch import nn\n",
    "from torch.utils.data import DataLoader\n",
    "from torchvision import datasets\n",
    "from torchvision.transforms import ToTensor, Lambda, Compose\n",
    "import matplotlib.pyplot as plt\n",
    "\n",
    "import torch.utils.data as data_utils\n",
    "\n",
    "device = \"cuda\" if torch.cuda.is_available() else \"cpu\"\n",
    "print(\"Using {} device\".format(device))\n",
    "\n",
    "train_labels = torch.tensor(train_labels).float().to(device)\n",
    "test_labels = torch.tensor(train_labels).float().to(device)"
   ],
   "execution_count": 13,
   "outputs": [
    {
     "name": "stdout",
     "output_type": "stream",
     "text": [
      "Using cpu device\n"
     ]
    }
   ]
  },
  {
   "cell_type": "code",
   "metadata": {
    "id": "Fz65jAOB3tOU",
    "executionInfo": {
     "status": "ok",
     "timestamp": 1636470140630,
     "user_tz": -60,
     "elapsed": 292,
     "user": {
      "displayName": "Enrico Buchs",
      "photoUrl": "https://lh3.googleusercontent.com/a-/AOh14GhP98XjKRrYRqBVXlN-S0eXEQ93uZR_iYmbwfR16w=s64",
      "userId": "08940745416390111861"
     }
    }
   },
   "source": [
    "train_features = torch.tensor(train_features).float().to(device)\n",
    "test_features = torch.tensor(test_features).float().to(device)\n"
   ],
   "execution_count": 14,
   "outputs": []
  },
  {
   "cell_type": "code",
   "metadata": {
    "id": "LffIagQB3xrl",
    "executionInfo": {
     "status": "ok",
     "timestamp": 1636470140632,
     "user_tz": -60,
     "elapsed": 293,
     "user": {
      "displayName": "Enrico Buchs",
      "photoUrl": "https://lh3.googleusercontent.com/a-/AOh14GhP98XjKRrYRqBVXlN-S0eXEQ93uZR_iYmbwfR16w=s64",
      "userId": "08940745416390111861"
     }
    }
   },
   "source": [
    "training_data=data_utils.TensorDataset(train_features, train_labels)\n",
    "test_data=data_utils.TensorDataset(test_features, test_labels)"
   ],
   "execution_count": 15,
   "outputs": []
  },
  {
   "cell_type": "code",
   "metadata": {
    "colab": {
     "base_uri": "https://localhost:8080/"
    },
    "id": "68-yucXC6Uik",
    "executionInfo": {
     "status": "ok",
     "timestamp": 1636470140635,
     "user_tz": -60,
     "elapsed": 294,
     "user": {
      "displayName": "Enrico Buchs",
      "photoUrl": "https://lh3.googleusercontent.com/a-/AOh14GhP98XjKRrYRqBVXlN-S0eXEQ93uZR_iYmbwfR16w=s64",
      "userId": "08940745416390111861"
     }
    },
    "outputId": "5119bd6d-7f0a-45df-b7bb-f27bb5064a1c"
   },
   "source": [
    "batch_size = 64\n",
    "\n",
    "# Create data loaders.\n",
    "train_dataloader = DataLoader(training_data, batch_size=batch_size)\n",
    "test_dataloader = DataLoader(test_data, batch_size=batch_size)\n",
    "\n",
    "for X, y in test_dataloader:\n",
    "    print(\"Shape of X [N, C, H, W]: \", X.shape)\n",
    "    print(\"Shape of y: \", y.shape, y.dtype)\n",
    "    break"
   ],
   "execution_count": 16,
   "outputs": [
    {
     "name": "stdout",
     "output_type": "stream",
     "text": [
      "Shape of X [N, C, H, W]:  torch.Size([64, 489])\n",
      "Shape of y:  torch.Size([64]) torch.float32\n"
     ]
    }
   ]
  },
  {
   "cell_type": "code",
   "metadata": {
    "colab": {
     "base_uri": "https://localhost:8080/"
    },
    "id": "JBmFowoG64RX",
    "executionInfo": {
     "status": "ok",
     "timestamp": 1636471169249,
     "user_tz": -60,
     "elapsed": 239,
     "user": {
      "displayName": "Enrico Buchs",
      "photoUrl": "https://lh3.googleusercontent.com/a-/AOh14GhP98XjKRrYRqBVXlN-S0eXEQ93uZR_iYmbwfR16w=s64",
      "userId": "08940745416390111861"
     }
    },
    "outputId": "b5b2874e-90c6-487b-9f0e-d381e41f4efa"
   },
   "source": [
    "# Define model\n",
    "class NeuralNetwork(nn.Module):\n",
    "    def __init__(self):\n",
    "        super(NeuralNetwork, self).__init__()\n",
    "        self.flatten = nn.Flatten()\n",
    "        #self.linear_relu_stack = nn.Sequential(\n",
    "        #    nn.Linear(28*28, 512), #Dense\n",
    "        #    nn.ReLU(),\n",
    "        #    nn.Linear(512, 512),\n",
    "        #    nn.ReLU(),\n",
    "        #    nn.Linear(512, 10)\n",
    "        #)\n",
    "        self.linear_relu_stack = nn.Sequential(\n",
    "            nn.Linear(489, 36), #Dense\n",
    "            nn.ReLU(),\n",
    "            nn.Linear(36, 256),\n",
    "            nn.ReLU(),\n",
    "            nn.Linear(256, 512),\n",
    "            nn.ReLU(),\n",
    "            nn.Linear(512, 1),\n",
    "            nn.Sigmoid()\n",
    "        )\n",
    "\n",
    "    def forward(self, x):\n",
    "        x = self.flatten(x)\n",
    "        logits = self.linear_relu_stack(x)\n",
    "        return logits\n",
    "\n",
    "model = NeuralNetwork().to(device)\n",
    "print(model)"
   ],
   "execution_count": 17,
   "outputs": [
    {
     "name": "stdout",
     "output_type": "stream",
     "text": [
      "NeuralNetwork(\n",
      "  (flatten): Flatten(start_dim=1, end_dim=-1)\n",
      "  (linear_relu_stack): Sequential(\n",
      "    (0): Linear(in_features=489, out_features=36, bias=True)\n",
      "    (1): ReLU()\n",
      "    (2): Linear(in_features=36, out_features=256, bias=True)\n",
      "    (3): ReLU()\n",
      "    (4): Linear(in_features=256, out_features=512, bias=True)\n",
      "    (5): ReLU()\n",
      "    (6): Linear(in_features=512, out_features=1, bias=True)\n",
      "    (7): Sigmoid()\n",
      "  )\n",
      ")\n"
     ]
    }
   ]
  },
  {
   "cell_type": "code",
   "metadata": {
    "id": "UdTzVL0Q692c",
    "executionInfo": {
     "status": "ok",
     "timestamp": 1636471169650,
     "user_tz": -60,
     "elapsed": 18,
     "user": {
      "displayName": "Enrico Buchs",
      "photoUrl": "https://lh3.googleusercontent.com/a-/AOh14GhP98XjKRrYRqBVXlN-S0eXEQ93uZR_iYmbwfR16w=s64",
      "userId": "08940745416390111861"
     }
    }
   },
   "source": [
    "loss_fn = nn.MSELoss(reduce=\"mean\") # backward (gradienten werden gebildet partial derivatives der loss function und gradient)\n",
    "#loss_fn = nn.MSELoss()\n",
    "#optimizer = torch.optim.SGD(model.parameters(), lr=1e-3)\n",
    "optimizer = torch.optim.Adam(model.parameters(), lr=1e-3) # step (update) params = params - learningrate * grad"
   ],
   "execution_count": 18,
   "outputs": []
  },
  {
   "cell_type": "code",
   "metadata": {
    "id": "ve3M__DS8Dy3",
    "executionInfo": {
     "status": "ok",
     "timestamp": 1636471169652,
     "user_tz": -60,
     "elapsed": 19,
     "user": {
      "displayName": "Enrico Buchs",
      "photoUrl": "https://lh3.googleusercontent.com/a-/AOh14GhP98XjKRrYRqBVXlN-S0eXEQ93uZR_iYmbwfR16w=s64",
      "userId": "08940745416390111861"
     }
    }
   },
   "source": [
    "def train(dataloader, model, loss_fn, optimizer, epochs=20):\n",
    "    size = len(dataloader.dataset)\n",
    "    model.train()\n",
    "    for e in range(epochs):\n",
    "      print('Epoch: ', e)\n",
    "      for batch, (X, y) in enumerate(dataloader):\n",
    "          X, y = X.to(device), y.to(device)\n",
    "\n",
    "          # Compute prediction error\n",
    "          pred = model(X)\n",
    "          #if X dann trainiere auf model 2\n",
    "          loss = loss_fn(pred, y)\n",
    "\n",
    "          # Backpropagation\n",
    "          optimizer.zero_grad()\n",
    "          loss.backward()\n",
    "          optimizer.step()\n",
    "\n",
    "          if batch % 10 == 0:\n",
    "              loss, current = loss.item(), batch * len(X)\n",
    "              print(f\"loss: {loss:>7f}  [{current:>5d}/{size:>5d}]\")"
   ],
   "execution_count": 19,
   "outputs": []
  },
  {
   "cell_type": "code",
   "metadata": {
    "id": "wr9FReaf8FgH",
    "executionInfo": {
     "status": "ok",
     "timestamp": 1636471169653,
     "user_tz": -60,
     "elapsed": 18,
     "user": {
      "displayName": "Enrico Buchs",
      "photoUrl": "https://lh3.googleusercontent.com/a-/AOh14GhP98XjKRrYRqBVXlN-S0eXEQ93uZR_iYmbwfR16w=s64",
      "userId": "08940745416390111861"
     }
    }
   },
   "source": [
    "def test(dataloader, model, loss_fn):\n",
    "    size = len(dataloader.dataset)\n",
    "    num_batches = len(dataloader)\n",
    "    model.eval()   \n",
    "    test_losses = []\n",
    "    test_preds = []\n",
    "    test_trues = []\n",
    "    with torch.no_grad():\n",
    "        for X, y in dataloader:\n",
    "            X, y = X.to(device), y.to(device)\n",
    "            pred = model(X)\n",
    "            test_loss = loss_fn(pred, y).item()\n",
    "            test_preds.append(pred.numpy())\n",
    "            test_trues.append(y.numpy())\n",
    "            test_losses.append(test_loss)\n",
    "            \n",
    "\n",
    "    \n",
    "    test_losses = np.array(test_losses).ravel()\n",
    "    test_preds = np.array(test_preds).ravel()\n",
    "    test_trues = np.array(test_trues).ravel()\n",
    "    print(test_preds.shape)\n",
    "    print(test_trues.shape)\n",
    "\n",
    "    test_error = np.sum(np.abs(test_preds - test_trues))/ np.sum(np.abs(test_trues))\n",
    "\n",
    "    print('Test Loss:', np.mean(test_losses))\n",
    "    print('Test Error:', test_error)"
   ],
   "execution_count": 20,
   "outputs": []
  },
  {
   "cell_type": "code",
   "metadata": {
    "colab": {
     "base_uri": "https://localhost:8080/"
    },
    "id": "wyJyspkZ8LGt",
    "executionInfo": {
     "status": "ok",
     "timestamp": 1636471173112,
     "user_tz": -60,
     "elapsed": 3475,
     "user": {
      "displayName": "Enrico Buchs",
      "photoUrl": "https://lh3.googleusercontent.com/a-/AOh14GhP98XjKRrYRqBVXlN-S0eXEQ93uZR_iYmbwfR16w=s64",
      "userId": "08940745416390111861"
     }
    },
    "outputId": "747c0aa1-95c0-4888-e2e4-d2e71377e7ce"
   },
   "source": [
    "#epochs = 5\n",
    "\n",
    "#for t in range(epochs):\n",
    " #   print(f\"Epoch {t+1}\\n-------------------------------\")\n",
    "train(train_dataloader, model, loss_fn, optimizer)\n",
    "test(test_dataloader, model, loss_fn)\n",
    "print(\"Done!\")"
   ],
   "execution_count": 21,
   "outputs": [
    {
     "name": "stdout",
     "output_type": "stream",
     "text": [
      "Epoch:  0\n",
      "loss: 0.262104  [    0/ 2003]\n",
      "loss: 0.089882  [  640/ 2003]\n",
      "loss: 0.009204  [ 1280/ 2003]\n",
      "loss: 0.000603  [ 1920/ 2003]\n",
      "Epoch:  1\n",
      "loss: 0.000316  [    0/ 2003]\n",
      "loss: 0.000085  [  640/ 2003]\n",
      "loss: 0.000062  [ 1280/ 2003]\n",
      "loss: 0.000020  [ 1920/ 2003]\n",
      "Epoch:  2\n",
      "loss: 0.000083  [    0/ 2003]\n",
      "loss: 0.000050  [  640/ 2003]\n",
      "loss: 0.000050  [ 1280/ 2003]\n",
      "loss: 0.000013  [ 1920/ 2003]\n",
      "Epoch:  3\n",
      "loss: 0.000079  [    0/ 2003]\n",
      "loss: 0.000048  [  640/ 2003]\n",
      "loss: 0.000047  [ 1280/ 2003]\n",
      "loss: 0.000012  [ 1920/ 2003]\n",
      "Epoch:  4\n",
      "loss: 0.000079  [    0/ 2003]\n",
      "loss: 0.000047  [  640/ 2003]\n",
      "loss: 0.000047  [ 1280/ 2003]\n",
      "loss: 0.000012  [ 1920/ 2003]\n",
      "Epoch:  5\n",
      "loss: 0.000079  [    0/ 2003]\n",
      "loss: 0.000047  [  640/ 2003]\n",
      "loss: 0.000046  [ 1280/ 2003]\n",
      "loss: 0.000012  [ 1920/ 2003]\n",
      "Epoch:  6\n",
      "loss: 0.000079  [    0/ 2003]\n",
      "loss: 0.000047  [  640/ 2003]\n",
      "loss: 0.000046  [ 1280/ 2003]\n",
      "loss: 0.000012  [ 1920/ 2003]\n",
      "Epoch:  7\n",
      "loss: 0.000079  [    0/ 2003]\n",
      "loss: 0.000047  [  640/ 2003]\n",
      "loss: 0.000046  [ 1280/ 2003]\n",
      "loss: 0.000012  [ 1920/ 2003]\n",
      "Epoch:  8\n",
      "loss: 0.000079  [    0/ 2003]\n",
      "loss: 0.000048  [  640/ 2003]\n",
      "loss: 0.000046  [ 1280/ 2003]\n",
      "loss: 0.000012  [ 1920/ 2003]\n",
      "Epoch:  9\n",
      "loss: 0.000079  [    0/ 2003]\n",
      "loss: 0.000048  [  640/ 2003]\n",
      "loss: 0.000046  [ 1280/ 2003]\n",
      "loss: 0.000012  [ 1920/ 2003]\n",
      "Epoch:  10\n",
      "loss: 0.000079  [    0/ 2003]\n",
      "loss: 0.000048  [  640/ 2003]\n",
      "loss: 0.000046  [ 1280/ 2003]\n",
      "loss: 0.000012  [ 1920/ 2003]\n",
      "Epoch:  11\n",
      "loss: 0.000079  [    0/ 2003]\n",
      "loss: 0.000048  [  640/ 2003]\n",
      "loss: 0.000046  [ 1280/ 2003]\n",
      "loss: 0.000012  [ 1920/ 2003]\n",
      "Epoch:  12\n",
      "loss: 0.000079  [    0/ 2003]\n",
      "loss: 0.000048  [  640/ 2003]\n",
      "loss: 0.000046  [ 1280/ 2003]\n",
      "loss: 0.000012  [ 1920/ 2003]\n",
      "Epoch:  13\n",
      "loss: 0.000079  [    0/ 2003]\n",
      "loss: 0.000048  [  640/ 2003]\n",
      "loss: 0.000046  [ 1280/ 2003]\n",
      "loss: 0.000012  [ 1920/ 2003]\n",
      "Epoch:  14\n",
      "loss: 0.000079  [    0/ 2003]\n",
      "loss: 0.000048  [  640/ 2003]\n",
      "loss: 0.000046  [ 1280/ 2003]\n",
      "loss: 0.000012  [ 1920/ 2003]\n",
      "Epoch:  15\n",
      "loss: 0.000079  [    0/ 2003]\n",
      "loss: 0.000048  [  640/ 2003]\n",
      "loss: 0.000046  [ 1280/ 2003]\n",
      "loss: 0.000012  [ 1920/ 2003]\n",
      "Epoch:  16\n",
      "loss: 0.000079  [    0/ 2003]\n",
      "loss: 0.000048  [  640/ 2003]\n",
      "loss: 0.000046  [ 1280/ 2003]\n",
      "loss: 0.000012  [ 1920/ 2003]\n",
      "Epoch:  17\n",
      "loss: 0.000079  [    0/ 2003]\n",
      "loss: 0.000048  [  640/ 2003]\n",
      "loss: 0.000046  [ 1280/ 2003]\n",
      "loss: 0.000012  [ 1920/ 2003]\n",
      "Epoch:  18\n",
      "loss: 0.000079  [    0/ 2003]\n",
      "loss: 0.000048  [  640/ 2003]\n",
      "loss: 0.000046  [ 1280/ 2003]\n",
      "loss: 0.000012  [ 1920/ 2003]\n",
      "Epoch:  19\n",
      "loss: 0.000079  [    0/ 2003]\n",
      "loss: 0.000048  [  640/ 2003]\n",
      "loss: 0.000046  [ 1280/ 2003]\n",
      "loss: 0.000012  [ 1920/ 2003]\n",
      "(32,)\n",
      "(32,)\n"
     ]
    },
    {
     "ename": "ValueError",
     "evalue": "operands could not be broadcast together with shapes (64,64) (19,19) ",
     "output_type": "error",
     "traceback": [
      "\u001B[1;31m---------------------------------------------------------------------------\u001B[0m",
      "\u001B[1;31mValueError\u001B[0m                                Traceback (most recent call last)",
      "\u001B[1;32m~\\AppData\\Local\\Temp/ipykernel_24400/3411730055.py\u001B[0m in \u001B[0;36m<module>\u001B[1;34m\u001B[0m\n\u001B[0;32m      4\u001B[0m  \u001B[1;31m#   print(f\"Epoch {t+1}\\n-------------------------------\")\u001B[0m\u001B[1;33m\u001B[0m\u001B[1;33m\u001B[0m\u001B[1;33m\u001B[0m\u001B[0m\n\u001B[0;32m      5\u001B[0m \u001B[0mtrain\u001B[0m\u001B[1;33m(\u001B[0m\u001B[0mtrain_dataloader\u001B[0m\u001B[1;33m,\u001B[0m \u001B[0mmodel\u001B[0m\u001B[1;33m,\u001B[0m \u001B[0mloss_fn\u001B[0m\u001B[1;33m,\u001B[0m \u001B[0moptimizer\u001B[0m\u001B[1;33m)\u001B[0m\u001B[1;33m\u001B[0m\u001B[1;33m\u001B[0m\u001B[0m\n\u001B[1;32m----> 6\u001B[1;33m \u001B[0mtest\u001B[0m\u001B[1;33m(\u001B[0m\u001B[0mtest_dataloader\u001B[0m\u001B[1;33m,\u001B[0m \u001B[0mmodel\u001B[0m\u001B[1;33m,\u001B[0m \u001B[0mloss_fn\u001B[0m\u001B[1;33m)\u001B[0m\u001B[1;33m\u001B[0m\u001B[1;33m\u001B[0m\u001B[0m\n\u001B[0m\u001B[0;32m      7\u001B[0m \u001B[0mprint\u001B[0m\u001B[1;33m(\u001B[0m\u001B[1;34m\"Done!\"\u001B[0m\u001B[1;33m)\u001B[0m\u001B[1;33m\u001B[0m\u001B[1;33m\u001B[0m\u001B[0m\n\u001B[0;32m      8\u001B[0m \u001B[1;33m\u001B[0m\u001B[0m\n",
      "\u001B[1;32m~\\AppData\\Local\\Temp/ipykernel_24400/1838083028.py\u001B[0m in \u001B[0;36mtest\u001B[1;34m(dataloader, model, loss_fn)\u001B[0m\n\u001B[0;32m     23\u001B[0m     \u001B[0mprint\u001B[0m\u001B[1;33m(\u001B[0m\u001B[0mtest_trues\u001B[0m\u001B[1;33m.\u001B[0m\u001B[0mshape\u001B[0m\u001B[1;33m)\u001B[0m\u001B[1;33m\u001B[0m\u001B[1;33m\u001B[0m\u001B[0m\n\u001B[0;32m     24\u001B[0m \u001B[1;33m\u001B[0m\u001B[0m\n\u001B[1;32m---> 25\u001B[1;33m     \u001B[0mtest_error\u001B[0m \u001B[1;33m=\u001B[0m \u001B[0mnp\u001B[0m\u001B[1;33m.\u001B[0m\u001B[0msum\u001B[0m\u001B[1;33m(\u001B[0m\u001B[0mnp\u001B[0m\u001B[1;33m.\u001B[0m\u001B[0mabs\u001B[0m\u001B[1;33m(\u001B[0m\u001B[0mtest_preds\u001B[0m \u001B[1;33m-\u001B[0m \u001B[0mtest_trues\u001B[0m\u001B[1;33m)\u001B[0m\u001B[1;33m)\u001B[0m\u001B[1;33m/\u001B[0m \u001B[0mnp\u001B[0m\u001B[1;33m.\u001B[0m\u001B[0msum\u001B[0m\u001B[1;33m(\u001B[0m\u001B[0mnp\u001B[0m\u001B[1;33m.\u001B[0m\u001B[0mabs\u001B[0m\u001B[1;33m(\u001B[0m\u001B[0mtest_trues\u001B[0m\u001B[1;33m)\u001B[0m\u001B[1;33m)\u001B[0m\u001B[1;33m\u001B[0m\u001B[1;33m\u001B[0m\u001B[0m\n\u001B[0m\u001B[0;32m     26\u001B[0m \u001B[1;33m\u001B[0m\u001B[0m\n\u001B[0;32m     27\u001B[0m     \u001B[0mprint\u001B[0m\u001B[1;33m(\u001B[0m\u001B[1;34m'Test Loss:'\u001B[0m\u001B[1;33m,\u001B[0m \u001B[0mnp\u001B[0m\u001B[1;33m.\u001B[0m\u001B[0mmean\u001B[0m\u001B[1;33m(\u001B[0m\u001B[0mtest_losses\u001B[0m\u001B[1;33m)\u001B[0m\u001B[1;33m)\u001B[0m\u001B[1;33m\u001B[0m\u001B[1;33m\u001B[0m\u001B[0m\n",
      "\u001B[1;32m<__array_function__ internals>\u001B[0m in \u001B[0;36msum\u001B[1;34m(*args, **kwargs)\u001B[0m\n",
      "\u001B[1;32mC:\\Python39\\lib\\site-packages\\numpy\\core\\fromnumeric.py\u001B[0m in \u001B[0;36msum\u001B[1;34m(a, axis, dtype, out, keepdims, initial, where)\u001B[0m\n\u001B[0;32m   2239\u001B[0m         \u001B[1;32mreturn\u001B[0m \u001B[0mres\u001B[0m\u001B[1;33m\u001B[0m\u001B[1;33m\u001B[0m\u001B[0m\n\u001B[0;32m   2240\u001B[0m \u001B[1;33m\u001B[0m\u001B[0m\n\u001B[1;32m-> 2241\u001B[1;33m     return _wrapreduction(a, np.add, 'sum', axis, dtype, out, keepdims=keepdims,\n\u001B[0m\u001B[0;32m   2242\u001B[0m                           initial=initial, where=where)\n\u001B[0;32m   2243\u001B[0m \u001B[1;33m\u001B[0m\u001B[0m\n",
      "\u001B[1;32mC:\\Python39\\lib\\site-packages\\numpy\\core\\fromnumeric.py\u001B[0m in \u001B[0;36m_wrapreduction\u001B[1;34m(obj, ufunc, method, axis, dtype, out, **kwargs)\u001B[0m\n\u001B[0;32m     85\u001B[0m                 \u001B[1;32mreturn\u001B[0m \u001B[0mreduction\u001B[0m\u001B[1;33m(\u001B[0m\u001B[0maxis\u001B[0m\u001B[1;33m=\u001B[0m\u001B[0maxis\u001B[0m\u001B[1;33m,\u001B[0m \u001B[0mout\u001B[0m\u001B[1;33m=\u001B[0m\u001B[0mout\u001B[0m\u001B[1;33m,\u001B[0m \u001B[1;33m**\u001B[0m\u001B[0mpasskwargs\u001B[0m\u001B[1;33m)\u001B[0m\u001B[1;33m\u001B[0m\u001B[1;33m\u001B[0m\u001B[0m\n\u001B[0;32m     86\u001B[0m \u001B[1;33m\u001B[0m\u001B[0m\n\u001B[1;32m---> 87\u001B[1;33m     \u001B[1;32mreturn\u001B[0m \u001B[0mufunc\u001B[0m\u001B[1;33m.\u001B[0m\u001B[0mreduce\u001B[0m\u001B[1;33m(\u001B[0m\u001B[0mobj\u001B[0m\u001B[1;33m,\u001B[0m \u001B[0maxis\u001B[0m\u001B[1;33m,\u001B[0m \u001B[0mdtype\u001B[0m\u001B[1;33m,\u001B[0m \u001B[0mout\u001B[0m\u001B[1;33m,\u001B[0m \u001B[1;33m**\u001B[0m\u001B[0mpasskwargs\u001B[0m\u001B[1;33m)\u001B[0m\u001B[1;33m\u001B[0m\u001B[1;33m\u001B[0m\u001B[0m\n\u001B[0m\u001B[0;32m     88\u001B[0m \u001B[1;33m\u001B[0m\u001B[0m\n\u001B[0;32m     89\u001B[0m \u001B[1;33m\u001B[0m\u001B[0m\n",
      "\u001B[1;31mValueError\u001B[0m: operands could not be broadcast together with shapes (64,64) (19,19) "
     ]
    }
   ]
  },
  {
   "cell_type": "code",
   "metadata": {
    "colab": {
     "base_uri": "https://localhost:8080/"
    },
    "id": "W67pO8xJ9Anw",
    "executionInfo": {
     "status": "ok",
     "timestamp": 1636471173114,
     "user_tz": -60,
     "elapsed": 67,
     "user": {
      "displayName": "Enrico Buchs",
      "photoUrl": "https://lh3.googleusercontent.com/a-/AOh14GhP98XjKRrYRqBVXlN-S0eXEQ93uZR_iYmbwfR16w=s64",
      "userId": "08940745416390111861"
     }
    },
    "outputId": "9ab7bf1b-1ae4-44ea-ece6-88722971d236"
   },
   "source": [
    "torch.save(model.state_dict(), \"model.pth\")\n",
    "print(\"Saved PyTorch Model State to model.pth\")"
   ],
   "execution_count": null,
   "outputs": []
  },
  {
   "cell_type": "code",
   "metadata": {
    "colab": {
     "base_uri": "https://localhost:8080/"
    },
    "id": "D833lqWC9Ep2",
    "executionInfo": {
     "status": "ok",
     "timestamp": 1636471173115,
     "user_tz": -60,
     "elapsed": 60,
     "user": {
      "displayName": "Enrico Buchs",
      "photoUrl": "https://lh3.googleusercontent.com/a-/AOh14GhP98XjKRrYRqBVXlN-S0eXEQ93uZR_iYmbwfR16w=s64",
      "userId": "08940745416390111861"
     }
    },
    "outputId": "05ea5a2a-7f4f-4e22-f45b-5f3cba6b0a99"
   },
   "source": [
    "model = NeuralNetwork()\n",
    "model.load_state_dict(torch.load(\"model.pth\"))"
   ],
   "execution_count": null,
   "outputs": []
  },
  {
   "cell_type": "markdown",
   "metadata": {
    "id": "h2ItPv-QRHCw"
   },
   "source": [
    "# Hausaufgabe\n",
    "erstellen von 2 Kategorien  \n",
    "1 positiv steigend  => 1\n",
    "2 negativ sinkend   => 0"
   ]
  },
  {
   "cell_type": "code",
   "metadata": {
    "colab": {
     "base_uri": "https://localhost:8080/"
    },
    "id": "30tNs8um9IrR",
    "executionInfo": {
     "status": "ok",
     "timestamp": 1636471173116,
     "user_tz": -60,
     "elapsed": 53,
     "user": {
      "displayName": "Enrico Buchs",
      "photoUrl": "https://lh3.googleusercontent.com/a-/AOh14GhP98XjKRrYRqBVXlN-S0eXEQ93uZR_iYmbwfR16w=s64",
      "userId": "08940745416390111861"
     }
    },
    "outputId": "fb122213-4da1-42ab-a8d8-74aeb98b7ca7"
   },
   "source": [
    "#classes = training_data.classes\n",
    "classes = [\"a\", \"b\", \"c\"]\n",
    "\n",
    "model.eval()\n",
    "x, y = test_data[0][0], test_data[0][1]\n",
    "print(f'Predicted: \"{x}\", Actual: \"{y}\"')\n",
    "#with torch.no_grad():\n",
    "#    pred = model(x)\n",
    "#    predicted, actual = classes[pred[0].argmax(0)], classes[y]\n",
    "#    print(f'Predicted: \"{predicted}\", Actual: \"{actual}\"')"
   ],
   "execution_count": null,
   "outputs": []
  }
 ]
}