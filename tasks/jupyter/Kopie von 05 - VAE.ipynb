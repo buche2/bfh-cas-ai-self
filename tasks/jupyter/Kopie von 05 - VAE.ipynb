{
 "nbformat": 4,
 "nbformat_minor": 0,
 "metadata": {
  "colab": {
   "name": "Kopie von 05 - VAE.ipynb",
   "provenance": [
    {
     "file_id": "1l9OQeqITdGeFw1bHi_YJhyE546CqkSrP",
     "timestamp": 1637681895699
    }
   ],
   "collapsed_sections": []
  },
  "kernelspec": {
   "name": "python3",
   "language": "python",
   "display_name": "Python 3 (ipykernel)"
  },
  "language_info": {
   "name": "python"
  }
 },
 "cells": [
  {
   "cell_type": "code",
   "metadata": {
    "colab": {
     "base_uri": "https://localhost:8080/",
     "height": 541
    },
    "id": "gUsxYCs7SuB_",
    "executionInfo": {
     "status": "ok",
     "timestamp": 1637662542036,
     "user_tz": -60,
     "elapsed": 5362,
     "user": {
      "displayName": "Ilja Rasin",
      "photoUrl": "https://lh3.googleusercontent.com/a/default-user=s64",
      "userId": "18166776380552111636"
     }
    },
    "outputId": "f7f4da4e-e863-4449-f093-c2b99869d734"
   },
   "source": [
    "! pip install yfinance"
   ],
   "execution_count": 1,
   "outputs": [
    {
     "name": "stdout",
     "output_type": "stream",
     "text": [
      "Requirement already satisfied: yfinance in c:\\users\\enrico\\pycharmprojects\\bfh-ai-1\\venv\\lib\\site-packages (0.1.67)\n",
      "Requirement already satisfied: numpy>=1.15 in c:\\python39\\lib\\site-packages (from yfinance) (1.19.5)\n",
      "Requirement already satisfied: requests>=2.20 in c:\\python39\\lib\\site-packages (from yfinance) (2.26.0)\n",
      "Requirement already satisfied: pandas>=0.24 in c:\\users\\enrico\\pycharmprojects\\bfh-ai-1\\venv\\lib\\site-packages (from yfinance) (1.3.4)\n",
      "Requirement already satisfied: lxml>=4.5.1 in c:\\users\\enrico\\pycharmprojects\\bfh-ai-1\\venv\\lib\\site-packages (from yfinance) (4.6.4)\n",
      "Requirement already satisfied: multitasking>=0.0.7 in c:\\users\\enrico\\pycharmprojects\\bfh-ai-1\\venv\\lib\\site-packages (from yfinance) (0.0.10)\n",
      "Requirement already satisfied: pytz>=2017.3 in c:\\users\\enrico\\pycharmprojects\\bfh-ai-1\\venv\\lib\\site-packages (from pandas>=0.24->yfinance) (2021.3)\n",
      "Requirement already satisfied: python-dateutil>=2.7.3 in c:\\python39\\lib\\site-packages (from pandas>=0.24->yfinance) (2.8.2)\n",
      "Requirement already satisfied: six>=1.5 in c:\\python39\\lib\\site-packages (from python-dateutil>=2.7.3->pandas>=0.24->yfinance) (1.15.0)\n",
      "Requirement already satisfied: certifi>=2017.4.17 in c:\\python39\\lib\\site-packages (from requests>=2.20->yfinance) (2021.10.8)\n",
      "Requirement already satisfied: charset-normalizer~=2.0.0 in c:\\python39\\lib\\site-packages (from requests>=2.20->yfinance) (2.0.7)\n",
      "Requirement already satisfied: idna<4,>=2.5 in c:\\python39\\lib\\site-packages (from requests>=2.20->yfinance) (3.3)\n",
      "Requirement already satisfied: urllib3<1.27,>=1.21.1 in c:\\python39\\lib\\site-packages (from requests>=2.20->yfinance) (1.26.7)\n"
     ]
    },
    {
     "name": "stderr",
     "output_type": "stream",
     "text": [
      "WARNING: You are using pip version 21.1.2; however, version 21.3.1 is available.\n",
      "You should consider upgrading via the 'C:\\Users\\Enrico\\PycharmProjects\\bfh-ai-1\\venv\\Scripts\\python.exe -m pip install --upgrade pip' command.\n"
     ]
    }
   ]
  },
  {
   "cell_type": "code",
   "metadata": {
    "id": "2skwBkjVERIx"
   },
   "source": [
    "from __future__ import print_function\n",
    "\n",
    "import pandas as pd\n",
    "import numpy as np\n",
    "import torch\n",
    "import torch.utils.data\n",
    "from torch import nn, optim\n",
    "from torch.nn import functional as F\n",
    "import os\n",
    "import datetime\n",
    "import time\n",
    "\n",
    "import bs4 as bs\n",
    "import numpy as np\n",
    "import pandas as pd\n",
    "import requests\n",
    "import yfinance as yf\n",
    "import torch.utils.data as data_utils\n",
    "\n"
   ],
   "execution_count": 2,
   "outputs": []
  },
  {
   "cell_type": "code",
   "metadata": {
    "id": "wuJMNHYiPpO4"
   },
   "source": [
    "class MyDataset():\n",
    "\n",
    "    def __init__(self, device='cpu', batch_size = 16):\n",
    "        self.url = 'http://en.wikipedia.org/wiki/List_of_S%26P_500_companies'\n",
    "        self.stocks_fname = \"sp500_closefull.csv\"\n",
    "        self.start = datetime.datetime(2010, 1, 1)\n",
    "        self.stop = datetime.datetime.now()\n",
    "        self.Ntest = 1000\n",
    "        self.now = time.time()\n",
    "        self.device = device\n",
    "        self.batch_size = batch_size\n",
    "       \n",
    "    def get_loaders(self) -> pd.DataFrame:\n",
    "\n",
    "        start = self.start  \n",
    "        end = self.stop \n",
    "\n",
    "        if not os.path.isfile(self.stocks_fname):\n",
    "          resp = requests.get(self.url)\n",
    "          soup = bs.BeautifulSoup(resp.text, 'lxml')\n",
    "          table = soup.find('table', {'class': 'wikitable sortable'})\n",
    "          tickers = []\n",
    "\n",
    "          for row in table.findAll('tr')[1:]:\n",
    "              ticker = row.findAll('td')[0].text\n",
    "              tickers.append(ticker)\n",
    "\n",
    "          tickers = [s.replace('\\n', '') for s in tickers]\n",
    "          data = yf.download(tickers, start=start, end=end)\n",
    "          data['Adj Close'].to_csv(self.stocks_fname)\n",
    "\n",
    "        df0 = pd.read_csv(self.stocks_fname, index_col=0, parse_dates=True)\n",
    "\n",
    "        df_spy = yf.download(\"SPY\", start=start, end=end)\n",
    "\n",
    "        df_spy = df_spy.loc[:, ['Adj Close']]\n",
    "\n",
    "        df_spy.columns = ['SPY']\n",
    "        \n",
    "        df0 = pd.concat([df0, df_spy], axis=1)\n",
    "\n",
    "\n",
    "        df0.dropna(axis=0, how='all', inplace=True)\n",
    "        print(\"Dropping columns due to nans > 50%:\", df0.loc[:, list((100 * (df0.isnull().sum() / len(df0.index)) > 50))].columns)\n",
    "        df0 = df0.drop(df0.loc[:, list((100 * (df0.isnull().sum() / len(df0.index)) > 50))].columns, 1)\n",
    "        df0 = df0.ffill().bfill()\n",
    "\n",
    "        print(\"Any columns still contain nans:\", df0.isnull().values.any())\n",
    "\n",
    "        df_returns = pd.DataFrame()\n",
    "        for name in df0.columns:\n",
    "          df_returns[name] = np.log(df0[name]).diff()\n",
    "\n",
    "        df_returns.dropna(axis=0, how='any', inplace=True)\n",
    "        # Convert returns into 0/1 \n",
    "        df_returns.SPY = [1 if spy > 0 else 0 for spy in df_returns.SPY]\n",
    "\n",
    "        #  =====================================\n",
    "        train_data = df_returns.iloc[:-self.Ntest]\n",
    "        validate_data = df_returns.iloc[len(df_returns)-self.Ntest:(len(df_returns)) - int(self.Ntest/2)]\n",
    "        test_data = df_returns.iloc[-int(self.Ntest/2):]\n",
    "\n",
    "        # All data MUST BE FLOAT It´s due to PyTorch ! (no ints here, neither labels are ints)\n",
    "        train_labels = torch.tensor(train_data.SPY.values).float().unsqueeze(1)\n",
    "        train_features = torch.tensor(train_data.drop('SPY', axis=1).values).float()\n",
    "        #\n",
    "        validate_labels = torch.tensor(validate_data.SPY.values).float().unsqueeze(1)\n",
    "        validate_features = torch.tensor(validate_data.drop('SPY', axis=1).values).float()\n",
    "        #\n",
    "        test_labels = torch.tensor(test_data.SPY.values).float().unsqueeze(1)\n",
    "        test_features = torch.tensor(test_data.drop('SPY', axis=1).values).float()\n",
    "\n",
    "        # ==============================\n",
    "        training_data=data_utils.TensorDataset(train_features, train_labels)\n",
    "       # training_data=data_utils.TensorDataset(train_features) \n",
    "        test_data=data_utils.TensorDataset(test_features, test_labels)              \n",
    "        validate_data=data_utils.TensorDataset(validate_features, validate_labels)\n",
    "\n",
    "        loaders = (data_utils.DataLoader(training_data, batch_size=self.batch_size),\n",
    "                  data_utils.DataLoader(test_data, batch_size=self.batch_size),\n",
    "                  data_utils.DataLoader(validate_data, batch_size=self.batch_size))\n",
    "\n",
    "        return loaders"
   ],
   "execution_count": 3,
   "outputs": []
  },
  {
   "cell_type": "code",
   "metadata": {
    "id": "bop-tp0aEi-_"
   },
   "source": [
    "class VAE(nn.Module):\n",
    "    def __init__(self, n_obs):\n",
    "        super(VAE, self).__init__()\n",
    "\n",
    "        self.fc1 = nn.Linear(n_obs, 400)\n",
    "        self.fc21 = nn.Linear(400, 20) # mu 30\n",
    "        self.fc22 = nn.Linear(400, 20) # log 30 variance\n",
    "        self.fc3 = nn.Linear(20, 400)\n",
    "        self.fc4 = nn.Linear(400, n_obs)\n",
    "\n",
    "    def encode(self, x):\n",
    "        h1 = F.relu(self.fc1(x))\n",
    "        return self.fc21(h1), self.fc22(h1)\n",
    "\n",
    "    def reparameterize(self, mu, logvar):\n",
    "        std = torch.exp(0.5*logvar)\n",
    "        eps = torch.randn_like(std)\n",
    "\n",
    "        return mu + eps*std\n",
    "\n",
    "    def decode(self, z):\n",
    "        h3 = F.relu(self.fc3(z))\n",
    "        return self.fc4(h3) # torch.sigmoid(self.fc4(h3))\n",
    "\n",
    "    def forward(self, x):\n",
    "        mu, logvar = self.encode(x.view(-1, x.shape[1]))\n",
    "        z = self.reparameterize(mu, logvar)\n",
    "        return self.decode(z), mu, logvar\n"
   ],
   "execution_count": 4,
   "outputs": []
  },
  {
   "cell_type": "code",
   "metadata": {
    "id": "tBhemgbqO-0v"
   },
   "source": [
    "class Trainer():\n",
    "\n",
    "    def __init__ (self):\n",
    "        super(Trainer, self).__init__()\n",
    "\n",
    "        cuda = torch.cuda.is_available()\n",
    "        self.device = torch.device(\"cuda\" if cuda else \"cpu\")\n",
    "\n",
    "        torch.manual_seed(0)\n",
    "\n",
    "        dataset = MyDataset()\n",
    "        train_loader, test_loader, val_loader = dataset.get_loaders()\n",
    "\n",
    "        self.train_loader = train_loader\n",
    "        self.test_loader = test_loader\n",
    "        self.size = train_loader.dataset.tensors[0].data.shape[1] # + 1\n",
    "\n",
    "        self.model = VAE(self.size).to(self.device) # TO DO\n",
    "        self.optimizer = optim.Adam(self.model.parameters(), lr=1e-3)\n",
    "\n",
    "    def train(self, epoch):\n",
    "        self.model.train()\n",
    "        train_loss = 0\n",
    "        for batch_idx, data in enumerate(self.train_loader):\n",
    "            data = data[0].to(self.device)\n",
    "            # torch.cat([data[0], ata[1]], dim=1)\n",
    "            self.optimizer.zero_grad()\n",
    "            recon_batch, mu, logvar = self.model(data)\n",
    "            loss = self.loss_function(recon_batch, data, mu, logvar)\n",
    "            loss.backward()\n",
    "            train_loss += loss.item()\n",
    "            self.optimizer.step()\n",
    "            if batch_idx % 10 == 0:\n",
    "                print('Train Epoch: {} [{}/{} ({:.0f}%)]\\tLoss: {:.6f}'.format(\n",
    "                    epoch, batch_idx * len(data), len(self.train_loader.dataset),\n",
    "                           100. * batch_idx / len(self.train_loader),\n",
    "                           loss.item() / len(data)))\n",
    "\n",
    "        print('====> Epoch: {} Average loss: {:.4f}'.format(\n",
    "            epoch, train_loss / len(self.train_loader.dataset)))\n",
    "\n",
    "    def save(self):\n",
    "        path = './runs/{}/'.format('vae')\n",
    "        try:\n",
    "            os.makedirs(path)\n",
    "        except:\n",
    "            pass\n",
    "\n",
    "        torch.save(self.model.state_dict(), os.path.join(path, 'vae_state_dict'))\n",
    "\n",
    "    def test(self, epoch):\n",
    "        self.model.eval()\n",
    "        test_loss = 0\n",
    "        with torch.no_grad():\n",
    "            for i, data in enumerate(self.test_loader):\n",
    "                data = data[0].to(self.device)\n",
    "                recon_batch, mu, logvar = self.model(data)\n",
    "                test_loss += self.loss_function(recon_batch, data, mu, logvar).item()\n",
    "\n",
    "        test_loss /= len(self.test_loader.dataset)\n",
    "        print('====> Test set loss: {:.4f}'.format(test_loss))\n",
    "\n",
    "        # Reconstruction + KL divergence losses summed over all elements and batch\n",
    "\n",
    "    def loss_function(self, recon_x, x, mu, logvar):\n",
    "        MSE = F.mse_loss(recon_x, x.view(-1, self.size), reduction='mean')\n",
    "        # see Appendix B from VAE paper:\n",
    "        # Kingma and Welling. Auto-Encoding Variational Bayes. ICLR, 2014\n",
    "        # https://arxiv.org/abs/1312.6114\n",
    "        # 0.5 * sum(1 + log(sigma^2) - mu^2 - sigma^2)\n",
    "        KLD = -0.5 * torch.sum(1 + logvar - mu.pow(2) - logvar.exp())\n",
    "\n",
    "        return MSE + KLD\n"
   ],
   "execution_count": 5,
   "outputs": []
  },
  {
   "cell_type": "code",
   "metadata": {
    "colab": {
     "base_uri": "https://localhost:8080/"
    },
    "id": "Zt3JCt8rPKQ9",
    "executionInfo": {
     "status": "ok",
     "timestamp": 1637671437285,
     "user_tz": -60,
     "elapsed": 7385,
     "user": {
      "displayName": "Ilja Rasin",
      "photoUrl": "https://lh3.googleusercontent.com/a/default-user=s64",
      "userId": "18166776380552111636"
     }
    },
    "outputId": "40bfc856-b89a-47dc-ab8d-13c1729803c7"
   },
   "source": [
    "trainer = Trainer()\n",
    "\n",
    "for epoch in range(1, 10):\n",
    "    trainer.train(epoch)\n",
    "    trainer.test(epoch)\n",
    "    #with torch.no_grad():\n",
    "    #    sample = torch.randn(64, 20).to(trainer.device)\n",
    "    #    sample = trainer.model.decode(sample).cpu()\n",
    "\n",
    "trainer.save()\n",
    "\n",
    "\n",
    "model = VAE(trainer.size)\n",
    "model.load_state_dict(torch.load('./runs/vae/vae_state_dict'))"
   ],
   "execution_count": 6,
   "outputs": [
    {
     "name": "stdout",
     "output_type": "stream",
     "text": [
      "[*********************100%***********************]  505 of 505 completed\n",
      "\n",
      "2 Failed downloads:\n",
      "- BRK.B: No data found, symbol may be delisted\n",
      "- BF.B: No data found for this date range, symbol may be delisted\n",
      "[*********************100%***********************]  1 of 1 completed\n",
      "Dropping columns due to nans > 50%: Index(['BF.B', 'BRK.B', 'CARR', 'CDAY', 'CTVA', 'DOW', 'FOX', 'FOXA', 'FTV',\n",
      "       'HWM', 'IR', 'LW', 'MRNA', 'OGN', 'OTIS', 'UA'],\n",
      "      dtype='object')\n",
      "Any columns still contain nans: False\n"
     ]
    },
    {
     "name": "stderr",
     "output_type": "stream",
     "text": [
      "C:\\Users\\Enrico\\AppData\\Local\\Temp/ipykernel_9436/2557366169.py:45: FutureWarning: In a future version of pandas all arguments of DataFrame.drop except for the argument 'labels' will be keyword-only\n",
      "  df0 = df0.drop(df0.loc[:, list((100 * (df0.isnull().sum() / len(df0.index)) > 50))].columns, 1)\n",
      "C:\\Users\\Enrico\\AppData\\Local\\Temp/ipykernel_9436/2557366169.py:52: PerformanceWarning: DataFrame is highly fragmented.  This is usually the result of calling `frame.insert` many times, which has poor performance.  Consider joining all columns at once using pd.concat(axis=1) instead.  To get a de-fragmented frame, use `newframe = frame.copy()`\n",
      "  df_returns[name] = np.log(df0[name]).diff()\n"
     ]
    },
    {
     "name": "stdout",
     "output_type": "stream",
     "text": [
      "Train Epoch: 1 [0/2003 (0%)]\tLoss: 0.012110\n",
      "Train Epoch: 1 [160/2003 (8%)]\tLoss: 0.002004\n",
      "Train Epoch: 1 [320/2003 (16%)]\tLoss: 0.001000\n",
      "Train Epoch: 1 [480/2003 (24%)]\tLoss: 0.000964\n",
      "Train Epoch: 1 [640/2003 (32%)]\tLoss: 0.000706\n",
      "Train Epoch: 1 [800/2003 (40%)]\tLoss: 0.000503\n",
      "Train Epoch: 1 [960/2003 (48%)]\tLoss: 0.000547\n",
      "Train Epoch: 1 [1120/2003 (56%)]\tLoss: 0.000399\n",
      "Train Epoch: 1 [1280/2003 (63%)]\tLoss: 0.000407\n",
      "Train Epoch: 1 [1440/2003 (71%)]\tLoss: 0.000343\n",
      "Train Epoch: 1 [1600/2003 (79%)]\tLoss: 0.000327\n",
      "Train Epoch: 1 [1760/2003 (87%)]\tLoss: 0.000342\n",
      "Train Epoch: 1 [1920/2003 (95%)]\tLoss: 0.000273\n",
      "====> Epoch: 1 Average loss: 0.0009\n",
      "====> Test set loss: 0.0005\n",
      "Train Epoch: 2 [0/2003 (0%)]\tLoss: 0.000287\n",
      "Train Epoch: 2 [160/2003 (8%)]\tLoss: 0.000264\n",
      "Train Epoch: 2 [320/2003 (16%)]\tLoss: 0.000216\n",
      "Train Epoch: 2 [480/2003 (24%)]\tLoss: 0.000298\n",
      "Train Epoch: 2 [640/2003 (32%)]\tLoss: 0.000259\n",
      "Train Epoch: 2 [800/2003 (40%)]\tLoss: 0.000176\n",
      "Train Epoch: 2 [960/2003 (48%)]\tLoss: 0.000156\n",
      "Train Epoch: 2 [1120/2003 (56%)]\tLoss: 0.000148\n",
      "Train Epoch: 2 [1280/2003 (63%)]\tLoss: 0.000144\n",
      "Train Epoch: 2 [1440/2003 (71%)]\tLoss: 0.000136\n",
      "Train Epoch: 2 [1600/2003 (79%)]\tLoss: 0.000137\n",
      "Train Epoch: 2 [1760/2003 (87%)]\tLoss: 0.000122\n",
      "Train Epoch: 2 [1920/2003 (95%)]\tLoss: 0.000100\n",
      "====> Epoch: 2 Average loss: 0.0002\n",
      "====> Test set loss: 0.0003\n",
      "Train Epoch: 3 [0/2003 (0%)]\tLoss: 0.000141\n",
      "Train Epoch: 3 [160/2003 (8%)]\tLoss: 0.000128\n",
      "Train Epoch: 3 [320/2003 (16%)]\tLoss: 0.000111\n",
      "Train Epoch: 3 [480/2003 (24%)]\tLoss: 0.000180\n",
      "Train Epoch: 3 [640/2003 (32%)]\tLoss: 0.000134\n",
      "Train Epoch: 3 [800/2003 (40%)]\tLoss: 0.000100\n",
      "Train Epoch: 3 [960/2003 (48%)]\tLoss: 0.000098\n",
      "Train Epoch: 3 [1120/2003 (56%)]\tLoss: 0.000075\n",
      "Train Epoch: 3 [1280/2003 (63%)]\tLoss: 0.000092\n",
      "Train Epoch: 3 [1440/2003 (71%)]\tLoss: 0.000090\n",
      "Train Epoch: 3 [1600/2003 (79%)]\tLoss: 0.000074\n",
      "Train Epoch: 3 [1760/2003 (87%)]\tLoss: 0.000075\n",
      "Train Epoch: 3 [1920/2003 (95%)]\tLoss: 0.000066\n",
      "====> Epoch: 3 Average loss: 0.0001\n",
      "====> Test set loss: 0.0002\n",
      "Train Epoch: 4 [0/2003 (0%)]\tLoss: 0.000090\n",
      "Train Epoch: 4 [160/2003 (8%)]\tLoss: 0.000084\n",
      "Train Epoch: 4 [320/2003 (16%)]\tLoss: 0.000074\n",
      "Train Epoch: 4 [480/2003 (24%)]\tLoss: 0.000111\n",
      "Train Epoch: 4 [640/2003 (32%)]\tLoss: 0.000104\n",
      "Train Epoch: 4 [800/2003 (40%)]\tLoss: 0.000064\n",
      "Train Epoch: 4 [960/2003 (48%)]\tLoss: 0.000066\n",
      "Train Epoch: 4 [1120/2003 (56%)]\tLoss: 0.000051\n",
      "Train Epoch: 4 [1280/2003 (63%)]\tLoss: 0.000062\n",
      "Train Epoch: 4 [1440/2003 (71%)]\tLoss: 0.000072\n",
      "Train Epoch: 4 [1600/2003 (79%)]\tLoss: 0.000052\n",
      "Train Epoch: 4 [1760/2003 (87%)]\tLoss: 0.000057\n",
      "Train Epoch: 4 [1920/2003 (95%)]\tLoss: 0.000047\n",
      "====> Epoch: 4 Average loss: 0.0001\n",
      "====> Test set loss: 0.0002\n",
      "Train Epoch: 5 [0/2003 (0%)]\tLoss: 0.000062\n",
      "Train Epoch: 5 [160/2003 (8%)]\tLoss: 0.000065\n",
      "Train Epoch: 5 [320/2003 (16%)]\tLoss: 0.000055\n",
      "Train Epoch: 5 [480/2003 (24%)]\tLoss: 0.000092\n",
      "Train Epoch: 5 [640/2003 (32%)]\tLoss: 0.000081\n",
      "Train Epoch: 5 [800/2003 (40%)]\tLoss: 0.000048\n",
      "Train Epoch: 5 [960/2003 (48%)]\tLoss: 0.000046\n",
      "Train Epoch: 5 [1120/2003 (56%)]\tLoss: 0.000040\n",
      "Train Epoch: 5 [1280/2003 (63%)]\tLoss: 0.000046\n",
      "Train Epoch: 5 [1440/2003 (71%)]\tLoss: 0.000057\n",
      "Train Epoch: 5 [1600/2003 (79%)]\tLoss: 0.000042\n",
      "Train Epoch: 5 [1760/2003 (87%)]\tLoss: 0.000044\n",
      "Train Epoch: 5 [1920/2003 (95%)]\tLoss: 0.000040\n",
      "====> Epoch: 5 Average loss: 0.0001\n",
      "====> Test set loss: 0.0001\n",
      "Train Epoch: 6 [0/2003 (0%)]\tLoss: 0.000053\n",
      "Train Epoch: 6 [160/2003 (8%)]\tLoss: 0.000054\n",
      "Train Epoch: 6 [320/2003 (16%)]\tLoss: 0.000044\n",
      "Train Epoch: 6 [480/2003 (24%)]\tLoss: 0.000071\n",
      "Train Epoch: 6 [640/2003 (32%)]\tLoss: 0.000072\n",
      "Train Epoch: 6 [800/2003 (40%)]\tLoss: 0.000036\n",
      "Train Epoch: 6 [960/2003 (48%)]\tLoss: 0.000041\n",
      "Train Epoch: 6 [1120/2003 (56%)]\tLoss: 0.000033\n",
      "Train Epoch: 6 [1280/2003 (63%)]\tLoss: 0.000036\n",
      "Train Epoch: 6 [1440/2003 (71%)]\tLoss: 0.000052\n",
      "Train Epoch: 6 [1600/2003 (79%)]\tLoss: 0.000037\n",
      "Train Epoch: 6 [1760/2003 (87%)]\tLoss: 0.000038\n",
      "Train Epoch: 6 [1920/2003 (95%)]\tLoss: 0.000031\n",
      "====> Epoch: 6 Average loss: 0.0000\n",
      "====> Test set loss: 0.0001\n",
      "Train Epoch: 7 [0/2003 (0%)]\tLoss: 0.000045\n",
      "Train Epoch: 7 [160/2003 (8%)]\tLoss: 0.000052\n",
      "Train Epoch: 7 [320/2003 (16%)]\tLoss: 0.000042\n",
      "Train Epoch: 7 [480/2003 (24%)]\tLoss: 0.000080\n",
      "Train Epoch: 7 [640/2003 (32%)]\tLoss: 0.000066\n",
      "Train Epoch: 7 [800/2003 (40%)]\tLoss: 0.000031\n",
      "Train Epoch: 7 [960/2003 (48%)]\tLoss: 0.000034\n",
      "Train Epoch: 7 [1120/2003 (56%)]\tLoss: 0.000027\n",
      "Train Epoch: 7 [1280/2003 (63%)]\tLoss: 0.000034\n",
      "Train Epoch: 7 [1440/2003 (71%)]\tLoss: 0.000043\n",
      "Train Epoch: 7 [1600/2003 (79%)]\tLoss: 0.000034\n",
      "Train Epoch: 7 [1760/2003 (87%)]\tLoss: 0.000031\n",
      "Train Epoch: 7 [1920/2003 (95%)]\tLoss: 0.000027\n",
      "====> Epoch: 7 Average loss: 0.0000\n",
      "====> Test set loss: 0.0001\n",
      "Train Epoch: 8 [0/2003 (0%)]\tLoss: 0.000038\n",
      "Train Epoch: 8 [160/2003 (8%)]\tLoss: 0.000046\n",
      "Train Epoch: 8 [320/2003 (16%)]\tLoss: 0.000033\n",
      "Train Epoch: 8 [480/2003 (24%)]\tLoss: 0.000074\n",
      "Train Epoch: 8 [640/2003 (32%)]\tLoss: 0.000076\n",
      "Train Epoch: 8 [800/2003 (40%)]\tLoss: 0.000032\n",
      "Train Epoch: 8 [960/2003 (48%)]\tLoss: 0.000033\n",
      "Train Epoch: 8 [1120/2003 (56%)]\tLoss: 0.000027\n",
      "Train Epoch: 8 [1280/2003 (63%)]\tLoss: 0.000030\n",
      "Train Epoch: 8 [1440/2003 (71%)]\tLoss: 0.000041\n",
      "Train Epoch: 8 [1600/2003 (79%)]\tLoss: 0.000029\n",
      "Train Epoch: 8 [1760/2003 (87%)]\tLoss: 0.000027\n",
      "Train Epoch: 8 [1920/2003 (95%)]\tLoss: 0.000026\n",
      "====> Epoch: 8 Average loss: 0.0000\n",
      "====> Test set loss: 0.0001\n",
      "Train Epoch: 9 [0/2003 (0%)]\tLoss: 0.000042\n",
      "Train Epoch: 9 [160/2003 (8%)]\tLoss: 0.000040\n",
      "Train Epoch: 9 [320/2003 (16%)]\tLoss: 0.000030\n",
      "Train Epoch: 9 [480/2003 (24%)]\tLoss: 0.000062\n",
      "Train Epoch: 9 [640/2003 (32%)]\tLoss: 0.000050\n",
      "Train Epoch: 9 [800/2003 (40%)]\tLoss: 0.000032\n",
      "Train Epoch: 9 [960/2003 (48%)]\tLoss: 0.000027\n",
      "Train Epoch: 9 [1120/2003 (56%)]\tLoss: 0.000020\n",
      "Train Epoch: 9 [1280/2003 (63%)]\tLoss: 0.000028\n",
      "Train Epoch: 9 [1440/2003 (71%)]\tLoss: 0.000039\n",
      "Train Epoch: 9 [1600/2003 (79%)]\tLoss: 0.000028\n",
      "Train Epoch: 9 [1760/2003 (87%)]\tLoss: 0.000026\n",
      "Train Epoch: 9 [1920/2003 (95%)]\tLoss: 0.000022\n",
      "====> Epoch: 9 Average loss: 0.0000\n",
      "====> Test set loss: 0.0001\n"
     ]
    },
    {
     "data": {
      "text/plain": "<All keys matched successfully>"
     },
     "execution_count": 6,
     "metadata": {},
     "output_type": "execute_result"
    }
   ]
  },
  {
   "cell_type": "code",
   "metadata": {
    "colab": {
     "base_uri": "https://localhost:8080/"
    },
    "id": "VtaJ65eVRyzj",
    "executionInfo": {
     "status": "ok",
     "timestamp": 1637671441493,
     "user_tz": -60,
     "elapsed": 1083,
     "user": {
      "displayName": "Ilja Rasin",
      "photoUrl": "https://lh3.googleusercontent.com/a/default-user=s64",
      "userId": "18166776380552111636"
     }
    },
    "outputId": "a6887f8b-4da0-432d-dd7b-41fac5469195"
   },
   "source": [
    "dataset = MyDataset()\n",
    "train_loader, test_loader, val_loader = dataset.get_loaders()\n",
    "\n"
   ],
   "execution_count": 7,
   "outputs": [
    {
     "name": "stdout",
     "output_type": "stream",
     "text": [
      "[*********************100%***********************]  1 of 1 completed\n",
      "Dropping columns due to nans > 50%: Index(['BF.B', 'BRK.B', 'CARR', 'CDAY', 'CTVA', 'DOW', 'FOX', 'FOXA', 'FTV',\n",
      "       'HWM', 'IR', 'LW', 'MRNA', 'OGN', 'OTIS', 'UA'],\n",
      "      dtype='object')\n",
      "Any columns still contain nans: False\n"
     ]
    },
    {
     "name": "stderr",
     "output_type": "stream",
     "text": [
      "C:\\Users\\Enrico\\AppData\\Local\\Temp/ipykernel_9436/2557366169.py:45: FutureWarning: In a future version of pandas all arguments of DataFrame.drop except for the argument 'labels' will be keyword-only\n",
      "  df0 = df0.drop(df0.loc[:, list((100 * (df0.isnull().sum() / len(df0.index)) > 50))].columns, 1)\n",
      "C:\\Users\\Enrico\\AppData\\Local\\Temp/ipykernel_9436/2557366169.py:52: PerformanceWarning: DataFrame is highly fragmented.  This is usually the result of calling `frame.insert` many times, which has poor performance.  Consider joining all columns at once using pd.concat(axis=1) instead.  To get a de-fragmented frame, use `newframe = frame.copy()`\n",
      "  df_returns[name] = np.log(df0[name]).diff()\n"
     ]
    }
   ]
  },
  {
   "cell_type": "code",
   "metadata": {
    "id": "Dxl8fX43mVI5"
   },
   "source": [
    "samples = []\n",
    "for i in range(100):\n",
    "  with torch.no_grad():\n",
    "    sample_feat, _, _ = model(train_loader.dataset.tensors[0])\n",
    "    sample_labels = train_loader.dataset.tensors[1]\n",
    "    new_data_sample = torch.cat([sample_feat, sample_labels], dim=1)\n",
    "    samples.append(new_data_sample.numpy())"
   ],
   "execution_count": 8,
   "outputs": []
  },
  {
   "cell_type": "code",
   "metadata": {
    "id": "sfiMIZhlmiuq"
   },
   "source": [
    "generated_np = np.vstack(samples)"
   ],
   "execution_count": 9,
   "outputs": []
  },
  {
   "cell_type": "code",
   "metadata": {
    "colab": {
     "base_uri": "https://localhost:8080/",
     "height": 444
    },
    "id": "DTnB0KeRyNah",
    "executionInfo": {
     "status": "ok",
     "timestamp": 1637671791147,
     "user_tz": -60,
     "elapsed": 927,
     "user": {
      "displayName": "Ilja Rasin",
      "photoUrl": "https://lh3.googleusercontent.com/a/default-user=s64",
      "userId": "18166776380552111636"
     }
    },
    "outputId": "8f676319-e490-4f67-bdfb-9501f7a169d1"
   },
   "source": [
    "pd.DataFrame(generated_np)"
   ],
   "execution_count": 10,
   "outputs": [
    {
     "data": {
      "text/plain": "             0         1         2         3         4         5         6    \\\n0      -0.013309  0.006468 -0.016548 -0.004692 -0.005061 -0.011828 -0.038937   \n1       0.016283 -0.002151  0.015380  0.009681  0.012842 -0.008967 -0.020620   \n2       0.009759 -0.003754 -0.004415  0.008300 -0.001252  0.004384  0.019321   \n3      -0.006915  0.010222  0.007732 -0.010067 -0.008446  0.013064  0.004086   \n4      -0.011476  0.006925  0.022603  0.008090 -0.009121  0.011034 -0.010549   \n...          ...       ...       ...       ...       ...       ...       ...   \n200295 -0.003041  0.004826 -0.005480  0.002388  0.015091  0.005148  0.014368   \n200296 -0.002637  0.011397  0.015422 -0.007600 -0.015726  0.010198  0.007674   \n200297  0.001978  0.030882 -0.003870  0.010084 -0.006669  0.000498 -0.036927   \n200298 -0.008877  0.007934  0.010276 -0.009344 -0.002490  0.014135  0.001304   \n200299 -0.011823  0.021671  0.005062 -0.007431  0.010699  0.006057 -0.009673   \n\n             7         8         9    ...       480       481       482  \\\n0       0.006759  0.003961 -0.002288  ... -0.015458  0.000598 -0.000235   \n1       0.000925 -0.008225 -0.025962  ... -0.020223 -0.003092 -0.001582   \n2       0.016837 -0.000067  0.012418  ... -0.006401 -0.001721  0.009147   \n3      -0.006125 -0.007665  0.021221  ... -0.007438 -0.000602  0.001958   \n4      -0.000805  0.023425 -0.004668  ... -0.005862 -0.016582  0.012860   \n...          ...       ...       ...  ...       ...       ...       ...   \n200295  0.026845  0.001434 -0.007512  ... -0.011889 -0.003600  0.021180   \n200296 -0.007203 -0.009693 -0.008614  ... -0.015963 -0.026769 -0.013414   \n200297 -0.001812 -0.012003  0.005345  ... -0.001676 -0.013348 -0.000505   \n200298 -0.016034 -0.010241 -0.008443  ... -0.006603  0.005039 -0.017867   \n200299  0.015748  0.000147  0.011130  ... -0.012901 -0.010145  0.002470   \n\n             483       484       485       486       487       488  489  \n0       0.008924 -0.007797 -0.007581 -0.006970  0.011148  0.001282  1.0  \n1       0.000382  0.032076  0.016903  0.003369 -0.003339  0.016659  1.0  \n2      -0.009129 -0.001653 -0.003361  0.007884 -0.004585 -0.006246  1.0  \n3       0.005204 -0.003383 -0.004886  0.014769  0.002048 -0.010223  1.0  \n4       0.009485 -0.004107  0.005359  0.015466  0.009795 -0.002793  1.0  \n...          ...       ...       ...       ...       ...       ...  ...  \n200295 -0.004672 -0.018881  0.001888 -0.008226  0.000379 -0.004198  1.0  \n200296 -0.004623  0.002439  0.010378  0.005766 -0.021179  0.002891  1.0  \n200297 -0.004418  0.008398  0.021120 -0.007946 -0.006016  0.003147  1.0  \n200298  0.003022  0.004023 -0.014954  0.007010  0.009864 -0.006455  0.0  \n200299 -0.006715  0.016845 -0.012443 -0.013055 -0.010687 -0.004477  0.0  \n\n[200300 rows x 490 columns]",
      "text/html": "<div>\n<style scoped>\n    .dataframe tbody tr th:only-of-type {\n        vertical-align: middle;\n    }\n\n    .dataframe tbody tr th {\n        vertical-align: top;\n    }\n\n    .dataframe thead th {\n        text-align: right;\n    }\n</style>\n<table border=\"1\" class=\"dataframe\">\n  <thead>\n    <tr style=\"text-align: right;\">\n      <th></th>\n      <th>0</th>\n      <th>1</th>\n      <th>2</th>\n      <th>3</th>\n      <th>4</th>\n      <th>5</th>\n      <th>6</th>\n      <th>7</th>\n      <th>8</th>\n      <th>9</th>\n      <th>...</th>\n      <th>480</th>\n      <th>481</th>\n      <th>482</th>\n      <th>483</th>\n      <th>484</th>\n      <th>485</th>\n      <th>486</th>\n      <th>487</th>\n      <th>488</th>\n      <th>489</th>\n    </tr>\n  </thead>\n  <tbody>\n    <tr>\n      <th>0</th>\n      <td>-0.013309</td>\n      <td>0.006468</td>\n      <td>-0.016548</td>\n      <td>-0.004692</td>\n      <td>-0.005061</td>\n      <td>-0.011828</td>\n      <td>-0.038937</td>\n      <td>0.006759</td>\n      <td>0.003961</td>\n      <td>-0.002288</td>\n      <td>...</td>\n      <td>-0.015458</td>\n      <td>0.000598</td>\n      <td>-0.000235</td>\n      <td>0.008924</td>\n      <td>-0.007797</td>\n      <td>-0.007581</td>\n      <td>-0.006970</td>\n      <td>0.011148</td>\n      <td>0.001282</td>\n      <td>1.0</td>\n    </tr>\n    <tr>\n      <th>1</th>\n      <td>0.016283</td>\n      <td>-0.002151</td>\n      <td>0.015380</td>\n      <td>0.009681</td>\n      <td>0.012842</td>\n      <td>-0.008967</td>\n      <td>-0.020620</td>\n      <td>0.000925</td>\n      <td>-0.008225</td>\n      <td>-0.025962</td>\n      <td>...</td>\n      <td>-0.020223</td>\n      <td>-0.003092</td>\n      <td>-0.001582</td>\n      <td>0.000382</td>\n      <td>0.032076</td>\n      <td>0.016903</td>\n      <td>0.003369</td>\n      <td>-0.003339</td>\n      <td>0.016659</td>\n      <td>1.0</td>\n    </tr>\n    <tr>\n      <th>2</th>\n      <td>0.009759</td>\n      <td>-0.003754</td>\n      <td>-0.004415</td>\n      <td>0.008300</td>\n      <td>-0.001252</td>\n      <td>0.004384</td>\n      <td>0.019321</td>\n      <td>0.016837</td>\n      <td>-0.000067</td>\n      <td>0.012418</td>\n      <td>...</td>\n      <td>-0.006401</td>\n      <td>-0.001721</td>\n      <td>0.009147</td>\n      <td>-0.009129</td>\n      <td>-0.001653</td>\n      <td>-0.003361</td>\n      <td>0.007884</td>\n      <td>-0.004585</td>\n      <td>-0.006246</td>\n      <td>1.0</td>\n    </tr>\n    <tr>\n      <th>3</th>\n      <td>-0.006915</td>\n      <td>0.010222</td>\n      <td>0.007732</td>\n      <td>-0.010067</td>\n      <td>-0.008446</td>\n      <td>0.013064</td>\n      <td>0.004086</td>\n      <td>-0.006125</td>\n      <td>-0.007665</td>\n      <td>0.021221</td>\n      <td>...</td>\n      <td>-0.007438</td>\n      <td>-0.000602</td>\n      <td>0.001958</td>\n      <td>0.005204</td>\n      <td>-0.003383</td>\n      <td>-0.004886</td>\n      <td>0.014769</td>\n      <td>0.002048</td>\n      <td>-0.010223</td>\n      <td>1.0</td>\n    </tr>\n    <tr>\n      <th>4</th>\n      <td>-0.011476</td>\n      <td>0.006925</td>\n      <td>0.022603</td>\n      <td>0.008090</td>\n      <td>-0.009121</td>\n      <td>0.011034</td>\n      <td>-0.010549</td>\n      <td>-0.000805</td>\n      <td>0.023425</td>\n      <td>-0.004668</td>\n      <td>...</td>\n      <td>-0.005862</td>\n      <td>-0.016582</td>\n      <td>0.012860</td>\n      <td>0.009485</td>\n      <td>-0.004107</td>\n      <td>0.005359</td>\n      <td>0.015466</td>\n      <td>0.009795</td>\n      <td>-0.002793</td>\n      <td>1.0</td>\n    </tr>\n    <tr>\n      <th>...</th>\n      <td>...</td>\n      <td>...</td>\n      <td>...</td>\n      <td>...</td>\n      <td>...</td>\n      <td>...</td>\n      <td>...</td>\n      <td>...</td>\n      <td>...</td>\n      <td>...</td>\n      <td>...</td>\n      <td>...</td>\n      <td>...</td>\n      <td>...</td>\n      <td>...</td>\n      <td>...</td>\n      <td>...</td>\n      <td>...</td>\n      <td>...</td>\n      <td>...</td>\n      <td>...</td>\n    </tr>\n    <tr>\n      <th>200295</th>\n      <td>-0.003041</td>\n      <td>0.004826</td>\n      <td>-0.005480</td>\n      <td>0.002388</td>\n      <td>0.015091</td>\n      <td>0.005148</td>\n      <td>0.014368</td>\n      <td>0.026845</td>\n      <td>0.001434</td>\n      <td>-0.007512</td>\n      <td>...</td>\n      <td>-0.011889</td>\n      <td>-0.003600</td>\n      <td>0.021180</td>\n      <td>-0.004672</td>\n      <td>-0.018881</td>\n      <td>0.001888</td>\n      <td>-0.008226</td>\n      <td>0.000379</td>\n      <td>-0.004198</td>\n      <td>1.0</td>\n    </tr>\n    <tr>\n      <th>200296</th>\n      <td>-0.002637</td>\n      <td>0.011397</td>\n      <td>0.015422</td>\n      <td>-0.007600</td>\n      <td>-0.015726</td>\n      <td>0.010198</td>\n      <td>0.007674</td>\n      <td>-0.007203</td>\n      <td>-0.009693</td>\n      <td>-0.008614</td>\n      <td>...</td>\n      <td>-0.015963</td>\n      <td>-0.026769</td>\n      <td>-0.013414</td>\n      <td>-0.004623</td>\n      <td>0.002439</td>\n      <td>0.010378</td>\n      <td>0.005766</td>\n      <td>-0.021179</td>\n      <td>0.002891</td>\n      <td>1.0</td>\n    </tr>\n    <tr>\n      <th>200297</th>\n      <td>0.001978</td>\n      <td>0.030882</td>\n      <td>-0.003870</td>\n      <td>0.010084</td>\n      <td>-0.006669</td>\n      <td>0.000498</td>\n      <td>-0.036927</td>\n      <td>-0.001812</td>\n      <td>-0.012003</td>\n      <td>0.005345</td>\n      <td>...</td>\n      <td>-0.001676</td>\n      <td>-0.013348</td>\n      <td>-0.000505</td>\n      <td>-0.004418</td>\n      <td>0.008398</td>\n      <td>0.021120</td>\n      <td>-0.007946</td>\n      <td>-0.006016</td>\n      <td>0.003147</td>\n      <td>1.0</td>\n    </tr>\n    <tr>\n      <th>200298</th>\n      <td>-0.008877</td>\n      <td>0.007934</td>\n      <td>0.010276</td>\n      <td>-0.009344</td>\n      <td>-0.002490</td>\n      <td>0.014135</td>\n      <td>0.001304</td>\n      <td>-0.016034</td>\n      <td>-0.010241</td>\n      <td>-0.008443</td>\n      <td>...</td>\n      <td>-0.006603</td>\n      <td>0.005039</td>\n      <td>-0.017867</td>\n      <td>0.003022</td>\n      <td>0.004023</td>\n      <td>-0.014954</td>\n      <td>0.007010</td>\n      <td>0.009864</td>\n      <td>-0.006455</td>\n      <td>0.0</td>\n    </tr>\n    <tr>\n      <th>200299</th>\n      <td>-0.011823</td>\n      <td>0.021671</td>\n      <td>0.005062</td>\n      <td>-0.007431</td>\n      <td>0.010699</td>\n      <td>0.006057</td>\n      <td>-0.009673</td>\n      <td>0.015748</td>\n      <td>0.000147</td>\n      <td>0.011130</td>\n      <td>...</td>\n      <td>-0.012901</td>\n      <td>-0.010145</td>\n      <td>0.002470</td>\n      <td>-0.006715</td>\n      <td>0.016845</td>\n      <td>-0.012443</td>\n      <td>-0.013055</td>\n      <td>-0.010687</td>\n      <td>-0.004477</td>\n      <td>0.0</td>\n    </tr>\n  </tbody>\n</table>\n<p>200300 rows × 490 columns</p>\n</div>"
     },
     "execution_count": 10,
     "metadata": {},
     "output_type": "execute_result"
    }
   ]
  },
  {
   "cell_type": "code",
   "metadata": {
    "id": "47WSQhtpzDor"
   },
   "source": [
    "orig = train_loader.dataset.tensors[0].detach().numpy()[0, :]\n",
    "gen = generated_np[0, :-1]"
   ],
   "execution_count": 11,
   "outputs": []
  },
  {
   "cell_type": "code",
   "metadata": {
    "id": "iavXwM8zzz0U"
   },
   "source": [
    "import matplotlib.pyplot as plt"
   ],
   "execution_count": 12,
   "outputs": []
  },
  {
   "cell_type": "code",
   "metadata": {
    "colab": {
     "base_uri": "https://localhost:8080/",
     "height": 284
    },
    "id": "Vt0MNaKw0SKh",
    "executionInfo": {
     "status": "ok",
     "timestamp": 1637671886269,
     "user_tz": -60,
     "elapsed": 518,
     "user": {
      "displayName": "Ilja Rasin",
      "photoUrl": "https://lh3.googleusercontent.com/a/default-user=s64",
      "userId": "18166776380552111636"
     }
    },
    "outputId": "a3c0a1de-aa3f-485c-80cc-e2f5c698bc61"
   },
   "source": [
    "plt.plot(orig[:100])\n",
    "plt.plot(gen[:100])"
   ],
   "execution_count": 13,
   "outputs": [
    {
     "data": {
      "text/plain": "[<matplotlib.lines.Line2D at 0x1f5e4778fd0>]"
     },
     "execution_count": 13,
     "metadata": {},
     "output_type": "execute_result"
    },
    {
     "data": {
      "text/plain": "<Figure size 432x288 with 1 Axes>",
      "image/png": "[encoded data removed]"
     },
     "metadata": {
      "needs_background": "light"
     },
     "output_type": "display_data"
    }
   ]
  },
  {
   "cell_type": "code",
   "metadata": {
    "colab": {
     "base_uri": "https://localhost:8080/",
     "height": 284
    },
    "id": "zjt0MlTZ0eEi",
    "executionInfo": {
     "status": "ok",
     "timestamp": 1637671799739,
     "user_tz": -60,
     "elapsed": 517,
     "user": {
      "displayName": "Ilja Rasin",
      "photoUrl": "https://lh3.googleusercontent.com/a/default-user=s64",
      "userId": "18166776380552111636"
     }
    },
    "outputId": "e9c1faa0-6c34-4028-c42a-f2bdbd8950de"
   },
   "source": [
    "plt.plot(orig[:100])\n",
    "plt.plot(gen[:100])"
   ],
   "execution_count": 14,
   "outputs": [
    {
     "data": {
      "text/plain": "[<matplotlib.lines.Line2D at 0x1f5ee3562b0>]"
     },
     "execution_count": 14,
     "metadata": {},
     "output_type": "execute_result"
    },
    {
     "data": {
      "text/plain": "<Figure size 432x288 with 1 Axes>",
      "image/png": "[encoded data removed]"
     },
     "metadata": {
      "needs_background": "light"
     },
     "output_type": "display_data"
    }
   ]
  },
  {
   "cell_type": "code",
   "metadata": {
    "colab": {
     "base_uri": "https://localhost:8080/"
    },
    "id": "5Qs32r8t15J1",
    "executionInfo": {
     "status": "ok",
     "timestamp": 1637671972082,
     "user_tz": -60,
     "elapsed": 313,
     "user": {
      "displayName": "Ilja Rasin",
      "photoUrl": "https://lh3.googleusercontent.com/a/default-user=s64",
      "userId": "18166776380552111636"
     }
    },
    "outputId": "d28c3b6a-4156-4faa-da54-53a95593ae2c"
   },
   "source": [
    "generated_np.shape"
   ],
   "execution_count": 15,
   "outputs": [
    {
     "data": {
      "text/plain": "(200300, 490)"
     },
     "execution_count": 15,
     "metadata": {},
     "output_type": "execute_result"
    }
   ]
  },
  {
   "cell_type": "code",
   "metadata": {
    "id": "m8O22E6X2yoo"
   },
   "source": [
    "# np.int()\n",
    "# tttt.int()\n",
    "# "
   ],
   "execution_count": 16,
   "outputs": []
  }
 ]
}