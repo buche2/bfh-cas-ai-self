{
 "nbformat": 4,
 "nbformat_minor": 0,
 "metadata": {
  "colab": {
   "name": "pytorch_quickstart.ipynb",
   "provenance": [],
   "collapsed_sections": [],
   "authorship_tag": "ABX9TyNjCYwrqQW7mB28ZrW+b+yY"
  },
  "kernelspec": {
   "name": "python3",
   "language": "python",
   "display_name": "Python 3 (ipykernel)"
  },
  "language_info": {
   "name": "python"
  }
 },
 "cells": [
  {
   "cell_type": "code",
   "metadata": {
    "id": "VUN9RDvb5Ofc",
    "executionInfo": {
     "status": "ok",
     "timestamp": 1636454928256,
     "user_tz": -60,
     "elapsed": 260,
     "user": {
      "displayName": "Enrico Buchs",
      "photoUrl": "https://lh3.googleusercontent.com/a-/AOh14GhP98XjKRrYRqBVXlN-S0eXEQ93uZR_iYmbwfR16w=s64",
      "userId": "08940745416390111861"
     }
    }
   },
   "source": [
    "import torch\n",
    "from torch import nn\n",
    "from torch.utils.data import DataLoader\n",
    "from torchvision import datasets\n",
    "from torchvision.transforms import ToTensor, Lambda, Compose\n",
    "import matplotlib.pyplot as plt\n",
    "\n",
    "import torch.utils.data as data_utils"
   ],
   "execution_count": 3,
   "outputs": []
  },
  {
   "cell_type": "code",
   "metadata": {
    "id": "UEdh029wTMkC",
    "executionInfo": {
     "status": "ok",
     "timestamp": 1636454928496,
     "user_tz": -60,
     "elapsed": 7,
     "user": {
      "displayName": "Enrico Buchs",
      "photoUrl": "https://lh3.googleusercontent.com/a-/AOh14GhP98XjKRrYRqBVXlN-S0eXEQ93uZR_iYmbwfR16w=s64",
      "userId": "08940745416390111861"
     }
    }
   },
   "source": [
    "# aus csv laden zu torch und float konvertieren\n",
    "# features und labels separat laden\n",
    "# training_data = data_utils.TensorDataset(features_train, labels_train)"
   ],
   "execution_count": 4,
   "outputs": []
  },
  {
   "cell_type": "code",
   "metadata": {
    "id": "3WlrWXfc56sO",
    "executionInfo": {
     "status": "ok",
     "timestamp": 1636456107964,
     "user_tz": -60,
     "elapsed": 234,
     "user": {
      "displayName": "Enrico Buchs",
      "photoUrl": "https://lh3.googleusercontent.com/a-/AOh14GhP98XjKRrYRqBVXlN-S0eXEQ93uZR_iYmbwfR16w=s64",
      "userId": "08940745416390111861"
     }
    }
   },
   "source": [
    "training_data = datasets.FashionMNIST(\n",
    "#training_data = datasets.MNIST(\n",
    "    root=\"data\",\n",
    "    train=True,\n",
    "    download=True,\n",
    "    transform=ToTensor(),\n",
    ")\n",
    "\n",
    "# Download test data from open datasets.\n",
    "test_data = datasets.FashionMNIST(\n",
    "#test_data = datasets.MNIST(\n",
    "    root=\"data\",\n",
    "    train=False,\n",
    "    download=True,\n",
    "    transform=ToTensor(),\n",
    ")"
   ],
   "execution_count": 5,
   "outputs": [
    {
     "name": "stdout",
     "output_type": "stream",
     "text": [
      "Downloading http://fashion-mnist.s3-website.eu-central-1.amazonaws.com/train-images-idx3-ubyte.gz\n",
      "Downloading http://fashion-mnist.s3-website.eu-central-1.amazonaws.com/train-images-idx3-ubyte.gz to data\\FashionMNIST\\raw\\train-images-idx3-ubyte.gz\n"
     ]
    },
    {
     "data": {
      "text/plain": "  0%|          | 0/26421880 [00:00<?, ?it/s]",
      "application/vnd.jupyter.widget-view+json": {
       "version_major": 2,
       "version_minor": 0,
       "model_id": "07931dee25634b6dbb587eb4d5677342"
      }
     },
     "metadata": {},
     "output_type": "display_data"
    },
    {
     "name": "stdout",
     "output_type": "stream",
     "text": [
      "Extracting data\\FashionMNIST\\raw\\train-images-idx3-ubyte.gz to data\\FashionMNIST\\raw\n",
      "\n",
      "Downloading http://fashion-mnist.s3-website.eu-central-1.amazonaws.com/train-labels-idx1-ubyte.gz\n",
      "Downloading http://fashion-mnist.s3-website.eu-central-1.amazonaws.com/train-labels-idx1-ubyte.gz to data\\FashionMNIST\\raw\\train-labels-idx1-ubyte.gz\n"
     ]
    },
    {
     "data": {
      "text/plain": "  0%|          | 0/29515 [00:00<?, ?it/s]",
      "application/vnd.jupyter.widget-view+json": {
       "version_major": 2,
       "version_minor": 0,
       "model_id": "caf2c4a68b134480959510717c76687f"
      }
     },
     "metadata": {},
     "output_type": "display_data"
    },
    {
     "name": "stdout",
     "output_type": "stream",
     "text": [
      "Extracting data\\FashionMNIST\\raw\\train-labels-idx1-ubyte.gz to data\\FashionMNIST\\raw\n",
      "\n",
      "Downloading http://fashion-mnist.s3-website.eu-central-1.amazonaws.com/t10k-images-idx3-ubyte.gz\n",
      "Downloading http://fashion-mnist.s3-website.eu-central-1.amazonaws.com/t10k-images-idx3-ubyte.gz to data\\FashionMNIST\\raw\\t10k-images-idx3-ubyte.gz\n"
     ]
    },
    {
     "data": {
      "text/plain": "  0%|          | 0/4422102 [00:00<?, ?it/s]",
      "application/vnd.jupyter.widget-view+json": {
       "version_major": 2,
       "version_minor": 0,
       "model_id": "682a2e3e9c504a3b9b19e7de60b6330d"
      }
     },
     "metadata": {},
     "output_type": "display_data"
    },
    {
     "name": "stdout",
     "output_type": "stream",
     "text": [
      "Extracting data\\FashionMNIST\\raw\\t10k-images-idx3-ubyte.gz to data\\FashionMNIST\\raw\n",
      "\n",
      "Downloading http://fashion-mnist.s3-website.eu-central-1.amazonaws.com/t10k-labels-idx1-ubyte.gz\n",
      "Downloading http://fashion-mnist.s3-website.eu-central-1.amazonaws.com/t10k-labels-idx1-ubyte.gz to data\\FashionMNIST\\raw\\t10k-labels-idx1-ubyte.gz\n"
     ]
    },
    {
     "data": {
      "text/plain": "  0%|          | 0/5148 [00:00<?, ?it/s]",
      "application/vnd.jupyter.widget-view+json": {
       "version_major": 2,
       "version_minor": 0,
       "model_id": "7ab6ec4c1a924c779a1f214794885c78"
      }
     },
     "metadata": {},
     "output_type": "display_data"
    },
    {
     "name": "stdout",
     "output_type": "stream",
     "text": [
      "Extracting data\\FashionMNIST\\raw\\t10k-labels-idx1-ubyte.gz to data\\FashionMNIST\\raw\n",
      "\n"
     ]
    }
   ]
  },
  {
   "cell_type": "code",
   "metadata": {
    "colab": {
     "base_uri": "https://localhost:8080/"
    },
    "id": "ogS3cUOdYgj5",
    "executionInfo": {
     "status": "ok",
     "timestamp": 1636456110595,
     "user_tz": -60,
     "elapsed": 247,
     "user": {
      "displayName": "Enrico Buchs",
      "photoUrl": "https://lh3.googleusercontent.com/a-/AOh14GhP98XjKRrYRqBVXlN-S0eXEQ93uZR_iYmbwfR16w=s64",
      "userId": "08940745416390111861"
     }
    },
    "outputId": "03ee3a11-0b4d-4162-a8b9-9cd40393f808"
   },
   "source": [
    "training_data.classes"
   ],
   "execution_count": 6,
   "outputs": [
    {
     "data": {
      "text/plain": "['T-shirt/top',\n 'Trouser',\n 'Pullover',\n 'Dress',\n 'Coat',\n 'Sandal',\n 'Shirt',\n 'Sneaker',\n 'Bag',\n 'Ankle boot']"
     },
     "execution_count": 6,
     "metadata": {},
     "output_type": "execute_result"
    }
   ]
  },
  {
   "cell_type": "code",
   "metadata": {
    "colab": {
     "base_uri": "https://localhost:8080/"
    },
    "id": "o78TlZBv6eZ1",
    "executionInfo": {
     "status": "ok",
     "timestamp": 1636454928866,
     "user_tz": -60,
     "elapsed": 375,
     "user": {
      "displayName": "Enrico Buchs",
      "photoUrl": "https://lh3.googleusercontent.com/a-/AOh14GhP98XjKRrYRqBVXlN-S0eXEQ93uZR_iYmbwfR16w=s64",
      "userId": "08940745416390111861"
     }
    },
    "outputId": "f9fff5ba-57c2-41f7-a7b6-03996b4944fa"
   },
   "source": [
    "batch_size = 64\n",
    "\n",
    "# Create data loaders.\n",
    "train_dataloader = DataLoader(training_data, batch_size=batch_size)\n",
    "test_dataloader = DataLoader(test_data, batch_size=batch_size)\n",
    "\n",
    "for X, y in test_dataloader:\n",
    "    print(\"Shape of X [N, C, H, W]: \", X.shape)\n",
    "    print(\"Shape of y: \", y.shape, y.dtype)\n",
    "    break"
   ],
   "execution_count": 8,
   "outputs": [
    {
     "name": "stdout",
     "output_type": "stream",
     "text": [
      "Shape of X [N, C, H, W]:  torch.Size([64, 1, 28, 28])\n",
      "Shape of y:  torch.Size([64]) torch.int64\n"
     ]
    }
   ]
  },
  {
   "cell_type": "markdown",
   "metadata": {
    "id": "nXMx0W317_ia"
   },
   "source": [
    "Eigenes Beispiel wie etwas trainiert werden kann"
   ]
  },
  {
   "cell_type": "code",
   "metadata": {
    "id": "w2IFQYJ97tOt",
    "executionInfo": {
     "status": "ok",
     "timestamp": 1636454928868,
     "user_tz": -60,
     "elapsed": 19,
     "user": {
      "displayName": "Enrico Buchs",
      "photoUrl": "https://lh3.googleusercontent.com/a-/AOh14GhP98XjKRrYRqBVXlN-S0eXEQ93uZR_iYmbwfR16w=s64",
      "userId": "08940745416390111861"
     }
    }
   },
   "source": [
    "import numpy as np\n",
    "\n",
    "my_array = np.ones(28*28)\n",
    "my_array = my_array.reshape(1, my_array.shape[0])\n",
    "my_tensor = torch.tensor(my_array).float()\n",
    "# my_tensor = torch.tensor(my_array).reshape(1,-1).float()"
   ],
   "execution_count": 9,
   "outputs": []
  },
  {
   "cell_type": "code",
   "metadata": {
    "colab": {
     "base_uri": "https://localhost:8080/"
    },
    "id": "Xwu94VR86jr5",
    "executionInfo": {
     "status": "ok",
     "timestamp": 1636454928870,
     "user_tz": -60,
     "elapsed": 20,
     "user": {
      "displayName": "Enrico Buchs",
      "photoUrl": "https://lh3.googleusercontent.com/a-/AOh14GhP98XjKRrYRqBVXlN-S0eXEQ93uZR_iYmbwfR16w=s64",
      "userId": "08940745416390111861"
     }
    },
    "outputId": "f7b60675-6d73-48e8-d553-4d0569191d47"
   },
   "source": [
    "# Get cpu or gpu device for training.\n",
    "device = \"cuda\" if torch.cuda.is_available() else \"cpu\"\n",
    "print(\"Using {} device\".format(device))\n",
    "\n",
    "# Define model\n",
    "class NeuralNetwork(nn.Module):\n",
    "    def __init__(self):\n",
    "        super(NeuralNetwork, self).__init__()\n",
    "        self.flatten = nn.Flatten()\n",
    "        #self.linear_relu_stack = nn.Sequential(\n",
    "        #    nn.Linear(28*28, 512), #Dense\n",
    "        #    nn.ReLU(),\n",
    "        #    nn.Linear(512, 512),\n",
    "        #    nn.ReLU(),\n",
    "        #    nn.Linear(512, 10)\n",
    "        #)\n",
    "        self.linear_relu_stack = nn.Sequential(\n",
    "            nn.Linear(28*28, 36), #Dense\n",
    "            nn.ReLU(),\n",
    "            nn.Linear(36, 256),\n",
    "            nn.ReLU(),\n",
    "            nn.Linear(256, 512),\n",
    "            nn.ReLU(),\n",
    "            nn.Linear(512, 10)\n",
    "        )\n",
    "\n",
    "    def forward(self, x):\n",
    "        x = self.flatten(x)\n",
    "        logits = self.linear_relu_stack(x)\n",
    "        return logits\n",
    "\n",
    "model = NeuralNetwork().to(device)\n",
    "print(model)"
   ],
   "execution_count": 10,
   "outputs": [
    {
     "name": "stdout",
     "output_type": "stream",
     "text": [
      "Using cpu device\n",
      "NeuralNetwork(\n",
      "  (flatten): Flatten(start_dim=1, end_dim=-1)\n",
      "  (linear_relu_stack): Sequential(\n",
      "    (0): Linear(in_features=784, out_features=36, bias=True)\n",
      "    (1): ReLU()\n",
      "    (2): Linear(in_features=36, out_features=256, bias=True)\n",
      "    (3): ReLU()\n",
      "    (4): Linear(in_features=256, out_features=512, bias=True)\n",
      "    (5): ReLU()\n",
      "    (6): Linear(in_features=512, out_features=10, bias=True)\n",
      "  )\n",
      ")\n"
     ]
    }
   ]
  },
  {
   "cell_type": "code",
   "metadata": {
    "colab": {
     "base_uri": "https://localhost:8080/"
    },
    "id": "avuLIXWfCyar",
    "executionInfo": {
     "status": "ok",
     "timestamp": 1636454928871,
     "user_tz": -60,
     "elapsed": 18,
     "user": {
      "displayName": "Enrico Buchs",
      "photoUrl": "https://lh3.googleusercontent.com/a-/AOh14GhP98XjKRrYRqBVXlN-S0eXEQ93uZR_iYmbwfR16w=s64",
      "userId": "08940745416390111861"
     }
    },
    "outputId": "ec5110f8-85c4-4c21-a825-b05a4d49475b"
   },
   "source": [
    "model(my_tensor.to(device))"
   ],
   "execution_count": 12,
   "outputs": [
    {
     "data": {
      "text/plain": "tensor([[-0.0233, -0.0161,  0.0695,  0.0478,  0.0203, -0.0343, -0.0437, -0.0619,\n          0.0088,  0.0085]], grad_fn=<AddmmBackward0>)"
     },
     "execution_count": 12,
     "metadata": {},
     "output_type": "execute_result"
    }
   ]
  },
  {
   "cell_type": "code",
   "metadata": {
    "id": "0UTij0dU6yPW",
    "executionInfo": {
     "status": "ok",
     "timestamp": 1636454928871,
     "user_tz": -60,
     "elapsed": 16,
     "user": {
      "displayName": "Enrico Buchs",
      "photoUrl": "https://lh3.googleusercontent.com/a-/AOh14GhP98XjKRrYRqBVXlN-S0eXEQ93uZR_iYmbwfR16w=s64",
      "userId": "08940745416390111861"
     }
    }
   },
   "source": [
    "loss_fn = nn.CrossEntropyLoss() # backward (gradienten werden gebildet partial derivatives der loss function und gradient)\n",
    "#optimizer = torch.optim.SGD(model.parameters(), lr=1e-3)\n",
    "optimizer = torch.optim.Adam(model.parameters(), lr=1e-3) # step (update) params = params - learningrate * grad"
   ],
   "execution_count": 13,
   "outputs": []
  },
  {
   "cell_type": "code",
   "metadata": {
    "id": "kFCTDXIe61iJ",
    "executionInfo": {
     "status": "ok",
     "timestamp": 1636454928873,
     "user_tz": -60,
     "elapsed": 17,
     "user": {
      "displayName": "Enrico Buchs",
      "photoUrl": "https://lh3.googleusercontent.com/a-/AOh14GhP98XjKRrYRqBVXlN-S0eXEQ93uZR_iYmbwfR16w=s64",
      "userId": "08940745416390111861"
     }
    }
   },
   "source": [
    "def train(dataloader, model, loss_fn, optimizer):\n",
    "    size = len(dataloader.dataset)\n",
    "    model.train()\n",
    "    for batch, (X, y) in enumerate(dataloader):\n",
    "        X, y = X.to(device), y.to(device)\n",
    "\n",
    "        # Compute prediction error\n",
    "        pred = model(X)\n",
    "        loss = loss_fn(pred, y)\n",
    "\n",
    "        # Backpropagation\n",
    "        optimizer.zero_grad()\n",
    "        loss.backward()\n",
    "        optimizer.step()\n",
    "\n",
    "        if batch % 100 == 0:\n",
    "            loss, current = loss.item(), batch * len(X)\n",
    "            print(f\"loss: {loss:>7f}  [{current:>5d}/{size:>5d}]\")"
   ],
   "execution_count": 14,
   "outputs": []
  },
  {
   "cell_type": "code",
   "metadata": {
    "id": "SfyiIWKk6_dY",
    "executionInfo": {
     "status": "ok",
     "timestamp": 1636454928873,
     "user_tz": -60,
     "elapsed": 15,
     "user": {
      "displayName": "Enrico Buchs",
      "photoUrl": "https://lh3.googleusercontent.com/a-/AOh14GhP98XjKRrYRqBVXlN-S0eXEQ93uZR_iYmbwfR16w=s64",
      "userId": "08940745416390111861"
     }
    }
   },
   "source": [
    "def test(dataloader, model, loss_fn):\n",
    "    size = len(dataloader.dataset)\n",
    "    num_batches = len(dataloader)\n",
    "    model.eval()\n",
    "    test_loss, correct = 0, 0\n",
    "    with torch.no_grad():\n",
    "        for X, y in dataloader:\n",
    "            X, y = X.to(device), y.to(device)\n",
    "            pred = model(X)\n",
    "            test_loss += loss_fn(pred, y).item()\n",
    "            correct += (pred.argmax(1) == y).type(torch.float).sum().item()\n",
    "    test_loss /= num_batches\n",
    "    correct /= size\n",
    "    print(f\"Test Error: \\n Accuracy: {(100*correct):>0.1f}%, Avg loss: {test_loss:>8f} \\n\")"
   ],
   "execution_count": 15,
   "outputs": []
  },
  {
   "cell_type": "code",
   "metadata": {
    "colab": {
     "base_uri": "https://localhost:8080/"
    },
    "id": "L6RFpfWI7DGB",
    "executionInfo": {
     "status": "ok",
     "timestamp": 1636454975741,
     "user_tz": -60,
     "elapsed": 46883,
     "user": {
      "displayName": "Enrico Buchs",
      "photoUrl": "https://lh3.googleusercontent.com/a-/AOh14GhP98XjKRrYRqBVXlN-S0eXEQ93uZR_iYmbwfR16w=s64",
      "userId": "08940745416390111861"
     }
    },
    "outputId": "a1921efa-1762-4236-c520-ce3d4f5fdc32"
   },
   "source": [
    "epochs = 5\n",
    "for t in range(epochs):\n",
    "    print(f\"Epoch {t+1}\\n-------------------------------\")\n",
    "    train(train_dataloader, model, loss_fn, optimizer)\n",
    "    test(test_dataloader, model, loss_fn)\n",
    "print(\"Done!\")"
   ],
   "execution_count": 16,
   "outputs": [
    {
     "name": "stdout",
     "output_type": "stream",
     "text": [
      "Epoch 1\n",
      "-------------------------------\n",
      "loss: 2.303838  [    0/60000]\n",
      "loss: 0.695534  [ 6400/60000]\n",
      "loss: 0.414666  [12800/60000]\n",
      "loss: 0.569396  [19200/60000]\n",
      "loss: 0.502223  [25600/60000]\n",
      "loss: 0.450226  [32000/60000]\n",
      "loss: 0.398551  [38400/60000]\n",
      "loss: 0.570637  [44800/60000]\n",
      "loss: 0.534654  [51200/60000]\n",
      "loss: 0.567356  [57600/60000]\n",
      "Test Error: \n",
      " Accuracy: 83.2%, Avg loss: 0.461796 \n",
      "\n",
      "Epoch 2\n",
      "-------------------------------\n",
      "loss: 0.298944  [    0/60000]\n",
      "loss: 0.404177  [ 6400/60000]\n",
      "loss: 0.297092  [12800/60000]\n",
      "loss: 0.414331  [19200/60000]\n",
      "loss: 0.471028  [25600/60000]\n",
      "loss: 0.357430  [32000/60000]\n",
      "loss: 0.288358  [38400/60000]\n",
      "loss: 0.473514  [44800/60000]\n",
      "loss: 0.497024  [51200/60000]\n",
      "loss: 0.524065  [57600/60000]\n",
      "Test Error: \n",
      " Accuracy: 84.6%, Avg loss: 0.423329 \n",
      "\n",
      "Epoch 3\n",
      "-------------------------------\n",
      "loss: 0.248360  [    0/60000]\n",
      "loss: 0.342432  [ 6400/60000]\n",
      "loss: 0.271575  [12800/60000]\n",
      "loss: 0.370156  [19200/60000]\n",
      "loss: 0.403484  [25600/60000]\n",
      "loss: 0.376916  [32000/60000]\n",
      "loss: 0.266908  [38400/60000]\n",
      "loss: 0.448934  [44800/60000]\n",
      "loss: 0.422841  [51200/60000]\n",
      "loss: 0.446756  [57600/60000]\n",
      "Test Error: \n",
      " Accuracy: 85.6%, Avg loss: 0.407287 \n",
      "\n",
      "Epoch 4\n",
      "-------------------------------\n",
      "loss: 0.246818  [    0/60000]\n",
      "loss: 0.301427  [ 6400/60000]\n",
      "loss: 0.252036  [12800/60000]\n",
      "loss: 0.348451  [19200/60000]\n",
      "loss: 0.395250  [25600/60000]\n",
      "loss: 0.345677  [32000/60000]\n",
      "loss: 0.264225  [38400/60000]\n",
      "loss: 0.442461  [44800/60000]\n",
      "loss: 0.380165  [51200/60000]\n",
      "loss: 0.430397  [57600/60000]\n",
      "Test Error: \n",
      " Accuracy: 86.3%, Avg loss: 0.389975 \n",
      "\n",
      "Epoch 5\n",
      "-------------------------------\n",
      "loss: 0.255324  [    0/60000]\n",
      "loss: 0.314034  [ 6400/60000]\n",
      "loss: 0.210494  [12800/60000]\n",
      "loss: 0.330541  [19200/60000]\n",
      "loss: 0.439928  [25600/60000]\n",
      "loss: 0.326527  [32000/60000]\n",
      "loss: 0.269538  [38400/60000]\n",
      "loss: 0.402412  [44800/60000]\n",
      "loss: 0.331192  [51200/60000]\n",
      "loss: 0.402523  [57600/60000]\n",
      "Test Error: \n",
      " Accuracy: 86.4%, Avg loss: 0.373056 \n",
      "\n",
      "Done!\n"
     ]
    }
   ]
  },
  {
   "cell_type": "code",
   "metadata": {
    "colab": {
     "base_uri": "https://localhost:8080/"
    },
    "id": "Yx2ic2gR7VUP",
    "executionInfo": {
     "status": "ok",
     "timestamp": 1636454975742,
     "user_tz": -60,
     "elapsed": 19,
     "user": {
      "displayName": "Enrico Buchs",
      "photoUrl": "https://lh3.googleusercontent.com/a-/AOh14GhP98XjKRrYRqBVXlN-S0eXEQ93uZR_iYmbwfR16w=s64",
      "userId": "08940745416390111861"
     }
    },
    "outputId": "a6516737-2495-45b5-972c-8cd445217d38"
   },
   "source": [
    "torch.save(model.state_dict(), \"model.pth\")\n",
    "print(\"Saved PyTorch Model State to model.pth\")"
   ],
   "execution_count": 17,
   "outputs": [
    {
     "name": "stdout",
     "output_type": "stream",
     "text": [
      "Saved PyTorch Model State to model.pth\n"
     ]
    }
   ]
  },
  {
   "cell_type": "code",
   "metadata": {
    "colab": {
     "base_uri": "https://localhost:8080/"
    },
    "id": "yKMiVskq7aD1",
    "executionInfo": {
     "status": "ok",
     "timestamp": 1636454975743,
     "user_tz": -60,
     "elapsed": 17,
     "user": {
      "displayName": "Enrico Buchs",
      "photoUrl": "https://lh3.googleusercontent.com/a-/AOh14GhP98XjKRrYRqBVXlN-S0eXEQ93uZR_iYmbwfR16w=s64",
      "userId": "08940745416390111861"
     }
    },
    "outputId": "5abc2379-c682-43a7-ed4c-00e1d13f7099"
   },
   "source": [
    "model = NeuralNetwork()\n",
    "model.load_state_dict(torch.load(\"model.pth\"))"
   ],
   "execution_count": 18,
   "outputs": [
    {
     "data": {
      "text/plain": "<All keys matched successfully>"
     },
     "execution_count": 18,
     "metadata": {},
     "output_type": "execute_result"
    }
   ]
  },
  {
   "cell_type": "code",
   "metadata": {
    "colab": {
     "base_uri": "https://localhost:8080/"
    },
    "id": "mKVNg_t77dkg",
    "executionInfo": {
     "status": "ok",
     "timestamp": 1636456133924,
     "user_tz": -60,
     "elapsed": 232,
     "user": {
      "displayName": "Enrico Buchs",
      "photoUrl": "https://lh3.googleusercontent.com/a-/AOh14GhP98XjKRrYRqBVXlN-S0eXEQ93uZR_iYmbwfR16w=s64",
      "userId": "08940745416390111861"
     }
    },
    "outputId": "8d5328f4-aa86-4a8e-b577-245bac092b90"
   },
   "source": [
    "classes = [\n",
    "    \"T-shirt/top\",\n",
    "    \"Trouser\",\n",
    "    \"Pullover\",\n",
    "    \"Dress\",\n",
    "    \"Coat\",\n",
    "    \"Sandal\",\n",
    "    \"Shirt\",\n",
    "    \"Sneaker\",\n",
    "    \"Bag\",\n",
    "    \"Ankle boot\",\n",
    "]\n",
    "\n",
    "classes = training_data.classes\n",
    "\n",
    "model.eval()\n",
    "x, y = test_data[0][0], test_data[0][1]\n",
    "with torch.no_grad():\n",
    "    pred = model(x)\n",
    "    predicted, actual = classes[pred[0].argmax(0)], classes[y]\n",
    "    print(f'Predicted: \"{predicted}\", Actual: \"{actual}\"')"
   ],
   "execution_count": 19,
   "outputs": [
    {
     "name": "stdout",
     "output_type": "stream",
     "text": [
      "Predicted: \"Ankle boot\", Actual: \"Ankle boot\"\n"
     ]
    }
   ]
  }
 ]
}