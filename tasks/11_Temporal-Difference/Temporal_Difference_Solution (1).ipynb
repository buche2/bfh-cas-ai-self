{
 "nbformat": 4,
 "nbformat_minor": 0,
 "metadata": {
  "anaconda-cloud": {},
  "kernelspec": {
   "display_name": "Python 3",
   "language": "python",
   "name": "python3"
  },
  "language_info": {
   "codemirror_mode": {
    "name": "ipython",
    "version": 3
   },
   "file_extension": ".py",
   "mimetype": "text/x-python",
   "name": "python",
   "nbconvert_exporter": "python",
   "pygments_lexer": "ipython3",
   "version": "3.6.4"
  },
  "colab": {
   "name": "Temporal_Difference_Solution.ipynb",
   "provenance": [
    {
     "file_id": "1dloqQlR77yAIXEWgRGWSoSJXflMqCUuN",
     "timestamp": 1642499600168
    }
   ]
  }
 },
 "cells": [
  {
   "cell_type": "markdown",
   "metadata": {
    "id": "f2tB9PFs_tJe"
   },
   "source": [
    "# Temporal-Difference Methods\n",
    "\n",
    "In this notebook, you will write your own implementations of many Temporal-Difference (TD) methods.\n",
    "\n",
    "While we have provided some starter code, you are welcome to erase these hints and write your code from scratch.\n",
    "\n",
    "---\n",
    "\n",
    "### Part 0: Explore CliffWalkingEnv\n",
    "\n",
    "We begin by importing the necessary packages."
   ]
  },
  {
   "cell_type": "code",
   "metadata": {
    "id": "DtE_tY8o_tJh",
    "executionInfo": {
     "status": "ok",
     "timestamp": 1642501131892,
     "user_tz": -60,
     "elapsed": 599,
     "user": {
      "displayName": "Benjamin Mathieu",
      "photoUrl": "https://lh3.googleusercontent.com/a-/AOh14GgdNzE8ns7Jf15dADRJ1bGeu4HwhPyfv4aXWeHTZw=s64",
      "userId": "14480231919675942800"
     }
    }
   },
   "source": [
    "!pip install gym\n",
    "!pip install numpy\n",
    "!pip install matplotlib\n",
    "!pip install seaborn\n",
    "import sys\n",
    "import gym\n",
    "import numpy as np\n",
    "import random\n",
    "import math\n",
    "from collections import defaultdict, deque\n",
    "import matplotlib.pyplot as plt\n",
    "%matplotlib inline\n",
    "\n",
    "# import check_test\n",
    "from plot_utils import plot_values"
   ],
   "execution_count": 3,
   "outputs": [
    {
     "name": "stdout",
     "output_type": "stream",
     "text": [
      "Requirement already satisfied: gym in c:\\users\\enrico\\anaconda3\\envs\\bfh\\lib\\site-packages (0.21.0)\n",
      "Requirement already satisfied: numpy>=1.18.0 in c:\\users\\enrico\\anaconda3\\envs\\bfh\\lib\\site-packages (from gym) (1.22.2)\n",
      "Requirement already satisfied: cloudpickle>=1.2.0 in c:\\users\\enrico\\anaconda3\\envs\\bfh\\lib\\site-packages (from gym) (2.0.0)\n",
      "Requirement already satisfied: numpy in c:\\users\\enrico\\anaconda3\\envs\\bfh\\lib\\site-packages (1.22.2)\n",
      "Requirement already satisfied: matplotlib in c:\\users\\enrico\\anaconda3\\envs\\bfh\\lib\\site-packages (3.5.1)\n",
      "Requirement already satisfied: cycler>=0.10 in c:\\users\\enrico\\anaconda3\\envs\\bfh\\lib\\site-packages (from matplotlib) (0.11.0)\n",
      "Requirement already satisfied: python-dateutil>=2.7 in c:\\users\\enrico\\anaconda3\\envs\\bfh\\lib\\site-packages (from matplotlib) (2.8.2)\n",
      "Requirement already satisfied: pillow>=6.2.0 in c:\\users\\enrico\\anaconda3\\envs\\bfh\\lib\\site-packages (from matplotlib) (9.0.1)\n",
      "Requirement already satisfied: pyparsing>=2.2.1 in c:\\users\\enrico\\anaconda3\\envs\\bfh\\lib\\site-packages (from matplotlib) (3.0.4)\n",
      "Requirement already satisfied: fonttools>=4.22.0 in c:\\users\\enrico\\anaconda3\\envs\\bfh\\lib\\site-packages (from matplotlib) (4.29.1)\n",
      "Requirement already satisfied: packaging>=20.0 in c:\\users\\enrico\\anaconda3\\envs\\bfh\\lib\\site-packages (from matplotlib) (21.3)\n",
      "Requirement already satisfied: kiwisolver>=1.0.1 in c:\\users\\enrico\\anaconda3\\envs\\bfh\\lib\\site-packages (from matplotlib) (1.3.2)\n",
      "Requirement already satisfied: numpy>=1.17 in c:\\users\\enrico\\anaconda3\\envs\\bfh\\lib\\site-packages (from matplotlib) (1.22.2)\n",
      "Requirement already satisfied: six>=1.5 in c:\\users\\enrico\\anaconda3\\envs\\bfh\\lib\\site-packages (from python-dateutil>=2.7->matplotlib) (1.16.0)\n",
      "Collecting seaborn\n",
      "  Downloading seaborn-0.11.2-py3-none-any.whl (292 kB)\n",
      "Collecting scipy>=1.0\n",
      "  Downloading scipy-1.7.3-cp39-cp39-win_amd64.whl (34.3 MB)\n",
      "Collecting pandas>=0.23\n",
      "  Using cached pandas-1.4.0-cp39-cp39-win_amd64.whl (10.5 MB)\n",
      "Requirement already satisfied: numpy>=1.15 in c:\\users\\enrico\\anaconda3\\envs\\bfh\\lib\\site-packages (from seaborn) (1.22.2)\n",
      "Requirement already satisfied: matplotlib>=2.2 in c:\\users\\enrico\\anaconda3\\envs\\bfh\\lib\\site-packages (from seaborn) (3.5.1)\n",
      "Requirement already satisfied: python-dateutil>=2.7 in c:\\users\\enrico\\anaconda3\\envs\\bfh\\lib\\site-packages (from matplotlib>=2.2->seaborn) (2.8.2)\n",
      "Requirement already satisfied: pyparsing>=2.2.1 in c:\\users\\enrico\\anaconda3\\envs\\bfh\\lib\\site-packages (from matplotlib>=2.2->seaborn) (3.0.4)\n",
      "Requirement already satisfied: cycler>=0.10 in c:\\users\\enrico\\anaconda3\\envs\\bfh\\lib\\site-packages (from matplotlib>=2.2->seaborn) (0.11.0)\n",
      "Requirement already satisfied: packaging>=20.0 in c:\\users\\enrico\\anaconda3\\envs\\bfh\\lib\\site-packages (from matplotlib>=2.2->seaborn) (21.3)\n",
      "Requirement already satisfied: pillow>=6.2.0 in c:\\users\\enrico\\anaconda3\\envs\\bfh\\lib\\site-packages (from matplotlib>=2.2->seaborn) (9.0.1)\n",
      "Requirement already satisfied: fonttools>=4.22.0 in c:\\users\\enrico\\anaconda3\\envs\\bfh\\lib\\site-packages (from matplotlib>=2.2->seaborn) (4.29.1)\n",
      "Requirement already satisfied: kiwisolver>=1.0.1 in c:\\users\\enrico\\anaconda3\\envs\\bfh\\lib\\site-packages (from matplotlib>=2.2->seaborn) (1.3.2)\n",
      "Collecting pytz>=2020.1\n",
      "  Downloading pytz-2021.3-py2.py3-none-any.whl (503 kB)\n",
      "Requirement already satisfied: six>=1.5 in c:\\users\\enrico\\anaconda3\\envs\\bfh\\lib\\site-packages (from python-dateutil>=2.7->matplotlib>=2.2->seaborn) (1.16.0)\n",
      "Installing collected packages: pytz, scipy, pandas, seaborn\n",
      "Successfully installed pandas-1.4.0 pytz-2021.3 scipy-1.7.3 seaborn-0.11.2\n"
     ]
    }
   ]
  },
  {
   "cell_type": "markdown",
   "metadata": {
    "id": "dqH7AE2I_tJh"
   },
   "source": [
    "Use the code cell below to create an instance of the [CliffWalking](https://github.com/openai/gym/blob/master/gym/envs/toy_text/cliffwalking.py) environment."
   ]
  },
  {
   "cell_type": "code",
   "metadata": {
    "id": "xOcErKM__tJi",
    "executionInfo": {
     "status": "ok",
     "timestamp": 1642501136048,
     "user_tz": -60,
     "elapsed": 222,
     "user": {
      "displayName": "Benjamin Mathieu",
      "photoUrl": "https://lh3.googleusercontent.com/a-/AOh14GgdNzE8ns7Jf15dADRJ1bGeu4HwhPyfv4aXWeHTZw=s64",
      "userId": "14480231919675942800"
     }
    }
   },
   "source": [
    "# env = gym.make('CliffWalking-v0')\n",
    "env = gym.make('FrozenLake-v1', is_slippery=False)"
   ],
   "execution_count": 4,
   "outputs": []
  },
  {
   "cell_type": "markdown",
   "metadata": {
    "id": "bT5x6wx6_tJi"
   },
   "source": [
    "The agent moves through a $4\\times 12$ gridworld, with states numbered as follows:\n",
    "```\n",
    "[[ 0,  1,  2,  3,  4,  5,  6,  7,  8,  9, 10, 11],\n",
    " [12, 13, 14, 15, 16, 17, 18, 19, 20, 21, 22, 23],\n",
    " [24, 25, 26, 27, 28, 29, 30, 31, 32, 33, 34, 35],\n",
    " [36, 37, 38, 39, 40, 41, 42, 43, 44, 45, 46, 47]]\n",
    "```\n",
    "At the start of any episode, state `36` is the initial state.  State `47` is the only terminal state, and the cliff corresponds to states `37` through `46`.\n",
    "\n",
    "The agent has 4 potential actions:\n",
    "```\n",
    "UP = 0\n",
    "RIGHT = 1\n",
    "DOWN = 2\n",
    "LEFT = 3\n",
    "```\n",
    "\n",
    "Thus, $\\mathcal{S}^+=\\{0, 1, \\ldots, 47\\}$, and $\\mathcal{A} =\\{0, 1, 2, 3\\}$.  Verify this by running the code cell below."
   ]
  },
  {
   "cell_type": "code",
   "metadata": {
    "colab": {
     "base_uri": "https://localhost:8080/"
    },
    "id": "b0f2QCNa_tJi",
    "executionInfo": {
     "status": "ok",
     "timestamp": 1642501138850,
     "user_tz": -60,
     "elapsed": 244,
     "user": {
      "displayName": "Benjamin Mathieu",
      "photoUrl": "https://lh3.googleusercontent.com/a-/AOh14GgdNzE8ns7Jf15dADRJ1bGeu4HwhPyfv4aXWeHTZw=s64",
      "userId": "14480231919675942800"
     }
    },
    "outputId": "186de111-519c-4de4-e394-2373e3d40a80"
   },
   "source": [
    "print(env.action_space)\n",
    "print(env.observation_space)"
   ],
   "execution_count": 5,
   "outputs": [
    {
     "name": "stdout",
     "output_type": "stream",
     "text": [
      "Discrete(4)\n",
      "Discrete(16)\n"
     ]
    }
   ]
  },
  {
   "cell_type": "markdown",
   "metadata": {
    "id": "usPUoQj5_tJj"
   },
   "source": [
    "In this mini-project, we will build towards finding the optimal policy for the CliffWalking environment.  The optimal state-value function is visualized below.  Please take the time now to make sure that you understand _why_ this is the optimal state-value function.\n",
    "\n",
    "_**Note**: You can safely ignore the values of the cliff \"states\" as these are not true states from which the agent can make decisions.  For the cliff \"states\", the state-value function is not well-defined._"
   ]
  },
  {
   "cell_type": "code",
   "metadata": {
    "colab": {
     "base_uri": "https://localhost:8080/",
     "height": 336
    },
    "id": "L1dCQugO_tJj",
    "executionInfo": {
     "status": "ok",
     "timestamp": 1642501140241,
     "user_tz": -60,
     "elapsed": 355,
     "user": {
      "displayName": "Benjamin Mathieu",
      "photoUrl": "https://lh3.googleusercontent.com/a-/AOh14GgdNzE8ns7Jf15dADRJ1bGeu4HwhPyfv4aXWeHTZw=s64",
      "userId": "14480231919675942800"
     }
    },
    "outputId": "f249b079-4996-43ec-9888-ecba0ac1df0e"
   },
   "source": [
    "# define the optimal state-value function\n",
    "V_opt = np.zeros((4,4))\n",
    "#V_opt[0][0:5] = -np.arange(3, 15)[::-1]\n",
    "#V_opt[1][0:5] = -np.arange(3, 15)[::-1] + 1\n",
    "#V_opt[2][0:5] = -np.arange(3, 15)[::-1] + 2\n",
    "#V_opt[3][0] = -13\n",
    "\n",
    "plot_values(V_opt)"
   ],
   "execution_count": 6,
   "outputs": [
    {
     "data": {
      "text/plain": "<Figure size 288x288 with 1 Axes>",
      "image/png": "[encoded data removed]"
     },
     "metadata": {},
     "output_type": "display_data"
    }
   ]
  },
  {
   "cell_type": "markdown",
   "metadata": {
    "id": "j6gSXzrS_tJk"
   },
   "source": [
    "### Part 1: TD Control: Sarsa\n",
    "\n",
    "In this section, you will write your own implementation of the Sarsa control algorithm.\n",
    "\n",
    "Your algorithm has four arguments:\n",
    "- `env`: This is an instance of an OpenAI Gym environment.\n",
    "- `num_episodes`: This is the number of episodes that are generated through agent-environment interaction.\n",
    "- `alpha`: This is the step-size parameter for the update step.\n",
    "- `gamma`: This is the discount rate.  It must be a value between 0 and 1, inclusive (default value: `1`).\n",
    "\n",
    "The algorithm returns as output:\n",
    "- `Q`: This is a dictionary (of one-dimensional arrays) where `Q[s][a]` is the estimated action value corresponding to state `s` and action `a`.\n",
    "\n",
    "Please complete the function in the code cell below.\n",
    "\n",
    "(_Feel free to define additional functions to help you to organize your code._)"
   ]
  },
  {
   "cell_type": "code",
   "metadata": {
    "id": "_eNDAWmW_tJk",
    "executionInfo": {
     "status": "ok",
     "timestamp": 1642503610524,
     "user_tz": -60,
     "elapsed": 477,
     "user": {
      "displayName": "Benjamin Mathieu",
      "photoUrl": "https://lh3.googleusercontent.com/a-/AOh14GgdNzE8ns7Jf15dADRJ1bGeu4HwhPyfv4aXWeHTZw=s64",
      "userId": "14480231919675942800"
     }
    }
   },
   "source": [
    "def update_Q_sarsa(alpha, gamma, Q, state, action, reward, next_state=None, next_action=None):\n",
    "    \"\"\"Returns updated Q-value for the most recent experience.\"\"\"\n",
    "    current = Q[state][action]  # estimate in Q-table (for current state, action pair)\n",
    "    # get value of state, action pair at next time step\n",
    "    Qsa_next = Q[next_state][next_action] if next_state is not None else 0    \n",
    "    target = reward + (gamma * Qsa_next)               # construct TD target\n",
    "    new_value = current + (alpha * (target - current)) # get updated value\n",
    "    return new_value\n",
    "\n",
    "def epsilon_greedy(Q, state, nA, eps):\n",
    "    \"\"\"Selects epsilon-greedy action for supplied state.\n",
    "    \n",
    "    Params\n",
    "    ======\n",
    "        Q (dictionary): action-value function\n",
    "        state (int): current state\n",
    "        nA (int): number actions in the environment\n",
    "        eps (float): epsilon\n",
    "    \"\"\"\n",
    "    if random.random() > eps: # select greedy action with probability epsilon\n",
    "        return np.argmax(Q[state])\n",
    "    else:                     # otherwise, select an action randomly\n",
    "        return random.choice(np.arange(env.action_space.n))"
   ],
   "execution_count": 7,
   "outputs": []
  },
  {
   "cell_type": "code",
   "metadata": {
    "id": "MzeVjhiC_tJl",
    "executionInfo": {
     "status": "ok",
     "timestamp": 1642501158867,
     "user_tz": -60,
     "elapsed": 216,
     "user": {
      "displayName": "Benjamin Mathieu",
      "photoUrl": "https://lh3.googleusercontent.com/a-/AOh14GgdNzE8ns7Jf15dADRJ1bGeu4HwhPyfv4aXWeHTZw=s64",
      "userId": "14480231919675942800"
     }
    }
   },
   "source": [
    "def sarsa(env, num_episodes, alpha, gamma=1.0, plot_every=100):\n",
    "    nA = env.action_space.n                # number of actions\n",
    "    Q = defaultdict(lambda: np.zeros(nA))  # initialize empty dictionary of arrays\n",
    "    \n",
    "    eps_decay = .99999\n",
    "    eps = 1.\n",
    "    eps_min = .05\n",
    "\n",
    "    # monitor performance\n",
    "    tmp_scores = deque(maxlen=plot_every)     # deque for keeping track of scores\n",
    "    avg_scores = deque(maxlen=num_episodes)   # average scores over every plot_every episodes\n",
    "    \n",
    "    for i_episode in range(1, num_episodes+1):\n",
    "        # monitor progress\n",
    "        if i_episode % 100 == 0:\n",
    "            print(\"\\rEpisode {}/{}\".format(i_episode, num_episodes), end=\"\")\n",
    "            sys.stdout.flush()   \n",
    "        score = 0                                             # initialize score\n",
    "        state = env.reset()                                   # start episode\n",
    "        \n",
    "        #eps = 1.0 / i_episode\n",
    "        eps = max(eps*eps_decay, eps_min)\n",
    "        #print(eps)                                # set value of epsilon\n",
    "        action = epsilon_greedy(Q, state, nA, eps)            # epsilon-greedy action selection\n",
    "        \n",
    "        while True:\n",
    "            next_state, reward, done, info = env.step(action) # take action A, observe R, S'\n",
    "            score += reward                                   # add reward to agent's score\n",
    "            if not done:\n",
    "                next_action = epsilon_greedy(Q, next_state, nA, eps) # epsilon-greedy action\n",
    "                Q[state][action] = update_Q_sarsa(alpha, gamma, Q, \\\n",
    "                                                  state, action, reward, next_state, next_action)\n",
    "                \n",
    "                state = next_state     # S <- S'\n",
    "                action = next_action   # A <- A'\n",
    "            if done:\n",
    "                Q[state][action] = update_Q_sarsa(alpha, gamma, Q, \\\n",
    "                                                  state, action, reward)\n",
    "                tmp_scores.append(score)    # append score\n",
    "                break\n",
    "        if (i_episode % plot_every == 0):\n",
    "            avg_scores.append(np.mean(tmp_scores))\n",
    "\n",
    "    # plot performance\n",
    "    plt.plot(np.linspace(0,num_episodes,len(avg_scores),endpoint=False), np.asarray(avg_scores))\n",
    "    plt.xlabel('Episode Number')\n",
    "    plt.ylabel('Average Reward (Over Next %d Episodes)' % plot_every)\n",
    "    plt.show()\n",
    "    # print best 100-episode performance\n",
    "    print(('Best Average Reward over %d Episodes: ' % plot_every), np.max(avg_scores))    \n",
    "    return Q"
   ],
   "execution_count": 8,
   "outputs": []
  },
  {
   "cell_type": "markdown",
   "metadata": {
    "id": "9MHGTnt__tJl"
   },
   "source": [
    "Use the next code cell to visualize the **_estimated_** optimal policy and the corresponding state-value function.  \n",
    "\n",
    "If the code cell returns **PASSED**, then you have implemented the function correctly!  Feel free to change the `num_episodes` and `alpha` parameters that are supplied to the function.  However, if you'd like to ensure the accuracy of the unit test, please do not change the value of `gamma` from the default."
   ]
  },
  {
   "cell_type": "code",
   "metadata": {
    "colab": {
     "base_uri": "https://localhost:8080/",
     "height": 418
    },
    "id": "ThfCo-Cj_tJm",
    "executionInfo": {
     "status": "ok",
     "timestamp": 1642501977637,
     "user_tz": -60,
     "elapsed": 11132,
     "user": {
      "displayName": "Benjamin Mathieu",
      "photoUrl": "https://lh3.googleusercontent.com/a-/AOh14GgdNzE8ns7Jf15dADRJ1bGeu4HwhPyfv4aXWeHTZw=s64",
      "userId": "14480231919675942800"
     }
    },
    "outputId": "c4d3c781-b03d-4bc4-8419-5039e6fa6547"
   },
   "source": [
    "# obtain the estimated optimal policy and corresponding action-value function\n",
    "Q_sarsa = sarsa(env, 50_000, .01)\n",
    "\n",
    "# print the estimated optimal policy\n",
    "#policy_sarsa = np.array([np.argmax(Q_sarsa[key]) if key in Q_sarsa else -1 for key in np.arange(48)]).reshape(4,12)\n",
    "policy_sarsa = np.array([np.argmax(Q_sarsa[key]) if key in Q_sarsa else -1 for key in np.arange(16)]).reshape(4,4)\n",
    "#check_test.run_check('td_control_check', policy_sarsa)\n",
    "print(\"\\nEstimated Optimal Policy (UP = 0, RIGHT = 1, DOWN = 2, LEFT = 3, N/A = -1):\")\n",
    "print(policy_sarsa)\n",
    "\n",
    "# plot the estimated optimal state-value function\n",
    "#V_sarsa = ([np.max(Q_sarsa[key]) if key in Q_sarsa else 0 for key in np.arange(48)])\n",
    "#plot_values(V_sarsa)"
   ],
   "execution_count": 9,
   "outputs": [
    {
     "name": "stdout",
     "output_type": "stream",
     "text": [
      "Episode 50000/50000"
     ]
    },
    {
     "data": {
      "text/plain": "<Figure size 432x288 with 1 Axes>",
      "image/png": "[encoded data removed]"
     },
     "metadata": {},
     "output_type": "display_data"
    },
    {
     "name": "stdout",
     "output_type": "stream",
     "text": [
      "Best Average Reward over 100 Episodes:  0.38\n",
      "\n",
      "Estimated Optimal Policy (UP = 0, RIGHT = 1, DOWN = 2, LEFT = 3, N/A = -1):\n",
      "[[ 1  2  1  0]\n",
      " [ 1 -1  1 -1]\n",
      " [ 2  1  1 -1]\n",
      " [-1  2  2 -1]]\n"
     ]
    }
   ]
  },
  {
   "cell_type": "code",
   "source": [
    "env.render()"
   ],
   "metadata": {
    "colab": {
     "base_uri": "https://localhost:8080/"
    },
    "id": "Leq4UPkatyZu",
    "executionInfo": {
     "status": "ok",
     "timestamp": 1642501454509,
     "user_tz": -60,
     "elapsed": 222,
     "user": {
      "displayName": "Benjamin Mathieu",
      "photoUrl": "https://lh3.googleusercontent.com/a-/AOh14GgdNzE8ns7Jf15dADRJ1bGeu4HwhPyfv4aXWeHTZw=s64",
      "userId": "14480231919675942800"
     }
    },
    "outputId": "acf8aa6d-e0b3-49ff-c54a-5e1fc4f537f7"
   },
   "execution_count": 10,
   "outputs": [
    {
     "name": "stdout",
     "output_type": "stream",
     "text": [
      "  (Right)\n",
      "SFFF\n",
      "F\u001B[41mH\u001B[0mFH\n",
      "FFFH\n",
      "HFFG\n"
     ]
    }
   ]
  },
  {
   "cell_type": "code",
   "metadata": {
    "colab": {
     "base_uri": "https://localhost:8080/"
    },
    "id": "1enlPtArd39V",
    "executionInfo": {
     "status": "ok",
     "timestamp": 1642501437579,
     "user_tz": -60,
     "elapsed": 235,
     "user": {
      "displayName": "Benjamin Mathieu",
      "photoUrl": "https://lh3.googleusercontent.com/a-/AOh14GgdNzE8ns7Jf15dADRJ1bGeu4HwhPyfv4aXWeHTZw=s64",
      "userId": "14480231919675942800"
     }
    },
    "outputId": "2bd98538-193f-479c-cf64-f8fcc4e4c129"
   },
   "source": [
    "policy_sarsa"
   ],
   "execution_count": 11,
   "outputs": [
    {
     "data": {
      "text/plain": "array([[ 1,  2,  1,  0],\n       [ 1, -1,  1, -1],\n       [ 2,  1,  1, -1],\n       [-1,  2,  2, -1]], dtype=int64)"
     },
     "execution_count": 11,
     "metadata": {},
     "output_type": "execute_result"
    }
   ]
  },
  {
   "cell_type": "markdown",
   "metadata": {
    "id": "_mXn2tmm_tJm"
   },
   "source": [
    "### Part 2: TD Control: Q-learning\n",
    "\n",
    "In this section, you will write your own implementation of the Q-learning control algorithm.\n",
    "\n",
    "Your algorithm has four arguments:\n",
    "- `env`: This is an instance of an OpenAI Gym environment.\n",
    "- `num_episodes`: This is the number of episodes that are generated through agent-environment interaction.\n",
    "- `alpha`: This is the step-size parameter for the update step.\n",
    "- `gamma`: This is the discount rate.  It must be a value between 0 and 1, inclusive (default value: `1`).\n",
    "\n",
    "The algorithm returns as output:\n",
    "- `Q`: This is a dictionary (of one-dimensional arrays) where `Q[s][a]` is the estimated action value corresponding to state `s` and action `a`.\n",
    "\n",
    "Please complete the function in the code cell below.\n",
    "\n",
    "(_Feel free to define additional functions to help you to organize your code._)"
   ]
  },
  {
   "cell_type": "code",
   "metadata": {
    "id": "SX7rlrtX_tJm",
    "executionInfo": {
     "status": "ok",
     "timestamp": 1642503615451,
     "user_tz": -60,
     "elapsed": 232,
     "user": {
      "displayName": "Benjamin Mathieu",
      "photoUrl": "https://lh3.googleusercontent.com/a-/AOh14GgdNzE8ns7Jf15dADRJ1bGeu4HwhPyfv4aXWeHTZw=s64",
      "userId": "14480231919675942800"
     }
    }
   },
   "source": [
    "def update_Q_sarsamax(alpha, gamma, Q, state, action, reward, next_state=None):\n",
    "    \"\"\"Returns updated Q-value for the most recent experience.\"\"\"\n",
    "    current = Q[state][action]  # estimate in Q-table (for current state, action pair)\n",
    "    Qsa_next = np.max(Q[next_state]) if next_state is not None else 0  # value of next state \n",
    "    target = reward + (gamma * Qsa_next)               # construct TD target\n",
    "    new_value = current + (alpha * (target - current)) # get updated value \n",
    "    return new_value"
   ],
   "execution_count": 12,
   "outputs": []
  },
  {
   "cell_type": "code",
   "metadata": {
    "id": "XfnUaacN_tJn",
    "executionInfo": {
     "status": "ok",
     "timestamp": 1642503786408,
     "user_tz": -60,
     "elapsed": 227,
     "user": {
      "displayName": "Benjamin Mathieu",
      "photoUrl": "https://lh3.googleusercontent.com/a-/AOh14GgdNzE8ns7Jf15dADRJ1bGeu4HwhPyfv4aXWeHTZw=s64",
      "userId": "14480231919675942800"
     }
    }
   },
   "source": [
    "def q_learning(env, num_episodes, alpha, gamma=1.0, plot_every=100):\n",
    "    \"\"\"Q-Learning - TD Control\n",
    "    \n",
    "    Params\n",
    "    ======\n",
    "        num_episodes (int): number of episodes to run the algorithm\n",
    "        alpha (float): learning rate\n",
    "        gamma (float): discount factor\n",
    "        plot_every (int): number of episodes to use when calculating average score\n",
    "    \"\"\"\n",
    "    nA = env.action_space.n                # number of actions\n",
    "    Q = defaultdict(lambda: np.zeros(nA))  # initialize empty dictionary of arrays\n",
    "    \n",
    "    # monitor performance\n",
    "    tmp_scores = deque(maxlen=plot_every)     # deque for keeping track of scores\n",
    "    avg_scores = deque(maxlen=num_episodes)   # average scores over every plot_every episodes\n",
    "    eps = 1.0\n",
    "    for i_episode in range(1, num_episodes+1):\n",
    "        # monitor progress\n",
    "        if i_episode % 100 == 0:\n",
    "            print(\"\\rEpisode {}/{}\".format(i_episode, num_episodes), end=\"\")\n",
    "            sys.stdout.flush()\n",
    "        score = 0                                              # initialize score\n",
    "        state = env.reset()                                    # start episode\n",
    "        eps = max(eps*.99999, 0.01)\n",
    "        #eps = 1.0 / i_episode                                  # set value of epsilon\n",
    "        \n",
    "        while True:\n",
    "            action = epsilon_greedy(Q, state, nA, eps)         # epsilon-greedy action selection\n",
    "            next_state, reward, done, info = env.step(action)  # take action A, observe R, S'\n",
    "            score += reward                                    # add reward to agent's score\n",
    "            Q[state][action] = update_Q_sarsamax(alpha, gamma, Q, \\\n",
    "                                                 state, action, reward, next_state)        \n",
    "            state = next_state                                 # S <- S'\n",
    "            if done:\n",
    "                tmp_scores.append(score)                       # append score\n",
    "                break\n",
    "        if (i_episode % plot_every == 0):\n",
    "            avg_scores.append(np.mean(tmp_scores))\n",
    "            \n",
    "    # plot performance\n",
    "    plt.plot(np.linspace(0,num_episodes,len(avg_scores),endpoint=False), np.asarray(avg_scores))\n",
    "    plt.xlabel('Episode Number')\n",
    "    plt.ylabel('Average Reward (Over Next %d Episodes)' % plot_every)\n",
    "    plt.show()\n",
    "    # print best 100-episode performance\n",
    "    print(('Best Average Reward over %d Episodes: ' % plot_every), np.max(avg_scores))\n",
    "    return Q"
   ],
   "execution_count": 13,
   "outputs": []
  },
  {
   "cell_type": "markdown",
   "metadata": {
    "id": "Mby79Bpx_tJn"
   },
   "source": [
    "Use the next code cell to visualize the **_estimated_** optimal policy and the corresponding state-value function. \n",
    "\n",
    "If the code cell returns **PASSED**, then you have implemented the function correctly!  Feel free to change the `num_episodes` and `alpha` parameters that are supplied to the function.  However, if you'd like to ensure the accuracy of the unit test, please do not change the value of `gamma` from the default."
   ]
  },
  {
   "cell_type": "code",
   "metadata": {
    "id": "zIgItrge_tJp",
    "outputId": "2a9fd5c4-c0b1-4b5a-8cb8-16878386729e",
    "colab": {
     "base_uri": "https://localhost:8080/",
     "height": 774
    },
    "executionInfo": {
     "status": "ok",
     "timestamp": 1642503808828,
     "user_tz": -60,
     "elapsed": 17946,
     "user": {
      "displayName": "Benjamin Mathieu",
      "photoUrl": "https://lh3.googleusercontent.com/a-/AOh14GgdNzE8ns7Jf15dADRJ1bGeu4HwhPyfv4aXWeHTZw=s64",
      "userId": "14480231919675942800"
     }
    }
   },
   "source": [
    "# obtain the estimated optimal policy and corresponding action-value function\n",
    "Q_sarsamax = q_learning(env, 50_000, .01)\n",
    "print(Q_sarsamax)\n",
    "\n",
    "# print the estimated optimal policy\n",
    "policy_sarsamax = np.array([np.argmax(Q_sarsamax[key]) if key in Q_sarsamax else -1 for key in np.arange(16)]).reshape((4,4))\n",
    "# check_test.run_check('td_control_check', policy_sarsamax)\n",
    "print(\"\\nEstimated Optimal Policy (UP = 0, RIGHT = 1, DOWN = 2, LEFT = 3, N/A = -1):\")\n",
    "print(policy_sarsamax)\n",
    "\n",
    "# plot the estimated optimal state-value function\n",
    "plot_values([np.max(Q_sarsamax[key]) if key in Q_sarsamax else 0 for key in np.arange(16)])"
   ],
   "execution_count": 14,
   "outputs": [
    {
     "name": "stdout",
     "output_type": "stream",
     "text": [
      "Episode 50000/50000"
     ]
    },
    {
     "data": {
      "text/plain": "<Figure size 432x288 with 1 Axes>",
      "image/png": "[encoded data removed]"
     },
     "metadata": {},
     "output_type": "display_data"
    },
    {
     "name": "stdout",
     "output_type": "stream",
     "text": [
      "Best Average Reward over 100 Episodes:  0.36\n",
      "defaultdict(<function q_learning.<locals>.<lambda> at 0x00000180403E75E0>, {0: array([1., 1., 1., 1.]), 4: array([1., 1., 0., 1.]), 5: array([0., 0., 0., 0.]), 1: array([1., 0., 1., 1.]), 2: array([1., 1., 1., 1.]), 6: array([0., 1., 0., 1.]), 3: array([1., 0., 1., 1.]), 8: array([0.99999117, 0.        , 1.        , 0.9999964 ]), 12: array([0., 0., 0., 0.]), 7: array([0., 0., 0., 0.]), 10: array([1., 1., 0., 1.]), 14: array([0.99999994, 1.        , 1.        , 1.        ]), 15: array([0., 0., 0., 0.]), 9: array([0.99998974, 0.99998714, 1.        , 0.        ]), 13: array([0.        , 0.99913892, 0.99999999, 0.99963263]), 11: array([0., 0., 0., 0.])})\n",
      "\n",
      "Estimated Optimal Policy (UP = 0, RIGHT = 1, DOWN = 2, LEFT = 3, N/A = -1):\n",
      "[[2 2 1 0]\n",
      " [3 0 1 0]\n",
      " [2 2 1 0]\n",
      " [0 2 2 0]]\n"
     ]
    },
    {
     "data": {
      "text/plain": "<Figure size 288x288 with 1 Axes>",
      "image/png": "[encoded data removed]"
     },
     "metadata": {},
     "output_type": "display_data"
    }
   ]
  },
  {
   "cell_type": "markdown",
   "metadata": {
    "id": "v9uFC_Kd_tJp"
   },
   "source": [
    "### Part 3: TD Control: Expected Sarsa\n",
    "\n",
    "In this section, you will write your own implementation of the Expected Sarsa control algorithm.\n",
    "\n",
    "Your algorithm has four arguments:\n",
    "- `env`: This is an instance of an OpenAI Gym environment.\n",
    "- `num_episodes`: This is the number of episodes that are generated through agent-environment interaction.\n",
    "- `alpha`: This is the step-size parameter for the update step.\n",
    "- `gamma`: This is the discount rate.  It must be a value between 0 and 1, inclusive (default value: `1`).\n",
    "\n",
    "The algorithm returns as output:\n",
    "- `Q`: This is a dictionary (of one-dimensional arrays) where `Q[s][a]` is the estimated action value corresponding to state `s` and action `a`.\n",
    "\n",
    "Please complete the function in the code cell below.\n",
    "\n",
    "(_Feel free to define additional functions to help you to organize your code._)"
   ]
  },
  {
   "cell_type": "code",
   "metadata": {
    "id": "QuQG2Hyf_tJp",
    "executionInfo": {
     "status": "ok",
     "timestamp": 1642503958109,
     "user_tz": -60,
     "elapsed": 219,
     "user": {
      "displayName": "Benjamin Mathieu",
      "photoUrl": "https://lh3.googleusercontent.com/a-/AOh14GgdNzE8ns7Jf15dADRJ1bGeu4HwhPyfv4aXWeHTZw=s64",
      "userId": "14480231919675942800"
     }
    }
   },
   "source": [
    "def update_Q_expsarsa(alpha, gamma, nA, eps, Q, state, action, reward, next_state=None):\n",
    "    \"\"\"Returns updated Q-value for the most recent experience.\"\"\"\n",
    "    current = Q[state][action]         # estimate in Q-table (for current state, action pair)\n",
    "    policy_s = np.ones(nA) * eps / nA  # current policy (for next state S')\n",
    "    next_action = np.argmax(Q[next_state]) # off policy\n",
    "    policy_s[next_action] = 1 - eps + (eps / nA) # greedy action\n",
    "    Qsa_next = np.dot(Q[next_state], policy_s)         # get value of state at next time step\n",
    "    target = reward + (gamma * Qsa_next)               # construct target\n",
    "    new_value = current + (alpha * (target - current)) # get updated value \n",
    "    return new_value"
   ],
   "execution_count": 15,
   "outputs": []
  },
  {
   "cell_type": "code",
   "metadata": {
    "id": "oPaUHzAB_tJp",
    "executionInfo": {
     "status": "ok",
     "timestamp": 1642504010416,
     "user_tz": -60,
     "elapsed": 240,
     "user": {
      "displayName": "Benjamin Mathieu",
      "photoUrl": "https://lh3.googleusercontent.com/a-/AOh14GgdNzE8ns7Jf15dADRJ1bGeu4HwhPyfv4aXWeHTZw=s64",
      "userId": "14480231919675942800"
     }
    }
   },
   "source": [
    "def expected_sarsa(env, num_episodes, alpha, gamma=1.0, plot_every=100):\n",
    "    \"\"\"Expected SARSA - TD Control\n",
    "    \n",
    "    Params\n",
    "    ======\n",
    "        num_episodes (int): number of episodes to run the algorithm\n",
    "        alpha (float): step-size parameters for the update step\n",
    "        gamma (float): discount factor\n",
    "        plot_every (int): number of episodes to use when calculating average score\n",
    "    \"\"\"\n",
    "    nA = env.action_space.n                # number of actions\n",
    "    Q = defaultdict(lambda: np.zeros(nA))  # initialize empty dictionary of arrays\n",
    "    \n",
    "    # monitor performance\n",
    "    tmp_scores = deque(maxlen=plot_every)     # deque for keeping track of scores\n",
    "    avg_scores = deque(maxlen=num_episodes)   # average scores over every plot_every episodes\n",
    "    eps = 1\n",
    "    \n",
    "    for i_episode in range(1, num_episodes+1):\n",
    "        # monitor progress\n",
    "        if i_episode % 100 == 0:\n",
    "            print(\"\\rEpisode {}/{}\".format(i_episode, num_episodes), end=\"\")\n",
    "            sys.stdout.flush()\n",
    "        \n",
    "        score = 0             # initialize score\n",
    "        state = env.reset()   # start episode\n",
    "        # eps = 0.005           # set value of epsilon\n",
    "        eps = max(eps*.99999, 0.01)\n",
    "        \n",
    "        while True:\n",
    "            action = epsilon_greedy(Q, state, nA, eps)         # epsilon-greedy action selection - POLICY\n",
    "            next_state, reward, done, info = env.step(action)  # take action A, observe R, S'\n",
    "            score += reward                                    # add reward to agent's score\n",
    "            # update Q\n",
    "            Q[state][action] = update_Q_expsarsa(alpha, gamma, nA, eps, Q, \\\n",
    "                                                 state, action, reward, next_state)        \n",
    "            state = next_state              # S <- S'\n",
    "            if done:\n",
    "                tmp_scores.append(score)    # append score\n",
    "                break\n",
    "        if (i_episode % plot_every == 0):\n",
    "            avg_scores.append(np.mean(tmp_scores))\n",
    "            \n",
    "    # plot performance\n",
    "    plt.plot(np.linspace(0,num_episodes,len(avg_scores),endpoint=False), np.asarray(avg_scores))\n",
    "    plt.xlabel('Episode Number')\n",
    "    plt.ylabel('Average Reward (Over Next %d Episodes)' % plot_every)\n",
    "    plt.show()\n",
    "    # print best 100-episode performance\n",
    "    print(('Best Average Reward over %d Episodes: ' % plot_every), np.max(avg_scores))\n",
    "    return Q"
   ],
   "execution_count": 16,
   "outputs": []
  },
  {
   "cell_type": "markdown",
   "metadata": {
    "id": "-wXcyPVL_tJq"
   },
   "source": [
    "Use the next code cell to visualize the **_estimated_** optimal policy and the corresponding state-value function.  \n",
    "\n",
    "If the code cell returns **PASSED**, then you have implemented the function correctly!  Feel free to change the `num_episodes` and `alpha` parameters that are supplied to the function.  However, if you'd like to ensure the accuracy of the unit test, please do not change the value of `gamma` from the default."
   ]
  },
  {
   "cell_type": "code",
   "metadata": {
    "id": "HBveqtTN_tJq",
    "outputId": "02571ee5-3901-45ba-a758-ae7a2c29e0b7",
    "colab": {
     "base_uri": "https://localhost:8080/",
     "height": 737
    },
    "executionInfo": {
     "status": "ok",
     "timestamp": 1642504086146,
     "user_tz": -60,
     "elapsed": 16565,
     "user": {
      "displayName": "Benjamin Mathieu",
      "photoUrl": "https://lh3.googleusercontent.com/a-/AOh14GgdNzE8ns7Jf15dADRJ1bGeu4HwhPyfv4aXWeHTZw=s64",
      "userId": "14480231919675942800"
     }
    }
   },
   "source": [
    "# obtain the estimated optimal policy and corresponding action-value function\n",
    "Q_expsarsa = expected_sarsa(env, 50_000, 1)\n",
    "\n",
    "# print the estimated optimal policy\n",
    "policy_expsarsa = np.array([np.argmax(Q_expsarsa[key]) if key in Q_expsarsa else -1 for key in np.arange(16)]).reshape(4,4)\n",
    "# check_test.run_check('td_control_check', policy_expsarsa)\n",
    "print(\"\\nEstimated Optimal Policy (UP = 0, RIGHT = 1, DOWN = 2, LEFT = 3, N/A = -1):\")\n",
    "print(policy_expsarsa)\n",
    "\n",
    "# plot the estimated optimal state-value function\n",
    "plot_values([np.max(Q_expsarsa[key]) if key in Q_expsarsa else 0 for key in np.arange(16)])"
   ],
   "execution_count": 17,
   "outputs": [
    {
     "name": "stdout",
     "output_type": "stream",
     "text": [
      "Episode 50000/50000"
     ]
    },
    {
     "data": {
      "text/plain": "<Figure size 432x288 with 1 Axes>",
      "image/png": "[encoded data removed]"
     },
     "metadata": {},
     "output_type": "display_data"
    },
    {
     "name": "stdout",
     "output_type": "stream",
     "text": [
      "Best Average Reward over 100 Episodes:  0.39\n",
      "\n",
      "Estimated Optimal Policy (UP = 0, RIGHT = 1, DOWN = 2, LEFT = 3, N/A = -1):\n",
      "[[1 2 1 0]\n",
      " [1 0 1 0]\n",
      " [2 1 1 0]\n",
      " [0 2 2 0]]\n"
     ]
    },
    {
     "data": {
      "text/plain": "<Figure size 288x288 with 1 Axes>",
      "image/png": "[encoded data removed]"
     },
     "metadata": {},
     "output_type": "display_data"
    }
   ]
  }
 ]
}