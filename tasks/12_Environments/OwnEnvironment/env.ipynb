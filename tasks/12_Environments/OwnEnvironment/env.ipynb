{
 "cells": [
  {
   "cell_type": "markdown",
   "source": [
    "# Eigenes Environment aufbauen"
   ],
   "metadata": {
    "collapsed": false
   }
  },
  {
   "cell_type": "code",
   "execution_count": 2,
   "metadata": {
    "collapsed": true
   },
   "outputs": [
    {
     "name": "stdout",
     "output_type": "stream",
     "text": [
      "Collecting gym\n",
      "  Downloading gym-0.21.0.tar.gz (1.5 MB)\n",
      "Collecting pandas\n",
      "  Downloading pandas-1.4.0-cp39-cp39-win_amd64.whl (10.5 MB)\n",
      "Collecting numpy\n",
      "  Downloading numpy-1.22.2-cp39-cp39-win_amd64.whl (14.7 MB)\n",
      "Collecting torch\n",
      "  Downloading torch-1.10.2-cp39-cp39-win_amd64.whl (226.5 MB)\n",
      "Collecting bs4\n",
      "  Downloading bs4-0.0.1.tar.gz (1.1 kB)\n"
     ]
    },
    {
     "name": "stderr",
     "output_type": "stream",
     "text": [
      "ERROR: Could not find a version that satisfies the requirement request (from versions: none)\n",
      "ERROR: No matching distribution found for request\n"
     ]
    },
    {
     "ename": "ModuleNotFoundError",
     "evalue": "No module named 'gym'",
     "output_type": "error",
     "traceback": [
      "\u001B[1;31m---------------------------------------------------------------------------\u001B[0m",
      "\u001B[1;31mModuleNotFoundError\u001B[0m                       Traceback (most recent call last)",
      "\u001B[1;32m~\\AppData\\Local\\Temp/ipykernel_16368/1057072369.py\u001B[0m in \u001B[0;36m<module>\u001B[1;34m\u001B[0m\n\u001B[0;32m      2\u001B[0m \u001B[1;33m\u001B[0m\u001B[0m\n\u001B[0;32m      3\u001B[0m \u001B[1;33m\u001B[0m\u001B[0m\n\u001B[1;32m----> 4\u001B[1;33m \u001B[1;32mimport\u001B[0m \u001B[0mgym\u001B[0m\u001B[1;33m\u001B[0m\u001B[1;33m\u001B[0m\u001B[0m\n\u001B[0m\u001B[0;32m      5\u001B[0m \u001B[1;32mimport\u001B[0m \u001B[0mpandas\u001B[0m \u001B[1;32mas\u001B[0m \u001B[0mpd\u001B[0m\u001B[1;33m\u001B[0m\u001B[1;33m\u001B[0m\u001B[0m\n\u001B[0;32m      6\u001B[0m \u001B[1;32mimport\u001B[0m \u001B[0mnumpy\u001B[0m \u001B[1;32mas\u001B[0m \u001B[0mnp\u001B[0m\u001B[1;33m\u001B[0m\u001B[1;33m\u001B[0m\u001B[0m\n",
      "\u001B[1;31mModuleNotFoundError\u001B[0m: No module named 'gym'"
     ]
    }
   ],
   "source": [
    "!pip install gym pandas numpy torch bs4 request yfinance\n",
    "\n",
    "\n",
    "import gym\n",
    "import pandas as pd\n",
    "import numpy as np\n",
    "import os.path\n",
    "from functools import reduce\n",
    "\n",
    "from gym import spaces\n",
    "import torch\n",
    "\n",
    "\n",
    "import bs4 as bs\n",
    "import requests\n",
    "import yfinance as yf\n",
    "import datetime\n",
    "import time\n",
    "import os\n",
    "import pandas_datareader as web\n",
    "import warnings\n",
    "warnings.filterwarnings('ignore')\n",
    "\n",
    "class MyDataset():\n",
    "\n",
    "    def __init__(self):\n",
    "        self.url = 'http://en.wikipedia.org/wiki/List_of_S%26P_500_companies'\n",
    "        self.stocks_fname = \"sp500_closefull.csv\"\n",
    "        self.start = datetime.datetime(2010, 1, 1)\n",
    "        self.stop = datetime.datetime.now()\n",
    "        self.Ntest = 1000\n",
    "        self.now = time.time()\n",
    "\n",
    "    def get_train_test(self) -> pd.DataFrame:\n",
    "\n",
    "        start = self.start\n",
    "        end = self.stop\n",
    "\n",
    "\n",
    "        if not os.path.isfile(self.stocks_fname):\n",
    "          resp = requests.get(self.url)\n",
    "          soup = bs.BeautifulSoup(resp.text, 'lxml')\n",
    "          table = soup.find('table', {'class': 'wikitable sortable'})\n",
    "          tickers = []\n",
    "\n",
    "          for row in table.findAll('tr')[1:]:\n",
    "              ticker = row.findAll('td')[0].text\n",
    "              tickers.append(ticker)\n",
    "\n",
    "          tickers = [s.replace('\\n', '') for s in tickers]\n",
    "          data = yf.download(tickers, start=start, end=end)\n",
    "          data['Adj Close'].to_csv(self.stocks_fname)\n",
    "\n",
    "        df0 = pd.read_csv(self.stocks_fname, index_col=0, parse_dates=True)\n",
    "\n",
    "        df_spy = yf.download(\"SPY\", start=start, end=end)\n",
    "\n",
    "        #df_spy = web.DataReader(\"SPY\", \"yahoo\", start=start, end=end)\n",
    "        df_spy = df_spy.loc[:, ['Adj Close']]\n",
    "        df_spy.columns = ['SPY']\n",
    "        df0 = pd.concat([df0, df_spy], axis=1)\n",
    "\n",
    "\n",
    "        #df0.dropna(axis=1, how='all', inplace=True)\n",
    "        df0.dropna(axis=0, how='all', inplace=True)\n",
    "        print(\"Dropping columns due to nans > 50%:\", df0.loc[:, list((100 * (df0.isnull().sum() / len(df0.index)) > 50))].columns)\n",
    "        df0 = df0.drop(df0.loc[:, list((100 * (df0.isnull().sum() / len(df0.index)) > 50))].columns, 1)\n",
    "        df0 = df0.ffill().bfill()\n",
    "\n",
    "        print(\"Any columns still contain nans:\", df0.isnull().values.any())\n",
    "\n",
    "        df_returns = pd.DataFrame()\n",
    "        for name in df0.columns:\n",
    "          df_returns[name] = np.log(df0[name]).diff()\n",
    "\n",
    "        #df_returns['SPY_PRICE'] = df0['SPY']\n",
    "        #df_returns[self.config.stocks_adj_close_names] = df0[self.config.stocks]\n",
    "        # split into train and test\n",
    "        df_returns.dropna(axis=0, how='any', inplace=True)\n",
    "\n",
    "\n",
    "        train_data = df_returns.iloc[:-self.Ntest]\n",
    "        test_data = df_returns.iloc[-self.Ntest:]\n",
    "\n",
    "\n",
    "        return train_data, test_data"
   ]
  },
  {
   "cell_type": "code",
   "execution_count": null,
   "outputs": [],
   "source": [
    "class EnvConfig():\n",
    "    def __init__(self):\n",
    "        self.stocks = ['AAPL', 'MSFT', 'AMZN', 'NFLX', 'XOM', 'JPM', 'T']\n",
    "        self.initial_cash = 10_000\n",
    "        self.device = \"cuda\" if torch.cuda.is_available() else \"cpu\""
   ],
   "metadata": {
    "collapsed": false,
    "pycharm": {
     "name": "#%%\n"
    }
   }
  },
  {
   "cell_type": "code",
   "execution_count": null,
   "outputs": [],
   "source": [
    "\"\"\"\n",
    "Aktionen;\n",
    "0: Halten\n",
    "1: Kaufen\n",
    "2: Verkaufen\n",
    "\"\"\"\n",
    "class MyEnv(gym.Env):\n",
    "\n",
    "    def __init__(self, df_train, df_test, play=False):\n",
    "        self.df_train = df_train\n",
    "        self.df_test = df_test\n",
    "        self.play = play\n",
    "        if not self.play:\n",
    "            self.df = self.df_train\n",
    "        else:\n",
    "            self.df = self.df_test\n",
    "        self.config = EnvConfig()\n",
    "        self.current_idx = 0\n",
    "        self.stocks = ['AAPL', 'MSFT', 'AMZN', 'NFLX', 'XOM', 'JPM', 'T'] # target stocks\n",
    "        #self.stocks_adj_close_names = [stock + '_Adj_Close' for stock in self.stocks] # AAPL_Adj_Close so heissen die Spalten bei mir ?\n",
    "\n",
    "        self.weights = np.full((len(self.config.stocks)), 1 / len(self.config.stocks), dtype=float)\n",
    "\n",
    "        # cash per stock_values\n",
    "        self.initial_cash = self.weights * self.config.initial_cash\n",
    "\n",
    "        self.portfolio_value = 0\n",
    "        self.stock_values = np.zeros(len(self.stocks))\n",
    "\n",
    "        self.states = self.df.loc[:, ~self.df.columns.isin(self.stocks)].to_numpy()  # aufpassen, tatsächlich existierende Spaltennamen\n",
    "        self.rewards = self.df[self.stocks].to_numpy()\n",
    "        #self.n = len(self.states)\n",
    "        self.n = len(self.df)\n",
    "\n",
    "\n",
    "    def reset(self):\n",
    "        self.cash = self.initial_cash\n",
    "        self.portfolio_value = 0\n",
    "        self.stock_values = np.zeros(len(self.config.stocks))\n",
    "\n",
    "        self.current_idx = 0\n",
    "\n",
    "        next_state = self.states[self.current_idx]\n",
    "        next_state = np.array(next_state).reshape(1, -1)\n",
    "        next_state = torch.tensor(next_state).float().to(self.config.device)\n",
    "        return next_state\n",
    "\n",
    "    def step(self, action):\n",
    "        reward = 0\n",
    "\n",
    "        if self.current_idx >= self.n:\n",
    "            raise Exception(\"Episode already done\")\n",
    "\n",
    "\n",
    "        # state transition\n",
    "        done = (self.current_idx == self.n - 1)\n",
    "\n",
    "        # apply action todo\n",
    "        probs = [1,1,1]\n",
    "        action = np.random.choice([0,1,2], probs)\n",
    "\n",
    "        self.current_idx += 1\n",
    "\n",
    "        if not done:\n",
    "\n",
    "            # compute reward todo\n",
    "            previous = np.sum(self.states[self.current_idx-1])\n",
    "            next = np.sum(self.states[self.current_idx])\n",
    "            reward = (next-previous)/previous\n",
    "\n",
    "\n",
    "            next_state = self.states[self.current_idx]\n",
    "            next_state = np.array(next_state).reshape(1, -1)\n",
    "            #next_state = torch.tensor(next_state).reshape(1, -1).float().to(self.config.device)\n",
    "\n",
    "        else:\n",
    "            next_state = None\n",
    "            reward = 0\n",
    "            #self.portfolio_value = np.dot(self.stock_values, current_prices)\n",
    "\n",
    "        return next_state, reward, done"
   ],
   "metadata": {
    "collapsed": false,
    "pycharm": {
     "name": "#%%\n"
    }
   }
  },
  {
   "cell_type": "code",
   "execution_count": null,
   "outputs": [],
   "source": [
    "dataset = MyDataset()\n",
    "train, test = dataset.get_train_test()"
   ],
   "metadata": {
    "collapsed": false,
    "pycharm": {
     "name": "#%%\n"
    }
   }
  },
  {
   "cell_type": "code",
   "execution_count": null,
   "outputs": [],
   "source": [
    "train_env = MyEnv(train,test,False)\n",
    "train_env.reset()\n",
    "\n",
    "print(train_env.n)\n",
    "next_state, reward, done = train_env.step(1)\n",
    "print(next_state)\n",
    "next_state, reward, done = train_env.step(1)\n",
    "#print(next_state)"
   ],
   "metadata": {
    "collapsed": false,
    "pycharm": {
     "name": "#%%\n"
    }
   }
  },
  {
   "cell_type": "code",
   "execution_count": null,
   "outputs": [],
   "source": [],
   "metadata": {
    "collapsed": false,
    "pycharm": {
     "name": "#%%\n"
    }
   }
  }
 ],
 "metadata": {
  "kernelspec": {
   "display_name": "Python 3",
   "language": "python",
   "name": "python3"
  },
  "language_info": {
   "codemirror_mode": {
    "name": "ipython",
    "version": 2
   },
   "file_extension": ".py",
   "mimetype": "text/x-python",
   "name": "python",
   "nbconvert_exporter": "python",
   "pygments_lexer": "ipython2",
   "version": "2.7.6"
  }
 },
 "nbformat": 4,
 "nbformat_minor": 0
}