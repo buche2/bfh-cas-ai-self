{
 "cells": [
  {
   "cell_type": "markdown",
   "source": [
    "# Eigenes Environment aufbauen"
   ],
   "metadata": {
    "collapsed": false
   }
  },
  {
   "cell_type": "code",
   "execution_count": 27,
   "metadata": {
    "collapsed": true
   },
   "outputs": [],
   "source": [
    "import gym\n",
    "import pandas as pd\n",
    "import numpy as np\n",
    "import os.path\n",
    "from functools import reduce\n",
    "\n",
    "from gym import spaces\n",
    "import torch\n",
    "\n",
    "\n",
    "import bs4 as bs\n",
    "import requests\n",
    "import yfinance as yf\n",
    "import datetime\n",
    "import time\n",
    "import os\n",
    "import pandas_datareader as web\n",
    "import warnings\n",
    "warnings.filterwarnings('ignore')\n",
    "\n",
    "class MyDataset():\n",
    "\n",
    "    def __init__(self):\n",
    "        self.url = 'http://en.wikipedia.org/wiki/List_of_S%26P_500_companies'\n",
    "        self.stocks_fname = \"sp500_closefull.csv\"\n",
    "        self.start = datetime.datetime(2010, 1, 1)\n",
    "        self.stop = datetime.datetime.now()\n",
    "        self.Ntest = 1000\n",
    "        self.now = time.time()\n",
    "\n",
    "    def get_train_test(self) -> pd.DataFrame:\n",
    "\n",
    "        start = self.start\n",
    "        end = self.stop\n",
    "\n",
    "\n",
    "        if not os.path.isfile(self.stocks_fname):\n",
    "          resp = requests.get(self.url)\n",
    "          soup = bs.BeautifulSoup(resp.text, 'lxml')\n",
    "          table = soup.find('table', {'class': 'wikitable sortable'})\n",
    "          tickers = []\n",
    "\n",
    "          for row in table.findAll('tr')[1:]:\n",
    "              ticker = row.findAll('td')[0].text\n",
    "              tickers.append(ticker)\n",
    "\n",
    "          tickers = [s.replace('\\n', '') for s in tickers]\n",
    "          data = yf.download(tickers, start=start, end=end)\n",
    "          data['Adj Close'].to_csv(self.stocks_fname)\n",
    "\n",
    "        df0 = pd.read_csv(self.stocks_fname, index_col=0, parse_dates=True)\n",
    "\n",
    "        df_spy = yf.download(\"SPY\", start=start, end=end)\n",
    "\n",
    "        #df_spy = web.DataReader(\"SPY\", \"yahoo\", start=start, end=end)\n",
    "        df_spy = df_spy.loc[:, ['Adj Close']]\n",
    "        df_spy.columns = ['SPY']\n",
    "        df0 = pd.concat([df0, df_spy], axis=1)\n",
    "\n",
    "\n",
    "        #df0.dropna(axis=1, how='all', inplace=True)\n",
    "        df0.dropna(axis=0, how='all', inplace=True)\n",
    "        print(\"Dropping columns due to nans > 50%:\", df0.loc[:, list((100 * (df0.isnull().sum() / len(df0.index)) > 50))].columns)\n",
    "        df0 = df0.drop(df0.loc[:, list((100 * (df0.isnull().sum() / len(df0.index)) > 50))].columns, 1)\n",
    "        df0 = df0.ffill().bfill()\n",
    "\n",
    "        print(\"Any columns still contain nans:\", df0.isnull().values.any())\n",
    "\n",
    "        df_returns = pd.DataFrame()\n",
    "        for name in df0.columns:\n",
    "          df_returns[name] = np.log(df0[name]).diff()\n",
    "\n",
    "        #df_returns['SPY_PRICE'] = df0['SPY']\n",
    "        #df_returns[self.config.stocks_adj_close_names] = df0[self.config.stocks]\n",
    "        # split into train and test\n",
    "        df_returns.dropna(axis=0, how='any', inplace=True)\n",
    "\n",
    "\n",
    "        train_data = df_returns.iloc[:-self.Ntest]\n",
    "        test_data = df_returns.iloc[-self.Ntest:]\n",
    "\n",
    "\n",
    "        return train_data, test_data"
   ]
  },
  {
   "cell_type": "code",
   "execution_count": 41,
   "outputs": [],
   "source": [
    "class EnvConfig():\n",
    "    def __init__(self):\n",
    "        self.stocks = ['AAPL', 'MSFT', 'AMZN', 'NFLX', 'XOM', 'JPM', 'T']\n",
    "        self.initial_cash = 10_000\n",
    "        self.device = \"cuda\" if torch.cuda.is_available() else \"cpu\""
   ],
   "metadata": {
    "collapsed": false,
    "pycharm": {
     "name": "#%%\n"
    }
   }
  },
  {
   "cell_type": "code",
   "execution_count": 44,
   "outputs": [],
   "source": [
    "class MyEnv(gym.Env):\n",
    "\n",
    "    def __init__(self, df_train, df_test, play=False):\n",
    "        self.df_train = df_train\n",
    "        self.df_test = df_test\n",
    "        self.play = play\n",
    "        if not self.play:\n",
    "            self.df = self.df_train\n",
    "        else:\n",
    "            self.df = self.df_test\n",
    "        self.config = EnvConfig()\n",
    "        self.current_idx = 0\n",
    "        self.stocks = ['AAPL', 'MSFT', 'AMZN', 'NFLX', 'XOM', 'JPM', 'T'] # target stocks\n",
    "        #self.stocks_adj_close_names = [stock + '_Adj_Close' for stock in self.stocks] # AAPL_Adj_Close so heissen die Spalten bei mir ?\n",
    "\n",
    "        self.weights = np.full((len(self.config.stocks)), 1 / len(self.config.stocks), dtype=float)\n",
    "\n",
    "        # cash per stock_values\n",
    "        self.initial_cash = self.weights * self.config.initial_cash\n",
    "\n",
    "        self.portfolio_value = 0\n",
    "        self.stock_values = np.zeros(len(self.stocks))\n",
    "\n",
    "        self.states = self.df.loc[:, ~self.df.columns.isin(self.stocks)].to_numpy()  # aufpassen, tatsächlich existierende Spaltennamen\n",
    "        self.rewards = self.df[self.stocks].to_numpy()\n",
    "        self.n = len(self.states)\n",
    "\n",
    "\n",
    "    def reset(self):\n",
    "        self.cash = self.initial_cash\n",
    "        self.portfolio_value = 0\n",
    "        self.stock_values = np.zeros(len(self.config.stocks))\n",
    "\n",
    "        self.current_idx = 0\n",
    "\n",
    "        next_state = self.states[self.current_idx]\n",
    "        next_state = np.array(next_state).reshape(1, -1)\n",
    "        next_state = torch.tensor(next_state).float().to(self.config.device)\n",
    "        return next_state\n",
    "\n",
    "    def step(self, actions):\n",
    "        if self.current_idx >= self.n:\n",
    "          raise Exception(\"Episode already done\")\n",
    "\n",
    "        actions = np.array([self.discretized[aa] for aa in actions])\n",
    "\n",
    "        # actions is an array and contains one action per stock_values\n",
    "        actions = actions.ravel()\n",
    "\n",
    "        sharpe = self.get_sharpe(self.play, None)\n",
    "        self.weights = sharpe.get_weights()\n",
    "        # ret, vol, sh = sharpe.get_ret_vol_sr(self.weights)\n",
    "\n",
    "        # print(self.weights)\n",
    "\n",
    "        current_prices = self.df.iloc[self.current_idx][self.config.stocks_adj_close_names].values\n",
    "        # current_price = np.dot(self.weights, current_prices) - # todo Fehler?\n",
    "\n",
    "        self.cash = self.weights * np.sum(self.cash)\n",
    "\n",
    "        # print(self.cash)\n",
    "        env_action = np.zeros(len(actions))\n",
    "        for i, action in enumerate(actions):\n",
    "          # buy_max = self.cash // (current_price * 1.01)  # 10% provisions\n",
    "          buy_max = self.cash[i] // current_prices[i]  # ohne 10% provisions\n",
    "\n",
    "          if action > 0:\n",
    "              env_action[i] = np.minimum(buy_max, action)\n",
    "          else:\n",
    "              # env_action = - np.minimum(self.stock_values, np.abs(action * self.weights)) # todo\n",
    "              env_action[i] = - np.minimum(self.stock_values[i], np.abs(action))\n",
    "\n",
    "          self.stock_values[i] += env_action[i]\n",
    "\n",
    "          if action > 0:\n",
    "              self.cash[i] -= env_action[i] * current_prices[i]\n",
    "          else:  # sell\n",
    "              self.cash[i] += - env_action[i] * current_prices[i]\n",
    "\n",
    "          provision = np.abs(env_action[i]) * current_prices[i] * .01\n",
    "          # self.cash -= provisions\n",
    "\n",
    "          self.provisions[i] += provision\n",
    "\n",
    "        # state transition\n",
    "        done = (self.current_idx == self.n - 1)\n",
    "\n",
    "        self.current_idx += 1\n",
    "\n",
    "        if not done:\n",
    "\n",
    "          if action is None:\n",
    "              raise Exception(\"NaNs detected!\")\n",
    "\n",
    "          # compute reward\n",
    "          # print(\"return\", np.sum(env_action * current_price * (np.exp(self.rewards[self.current_idx]) - 1)))\n",
    "          # print(\"provisions\", np.sum(.01 * np.abs(env_action) * current_price))\n",
    "          step_reward = np.sum(env_action * current_prices * (np.exp(self.rewards[self.current_idx]) - 1)) - np.sum(.001 * np.abs(env_action) * current_prices)\n",
    "          next_prices = self.df.iloc[self.current_idx][self.config.stocks_adj_close_names].values\n",
    "          self.portfolio_value = np.dot(self.stock_values, next_prices)\n",
    "          '''\n",
    "          invested_index = np.where(self.stock_values != 0) # invested\n",
    "\n",
    "          invested_sharpe = self.get_sharpe(self.play, invested_index)\n",
    "          if invested_sharpe is not None:\n",
    "              invested_weights = invested_sharpe.get_weights()\n",
    "              ret, vol, sh = invested_sharpe.get_ret_vol_sr(invested_weights)\n",
    "          else:\n",
    "              sh = -1.\n",
    "              vol = 10\n",
    "\n",
    "          reward = self.portfolio_value * sh + step_reward * 252\n",
    "\n",
    "          '''\n",
    "\n",
    "          reward = self.portfolio_value\n",
    "\n",
    "\n",
    "\n",
    "          next_state = self.states[self.current_idx]\n",
    "          kernel = self.states[self.current_idx:self.current_idx+7, 1][::-1]\n",
    "\n",
    "          print(kernel)\n",
    "          next_state = np.array(next_state).reshape(1, -1)\n",
    "          next_state = torch.tensor(next_state).reshape(1, -1).float().to(self.config.device)\n",
    "\n",
    "        else:\n",
    "          next_state = None\n",
    "          reward = 0\n",
    "          self.portfolio_value = np.dot(self.stock_values, current_prices)\n",
    "\n",
    "        return next_state, reward, done"
   ],
   "metadata": {
    "collapsed": false,
    "pycharm": {
     "name": "#%%\n"
    }
   }
  },
  {
   "cell_type": "code",
   "execution_count": 29,
   "outputs": [
    {
     "name": "stdout",
     "output_type": "stream",
     "text": [
      "[*********************100%***********************]  1 of 1 completed\n",
      "Dropping columns due to nans > 50%: Index(['BF.B', 'BRK.B', 'CARR', 'CDAY', 'CTVA', 'DOW', 'FOX', 'FOXA', 'FTV',\n",
      "       'HWM', 'IR', 'LW', 'MRNA', 'OGN', 'OTIS', 'UA'],\n",
      "      dtype='object')\n",
      "Any columns still contain nans: False\n"
     ]
    }
   ],
   "source": [
    "dataset = MyDataset()\n",
    "train, test = dataset.get_train_test()"
   ],
   "metadata": {
    "collapsed": false,
    "pycharm": {
     "name": "#%%\n"
    }
   }
  },
  {
   "cell_type": "code",
   "execution_count": 46,
   "outputs": [
    {
     "ename": "AttributeError",
     "evalue": "'MyEnv' object has no attribute 'discretized'",
     "output_type": "error",
     "traceback": [
      "\u001B[1;31m---------------------------------------------------------------------------\u001B[0m",
      "\u001B[1;31mAttributeError\u001B[0m                            Traceback (most recent call last)",
      "\u001B[1;32m~\\AppData\\Local\\Temp/ipykernel_8652/842378535.py\u001B[0m in \u001B[0;36m<module>\u001B[1;34m\u001B[0m\n\u001B[0;32m      1\u001B[0m \u001B[0mtrain_env\u001B[0m \u001B[1;33m=\u001B[0m \u001B[0mMyEnv\u001B[0m\u001B[1;33m(\u001B[0m\u001B[0mtrain\u001B[0m\u001B[1;33m,\u001B[0m\u001B[0mtest\u001B[0m\u001B[1;33m)\u001B[0m\u001B[1;33m\u001B[0m\u001B[1;33m\u001B[0m\u001B[0m\n\u001B[0;32m      2\u001B[0m \u001B[0mtrain_env\u001B[0m\u001B[1;33m.\u001B[0m\u001B[0mreset\u001B[0m\u001B[1;33m(\u001B[0m\u001B[1;33m)\u001B[0m\u001B[1;33m\u001B[0m\u001B[1;33m\u001B[0m\u001B[0m\n\u001B[1;32m----> 3\u001B[1;33m \u001B[0mtrain_env\u001B[0m\u001B[1;33m.\u001B[0m\u001B[0mstep\u001B[0m\u001B[1;33m(\u001B[0m\u001B[1;33m[\u001B[0m\u001B[1;36m0\u001B[0m\u001B[1;33m,\u001B[0m\u001B[1;36m1\u001B[0m\u001B[1;33m,\u001B[0m\u001B[1;36m2\u001B[0m\u001B[1;33m]\u001B[0m\u001B[1;33m)\u001B[0m\u001B[1;33m\u001B[0m\u001B[1;33m\u001B[0m\u001B[0m\n\u001B[0m",
      "\u001B[1;32m~\\AppData\\Local\\Temp/ipykernel_8652/2006202877.py\u001B[0m in \u001B[0;36mstep\u001B[1;34m(self, actions)\u001B[0m\n\u001B[0;32m     43\u001B[0m           \u001B[1;32mraise\u001B[0m \u001B[0mException\u001B[0m\u001B[1;33m(\u001B[0m\u001B[1;34m\"Episode already done\"\u001B[0m\u001B[1;33m)\u001B[0m\u001B[1;33m\u001B[0m\u001B[1;33m\u001B[0m\u001B[0m\n\u001B[0;32m     44\u001B[0m \u001B[1;33m\u001B[0m\u001B[0m\n\u001B[1;32m---> 45\u001B[1;33m         \u001B[0mactions\u001B[0m \u001B[1;33m=\u001B[0m \u001B[0mnp\u001B[0m\u001B[1;33m.\u001B[0m\u001B[0marray\u001B[0m\u001B[1;33m(\u001B[0m\u001B[1;33m[\u001B[0m\u001B[0mself\u001B[0m\u001B[1;33m.\u001B[0m\u001B[0mdiscretized\u001B[0m\u001B[1;33m[\u001B[0m\u001B[0maa\u001B[0m\u001B[1;33m]\u001B[0m \u001B[1;32mfor\u001B[0m \u001B[0maa\u001B[0m \u001B[1;32min\u001B[0m \u001B[0mactions\u001B[0m\u001B[1;33m]\u001B[0m\u001B[1;33m)\u001B[0m\u001B[1;33m\u001B[0m\u001B[1;33m\u001B[0m\u001B[0m\n\u001B[0m\u001B[0;32m     46\u001B[0m \u001B[1;33m\u001B[0m\u001B[0m\n\u001B[0;32m     47\u001B[0m         \u001B[1;31m# actions is an array and contains one action per stock_values\u001B[0m\u001B[1;33m\u001B[0m\u001B[1;33m\u001B[0m\u001B[1;33m\u001B[0m\u001B[0m\n",
      "\u001B[1;32m~\\AppData\\Local\\Temp/ipykernel_8652/2006202877.py\u001B[0m in \u001B[0;36m<listcomp>\u001B[1;34m(.0)\u001B[0m\n\u001B[0;32m     43\u001B[0m           \u001B[1;32mraise\u001B[0m \u001B[0mException\u001B[0m\u001B[1;33m(\u001B[0m\u001B[1;34m\"Episode already done\"\u001B[0m\u001B[1;33m)\u001B[0m\u001B[1;33m\u001B[0m\u001B[1;33m\u001B[0m\u001B[0m\n\u001B[0;32m     44\u001B[0m \u001B[1;33m\u001B[0m\u001B[0m\n\u001B[1;32m---> 45\u001B[1;33m         \u001B[0mactions\u001B[0m \u001B[1;33m=\u001B[0m \u001B[0mnp\u001B[0m\u001B[1;33m.\u001B[0m\u001B[0marray\u001B[0m\u001B[1;33m(\u001B[0m\u001B[1;33m[\u001B[0m\u001B[0mself\u001B[0m\u001B[1;33m.\u001B[0m\u001B[0mdiscretized\u001B[0m\u001B[1;33m[\u001B[0m\u001B[0maa\u001B[0m\u001B[1;33m]\u001B[0m \u001B[1;32mfor\u001B[0m \u001B[0maa\u001B[0m \u001B[1;32min\u001B[0m \u001B[0mactions\u001B[0m\u001B[1;33m]\u001B[0m\u001B[1;33m)\u001B[0m\u001B[1;33m\u001B[0m\u001B[1;33m\u001B[0m\u001B[0m\n\u001B[0m\u001B[0;32m     46\u001B[0m \u001B[1;33m\u001B[0m\u001B[0m\n\u001B[0;32m     47\u001B[0m         \u001B[1;31m# actions is an array and contains one action per stock_values\u001B[0m\u001B[1;33m\u001B[0m\u001B[1;33m\u001B[0m\u001B[1;33m\u001B[0m\u001B[0m\n",
      "\u001B[1;31mAttributeError\u001B[0m: 'MyEnv' object has no attribute 'discretized'"
     ]
    }
   ],
   "source": [
    "train_env = MyEnv(train,test)\n",
    "train_env.reset()\n",
    "train_env.step([0,1,2])"
   ],
   "metadata": {
    "collapsed": false,
    "pycharm": {
     "name": "#%%\n"
    }
   }
  },
  {
   "cell_type": "code",
   "execution_count": 38,
   "outputs": [
    {
     "data": {
      "text/plain": "Date\n2018-01-29   -0.006085\n2018-01-30   -0.029900\n2018-01-31   -0.019301\n2018-02-01    0.002561\n2018-02-02   -0.029065\n                ...   \n2022-01-10   -0.016772\n2022-01-11   -0.009096\n2022-01-12    0.023513\n2022-01-13    0.015830\n2022-01-14   -0.007153\nName: AAP, Length: 1000, dtype: float64"
     },
     "execution_count": 38,
     "metadata": {},
     "output_type": "execute_result"
    }
   ],
   "source": [],
   "metadata": {
    "collapsed": false,
    "pycharm": {
     "name": "#%%\n"
    }
   }
  }
 ],
 "metadata": {
  "kernelspec": {
   "display_name": "Python 3",
   "language": "python",
   "name": "python3"
  },
  "language_info": {
   "codemirror_mode": {
    "name": "ipython",
    "version": 2
   },
   "file_extension": ".py",
   "mimetype": "text/x-python",
   "name": "python",
   "nbconvert_exporter": "python",
   "pygments_lexer": "ipython2",
   "version": "2.7.6"
  }
 },
 "nbformat": 4,
 "nbformat_minor": 0
}