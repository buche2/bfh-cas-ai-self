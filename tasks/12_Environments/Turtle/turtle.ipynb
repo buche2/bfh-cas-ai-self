{
 "cells": [
  {
   "cell_type": "code",
   "execution_count": 1,
   "outputs": [
    {
     "name": "stdout",
     "output_type": "stream",
     "text": [
      "Collecting turtle\n",
      "  Downloading turtle-0.0.2.tar.gz (11 kB)\n",
      "  Downloading turtle-0.0.1.tar.gz (10 kB)\n",
      "Requirement already satisfied: PyYAML>=3.08 in c:\\users\\enrico\\pycharmprojects\\bfh-ai-1\\venv\\lib\\site-packages (from turtle) (6.0)\n",
      "Building wheels for collected packages: turtle\n",
      "  Building wheel for turtle (setup.py): started\n",
      "  Building wheel for turtle (setup.py): finished with status 'done'\n",
      "  Created wheel for turtle: filename=turtle-0.0.1-py3-none-any.whl size=22278 sha256=5ad7c763c593b3b576501170524c5fe6819f333709487a28f7934911aad73ce0\n",
      "  Stored in directory: c:\\users\\enrico\\appdata\\local\\pip\\cache\\wheels\\1a\\8b\\a8\\3def5d06272e9213d7691d137f65864acf0b855c476890874e\n",
      "Successfully built turtle\n",
      "Installing collected packages: turtle\n"
     ]
    },
    {
     "name": "stderr",
     "output_type": "stream",
     "text": [
      "    ERROR: Command errored out with exit status 1:\n",
      "     command: 'C:\\Users\\Enrico\\PycharmProjects\\bfh-ai-1\\venv\\Scripts\\python.exe' -c 'import io, os, sys, setuptools, tokenize; sys.argv[0] = '\"'\"'C:\\\\Users\\\\Enrico\\\\AppData\\\\Local\\\\Temp\\\\pip-install-n2bx1ma6\\\\turtle_cc20a7af178d41afaa8f66a22a25df5d\\\\setup.py'\"'\"'; __file__='\"'\"'C:\\\\Users\\\\Enrico\\\\AppData\\\\Local\\\\Temp\\\\pip-install-n2bx1ma6\\\\turtle_cc20a7af178d41afaa8f66a22a25df5d\\\\setup.py'\"'\"';f = getattr(tokenize, '\"'\"'open'\"'\"', open)(__file__) if os.path.exists(__file__) else io.StringIO('\"'\"'from setuptools import setup; setup()'\"'\"');code = f.read().replace('\"'\"'\\r\\n'\"'\"', '\"'\"'\\n'\"'\"');f.close();exec(compile(code, __file__, '\"'\"'exec'\"'\"'))' egg_info --egg-base 'C:\\Users\\Enrico\\AppData\\Local\\Temp\\pip-pip-egg-info-v0_tu3uo'\n",
      "         cwd: C:\\Users\\Enrico\\AppData\\Local\\Temp\\pip-install-n2bx1ma6\\turtle_cc20a7af178d41afaa8f66a22a25df5d\\\n",
      "    Complete output (6 lines):\n",
      "    Traceback (most recent call last):\n",
      "      File \"<string>\", line 1, in <module>\n",
      "      File \"C:\\Users\\Enrico\\AppData\\Local\\Temp\\pip-install-n2bx1ma6\\turtle_cc20a7af178d41afaa8f66a22a25df5d\\setup.py\", line 40\n",
      "        except ValueError, ve:\n",
      "                         ^\n",
      "    SyntaxError: invalid syntax\n",
      "    ----------------------------------------\n",
      "WARNING: Discarding https://files.pythonhosted.org/packages/ff/f0/21a42e9e424d24bdd0e509d5ed3c7dfb8f47d962d9c044dba903b0b4a26f/turtle-0.0.2.tar.gz#sha256=edff7868ddfeba60cb2dcc3fb2218f29fd042ab697dcac0723e3e16a330979dd (from https://pypi.org/simple/turtle/). Command errored out with exit status 1: python setup.py egg_info Check the logs for full command output.\n",
      "WARNING: You are using pip version 21.1.2; however, version 21.3.1 is available.\n",
      "You should consider upgrading via the 'C:\\Users\\Enrico\\PycharmProjects\\bfh-ai-1\\venv\\Scripts\\python.exe -m pip install --upgrade pip' command.\n"
     ]
    },
    {
     "name": "stdout",
     "output_type": "stream",
     "text": [
      "Successfully installed turtle-0.0.1\n"
     ]
    }
   ],
   "source": [
    "!pip install turtle\n"
   ],
   "metadata": {
    "collapsed": false,
    "pycharm": {
     "name": "#%%\n"
    }
   }
  }
 ],
 "metadata": {
  "kernelspec": {
   "display_name": "Python 3",
   "language": "python",
   "name": "python3"
  },
  "language_info": {
   "codemirror_mode": {
    "name": "ipython",
    "version": 2
   },
   "file_extension": ".py",
   "mimetype": "text/x-python",
   "name": "python",
   "nbconvert_exporter": "python",
   "pygments_lexer": "ipython2",
   "version": "2.7.6"
  }
 },
 "nbformat": 4,
 "nbformat_minor": 0
}