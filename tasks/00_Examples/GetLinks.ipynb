{
 "cells": [
  {
   "cell_type": "markdown",
   "metadata": {
    "collapsed": true,
    "pycharm": {
     "name": "#%% md\n"
    }
   },
   "source": [
    "# how to get links from a homepage"
   ]
  },
  {
   "cell_type": "code",
   "execution_count": 1,
   "outputs": [
    {
     "name": "stdout",
     "output_type": "stream",
     "text": [
      "Requirement already satisfied: requests in c:\\users\\enrico\\anaconda3\\envs\\bfh\\lib\\site-packages (2.27.1)\n",
      "Requirement already satisfied: urllib3<1.27,>=1.21.1 in c:\\users\\enrico\\anaconda3\\envs\\bfh\\lib\\site-packages (from requests) (1.26.8)\n",
      "Requirement already satisfied: idna<4,>=2.5 in c:\\users\\enrico\\anaconda3\\envs\\bfh\\lib\\site-packages (from requests) (3.3)\n",
      "Requirement already satisfied: charset-normalizer~=2.0.0 in c:\\users\\enrico\\anaconda3\\envs\\bfh\\lib\\site-packages (from requests) (2.0.11)\n",
      "Requirement already satisfied: certifi>=2017.4.17 in c:\\users\\enrico\\anaconda3\\envs\\bfh\\lib\\site-packages (from requests) (2021.10.8)\n",
      "Requirement already satisfied: bs4 in c:\\users\\enrico\\anaconda3\\envs\\bfh\\lib\\site-packages (0.0.1)\n",
      "Requirement already satisfied: beautifulsoup4 in c:\\users\\enrico\\anaconda3\\envs\\bfh\\lib\\site-packages (from bs4) (4.10.0)\n",
      "Requirement already satisfied: soupsieve>1.2 in c:\\users\\enrico\\anaconda3\\envs\\bfh\\lib\\site-packages (from beautifulsoup4->bs4) (2.3.1)\n",
      "Requirement already satisfied: html5lib in c:\\users\\enrico\\anaconda3\\envs\\bfh\\lib\\site-packages (1.1)\n",
      "Requirement already satisfied: six>=1.9 in c:\\users\\enrico\\anaconda3\\envs\\bfh\\lib\\site-packages (from html5lib) (1.16.0)\n",
      "Requirement already satisfied: webencodings in c:\\users\\enrico\\anaconda3\\envs\\bfh\\lib\\site-packages (from html5lib) (0.5.1)\n",
      "Requirement already satisfied: lxml in c:\\users\\enrico\\anaconda3\\envs\\bfh\\lib\\site-packages (4.7.1)\n",
      "['/home/', '/ausbildungen/mediamatik/', '/ausbildungen/informatik/', '/ausbildungen/10-ict-schuljahr/', '/kurse/', '/kurse/agb/', '/events/', '/uber-uns/team/', '/uber-uns/stellen/', '/uber-uns/partner/ausbildungspartner/', '/news/', '/kontakt/', '/site-map/', '/impressum/', '/kurse/kurs-info/?courseID=1762', '/kurse/kurs-info/kurs-reg/?courseID=1762', '/kurse/kurs-info/?courseID=1554', '/kurse/kurs-info/kurs-reg/?courseID=1554', '/kurse/kurs-info/?courseID=1561', '/kurse/kurs-info/kurs-reg/?courseID=1561', '/kurse/kurs-info/?courseID=1613', '/kurse/kurs-info/kurs-reg/?courseID=1613', '/kurse/kurs-info/?courseID=1632', '/kurse/kurs-info/kurs-reg/?courseID=1632']\n"
     ]
    }
   ],
   "source": [
    "!pip install requests\n",
    "!pip install bs4\n",
    "!pip install html5lib\n",
    "!pip install lxml\n",
    "import requests\n",
    "import bs4 as bs\n",
    "\n",
    "domain=\"https://bict.ch\"\n",
    "exclude=[\"https\",\"#\",\"mailto\", \".pdf\"]\n",
    "\n",
    "def search_page(url, results):\n",
    "    response = requests.get(url)\n",
    "    #print(url)\n",
    "    soup = bs.BeautifulSoup(response.text, 'lxml')\n",
    "    for link in soup.findAll(\"a\"):\n",
    "        href = link.get(\"href\")\n",
    "        #if \"https://\" not in href and \"#\" not in href:\n",
    "        if not any(map(href.__contains__, exclude)) and len(href) > 1:\n",
    "            if(href not in results):\n",
    "                #print(href)\n",
    "                results.append(href)\n",
    "                search_page(domain+href, results)\n",
    "\n",
    "results = []\n",
    "search_page(domain, results)\n",
    "print(results, sep=\"\\n\")\n",
    "\n"
   ],
   "metadata": {
    "collapsed": false,
    "pycharm": {
     "name": "#%%\n"
    }
   }
  }
 ],
 "metadata": {
  "kernelspec": {
   "display_name": "Python 3",
   "language": "python",
   "name": "python3"
  },
  "language_info": {
   "codemirror_mode": {
    "name": "ipython",
    "version": 2
   },
   "file_extension": ".py",
   "mimetype": "text/x-python",
   "name": "python",
   "nbconvert_exporter": "python",
   "pygments_lexer": "ipython2",
   "version": "2.7.6"
  }
 },
 "nbformat": 4,
 "nbformat_minor": 0
}