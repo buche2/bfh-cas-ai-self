{
 "cells": [
  {
   "cell_type": "markdown",
   "source": [
    "# RCode in Python"
   ],
   "metadata": {
    "collapsed": false
   }
  },
  {
   "cell_type": "code",
   "execution_count": 14,
   "outputs": [
    {
     "ename": "ValueError",
     "evalue": "The system \"%s\" is not supported.",
     "output_type": "error",
     "traceback": [
      "\u001B[1;31m---------------------------------------------------------------------------\u001B[0m",
      "\u001B[1;31mValueError\u001B[0m                                Traceback (most recent call last)",
      "\u001B[1;32m~\\AppData\\Local\\Temp/ipykernel_11888/1935080003.py\u001B[0m in \u001B[0;36m<module>\u001B[1;34m\u001B[0m\n\u001B[1;32m----> 1\u001B[1;33m \u001B[1;32mimport\u001B[0m \u001B[0mrpy2\u001B[0m\u001B[1;33m.\u001B[0m\u001B[0mrobjects\u001B[0m \u001B[1;32mas\u001B[0m \u001B[0mrobjects\u001B[0m\u001B[1;33m\u001B[0m\u001B[1;33m\u001B[0m\u001B[0m\n\u001B[0m\u001B[0;32m      2\u001B[0m \u001B[1;33m\u001B[0m\u001B[0m\n\u001B[0;32m      3\u001B[0m \u001B[0mrobjects\u001B[0m\u001B[1;33m.\u001B[0m\u001B[0mr\u001B[0m\u001B[1;33m.\u001B[0m\u001B[0msource\u001B[0m\u001B[1;33m(\u001B[0m\u001B[1;34m\"sdRplot.R\"\u001B[0m\u001B[1;33m,\u001B[0m \u001B[0mencoding\u001B[0m\u001B[1;33m=\u001B[0m\u001B[1;34m\"utf-8\"\u001B[0m\u001B[1;33m)\u001B[0m\u001B[1;33m\u001B[0m\u001B[1;33m\u001B[0m\u001B[0m\n",
      "\u001B[1;32m~\\.conda\\envs\\bfh\\lib\\site-packages\\rpy2\\robjects\\__init__.py\u001B[0m in \u001B[0;36m<module>\u001B[1;34m\u001B[0m\n\u001B[0;32m     12\u001B[0m \u001B[1;32mimport\u001B[0m \u001B[0mtypes\u001B[0m\u001B[1;33m\u001B[0m\u001B[1;33m\u001B[0m\u001B[0m\n\u001B[0;32m     13\u001B[0m \u001B[1;32mimport\u001B[0m \u001B[0marray\u001B[0m\u001B[1;33m\u001B[0m\u001B[1;33m\u001B[0m\u001B[0m\n\u001B[1;32m---> 14\u001B[1;33m \u001B[1;32mimport\u001B[0m \u001B[0mrpy2\u001B[0m\u001B[1;33m.\u001B[0m\u001B[0mrinterface\u001B[0m \u001B[1;32mas\u001B[0m \u001B[0mrinterface\u001B[0m\u001B[1;33m\u001B[0m\u001B[1;33m\u001B[0m\u001B[0m\n\u001B[0m\u001B[0;32m     15\u001B[0m \u001B[1;32mimport\u001B[0m \u001B[0mrpy2\u001B[0m\u001B[1;33m.\u001B[0m\u001B[0mrlike\u001B[0m\u001B[1;33m.\u001B[0m\u001B[0mcontainer\u001B[0m \u001B[1;32mas\u001B[0m \u001B[0mrlc\u001B[0m\u001B[1;33m\u001B[0m\u001B[1;33m\u001B[0m\u001B[0m\n\u001B[0;32m     16\u001B[0m \u001B[1;33m\u001B[0m\u001B[0m\n",
      "\u001B[1;32m~\\.conda\\envs\\bfh\\lib\\site-packages\\rpy2\\rinterface.py\u001B[0m in \u001B[0;36m<module>\u001B[1;34m\u001B[0m\n\u001B[0;32m      4\u001B[0m \u001B[1;32mimport\u001B[0m \u001B[0mmath\u001B[0m\u001B[1;33m\u001B[0m\u001B[1;33m\u001B[0m\u001B[0m\n\u001B[0;32m      5\u001B[0m \u001B[1;32mimport\u001B[0m \u001B[0mtyping\u001B[0m\u001B[1;33m\u001B[0m\u001B[1;33m\u001B[0m\u001B[0m\n\u001B[1;32m----> 6\u001B[1;33m \u001B[1;32mfrom\u001B[0m \u001B[0mrpy2\u001B[0m\u001B[1;33m.\u001B[0m\u001B[0mrinterface_lib\u001B[0m \u001B[1;32mimport\u001B[0m \u001B[0mopenrlib\u001B[0m\u001B[1;33m\u001B[0m\u001B[1;33m\u001B[0m\u001B[0m\n\u001B[0m\u001B[0;32m      7\u001B[0m \u001B[1;32mimport\u001B[0m \u001B[0mrpy2\u001B[0m\u001B[1;33m.\u001B[0m\u001B[0mrinterface_lib\u001B[0m\u001B[1;33m.\u001B[0m\u001B[0m_rinterface_capi\u001B[0m \u001B[1;32mas\u001B[0m \u001B[0m_rinterface\u001B[0m\u001B[1;33m\u001B[0m\u001B[1;33m\u001B[0m\u001B[0m\n\u001B[0;32m      8\u001B[0m \u001B[1;32mimport\u001B[0m \u001B[0mrpy2\u001B[0m\u001B[1;33m.\u001B[0m\u001B[0mrinterface_lib\u001B[0m\u001B[1;33m.\u001B[0m\u001B[0membedded\u001B[0m \u001B[1;32mas\u001B[0m \u001B[0membedded\u001B[0m\u001B[1;33m\u001B[0m\u001B[1;33m\u001B[0m\u001B[0m\n",
      "\u001B[1;32m~\\.conda\\envs\\bfh\\lib\\site-packages\\rpy2\\rinterface_lib\\openrlib.py\u001B[0m in \u001B[0;36m<module>\u001B[1;34m\u001B[0m\n\u001B[0;32m     21\u001B[0m \u001B[1;33m\u001B[0m\u001B[0m\n\u001B[0;32m     22\u001B[0m \u001B[1;33m\u001B[0m\u001B[0m\n\u001B[1;32m---> 23\u001B[1;33m \u001B[0mrlib\u001B[0m \u001B[1;33m=\u001B[0m \u001B[0m_dlopen_rlib\u001B[0m\u001B[1;33m(\u001B[0m\u001B[0mR_HOME\u001B[0m\u001B[1;33m)\u001B[0m\u001B[1;33m\u001B[0m\u001B[1;33m\u001B[0m\u001B[0m\n\u001B[0m\u001B[0;32m     24\u001B[0m \u001B[1;33m\u001B[0m\u001B[0m\n\u001B[0;32m     25\u001B[0m \u001B[1;33m\u001B[0m\u001B[0m\n",
      "\u001B[1;32m~\\.conda\\envs\\bfh\\lib\\site-packages\\rpy2\\rinterface_lib\\openrlib.py\u001B[0m in \u001B[0;36m_dlopen_rlib\u001B[1;34m(r_home)\u001B[0m\n\u001B[0;32m     16\u001B[0m         raise ValueError('r_home is None. '\n\u001B[0;32m     17\u001B[0m                          'Try python -m rpy2.situation')\n\u001B[1;32m---> 18\u001B[1;33m     \u001B[0mlib_path\u001B[0m \u001B[1;33m=\u001B[0m \u001B[0mrpy2\u001B[0m\u001B[1;33m.\u001B[0m\u001B[0msituation\u001B[0m\u001B[1;33m.\u001B[0m\u001B[0mget_rlib_path\u001B[0m\u001B[1;33m(\u001B[0m\u001B[0mr_home\u001B[0m\u001B[1;33m,\u001B[0m \u001B[0mplatform\u001B[0m\u001B[1;33m.\u001B[0m\u001B[0msystem\u001B[0m\u001B[1;33m(\u001B[0m\u001B[1;33m)\u001B[0m\u001B[1;33m)\u001B[0m\u001B[1;33m\u001B[0m\u001B[1;33m\u001B[0m\u001B[0m\n\u001B[0m\u001B[0;32m     19\u001B[0m     \u001B[0mrlib\u001B[0m \u001B[1;33m=\u001B[0m \u001B[0mffi\u001B[0m\u001B[1;33m.\u001B[0m\u001B[0mdlopen\u001B[0m\u001B[1;33m(\u001B[0m\u001B[0mlib_path\u001B[0m\u001B[1;33m)\u001B[0m\u001B[1;33m\u001B[0m\u001B[1;33m\u001B[0m\u001B[0m\n\u001B[0;32m     20\u001B[0m     \u001B[1;32mreturn\u001B[0m \u001B[0mrlib\u001B[0m\u001B[1;33m\u001B[0m\u001B[1;33m\u001B[0m\u001B[0m\n",
      "\u001B[1;32m~\\.conda\\envs\\bfh\\lib\\site-packages\\rpy2\\situation.py\u001B[0m in \u001B[0;36mget_rlib_path\u001B[1;34m(r_home, system)\u001B[0m\n\u001B[0;32m     70\u001B[0m         \u001B[0mlib_path\u001B[0m \u001B[1;33m=\u001B[0m \u001B[0mos\u001B[0m\u001B[1;33m.\u001B[0m\u001B[0mpath\u001B[0m\u001B[1;33m.\u001B[0m\u001B[0mjoin\u001B[0m\u001B[1;33m(\u001B[0m\u001B[0mr_home\u001B[0m\u001B[1;33m,\u001B[0m \u001B[1;34m'lib'\u001B[0m\u001B[1;33m,\u001B[0m \u001B[1;34m'libR.dylib'\u001B[0m\u001B[1;33m)\u001B[0m\u001B[1;33m\u001B[0m\u001B[1;33m\u001B[0m\u001B[0m\n\u001B[0;32m     71\u001B[0m     \u001B[1;32melse\u001B[0m\u001B[1;33m:\u001B[0m\u001B[1;33m\u001B[0m\u001B[1;33m\u001B[0m\u001B[0m\n\u001B[1;32m---> 72\u001B[1;33m         \u001B[1;32mraise\u001B[0m \u001B[0mValueError\u001B[0m\u001B[1;33m(\u001B[0m\u001B[1;34m'The system \"%s\" is not supported.'\u001B[0m\u001B[1;33m)\u001B[0m\u001B[1;33m\u001B[0m\u001B[1;33m\u001B[0m\u001B[0m\n\u001B[0m\u001B[0;32m     73\u001B[0m     \u001B[1;32mreturn\u001B[0m \u001B[0mlib_path\u001B[0m\u001B[1;33m\u001B[0m\u001B[1;33m\u001B[0m\u001B[0m\n\u001B[0;32m     74\u001B[0m \u001B[1;33m\u001B[0m\u001B[0m\n",
      "\u001B[1;31mValueError\u001B[0m: The system \"%s\" is not supported."
     ]
    }
   ],
   "source": [
    "import rpy2.robjects as robjects\n",
    "\n",
    "robjects.r.source(\"sdRplot.R\", encoding=\"utf-8\")"
   ],
   "metadata": {
    "collapsed": false,
    "pycharm": {
     "name": "#%%\n"
    }
   }
  },
  {
   "cell_type": "code",
   "execution_count": null,
   "outputs": [],
   "source": [],
   "metadata": {
    "collapsed": false,
    "pycharm": {
     "name": "#%%\n"
    }
   }
  }
 ],
 "metadata": {
  "kernelspec": {
   "display_name": "Python 3",
   "language": "python",
   "name": "python3"
  },
  "language_info": {
   "codemirror_mode": {
    "name": "ipython",
    "version": 2
   },
   "file_extension": ".py",
   "mimetype": "text/x-python",
   "name": "python",
   "nbconvert_exporter": "python",
   "pygments_lexer": "ipython2",
   "version": "2.7.6"
  }
 },
 "nbformat": 4,
 "nbformat_minor": 0
}